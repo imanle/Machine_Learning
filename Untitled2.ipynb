{
  "cells": [
    {
      "cell_type": "code",
      "execution_count": 1,
      "metadata": {
        "id": "Ar3Vm9zWrufZ"
      },
      "outputs": [],
      "source": [
        "import pandas as pd\n",
        "import numpy as np\n",
        "import matplotlib.pyplot as plt"
      ]
    },
    {
      "cell_type": "code",
      "execution_count": 2,
      "metadata": {
        "colab": {
          "base_uri": "https://localhost:8080/"
        },
        "id": "Pl8zdzlfn_g2",
        "outputId": "ede6a46b-7409-42fd-8005-00fc70555bc1"
      },
      "outputs": [
        {
          "output_type": "stream",
          "name": "stdout",
          "text": [
            "Mounted at /content/drive\n"
          ]
        }
      ],
      "source": [
        "from google.colab import drive\n",
        "drive.mount('/content/drive')"
      ]
    },
    {
      "cell_type": "code",
      "execution_count": 3,
      "metadata": {
        "colab": {
          "base_uri": "https://localhost:8080/"
        },
        "id": "S2qA9uSuoB4N",
        "outputId": "46d24929-a973-4eca-f92e-80c24bfdb14a"
      },
      "outputs": [
        {
          "output_type": "stream",
          "name": "stderr",
          "text": [
            "<ipython-input-3-1957a1f6b400>:1: DtypeWarning: Columns (8,21) have mixed types. Specify dtype option on import or set low_memory=False.\n",
            "  df = pd.read_csv('/content/drive/MyDrive/261 Project/HIGGS_train.csv',header = None)\n"
          ]
        }
      ],
      "source": [
        "df = pd.read_csv('/content/drive/MyDrive/261 Project/HIGGS_train.csv',header = None)"
      ]
    },
    {
      "cell_type": "code",
      "execution_count": 4,
      "metadata": {
        "colab": {
          "base_uri": "https://localhost:8080/",
          "height": 348
        },
        "id": "Pl6xm374tHUJ",
        "outputId": "58027ef5-6a92-4d7c-e0dc-65d5aaafb252"
      },
      "outputs": [
        {
          "output_type": "execute_result",
          "data": {
            "text/plain": [
              "   label  lepton pT  lepton eta  lepton phi  missing energymagnitude  \\\n",
              "0    1.0      0.869      -0.635       0.226                    0.327   \n",
              "1    1.0      0.908       0.329       0.359                    1.500   \n",
              "2    1.0      0.799       1.470      -1.640                    0.454   \n",
              "3    0.0      1.340      -0.877       0.936                    1.990   \n",
              "4    1.0      1.110       0.321       1.520                    0.883   \n",
              "\n",
              "   missing energy phi  jet 1 pt  jet 1 eta jet 1 phi  jet 1 b-tag  ...  \\\n",
              "0              -0.690     0.754     -0.249     -1.09         0.00  ...   \n",
              "1              -0.313     1.100     -0.558     -1.59         2.17  ...   \n",
              "2               0.426     1.100      1.280      1.38         0.00  ...   \n",
              "3               0.882     1.790     -1.650    -0.942         0.00  ...   \n",
              "4              -1.210     0.681     -1.070    -0.922         0.00  ...   \n",
              "\n",
              "   jet 4 eta  jet 4 phi  jet 4 b-tag   m jj  m jjj   m lv  m jlv   m bb  \\\n",
              "0    -0.0105  -0.045800          3.1  1.350  0.980  0.978  0.920  0.722   \n",
              "1    -1.1400  -0.000819          0.0  0.302  0.833  0.986  0.978  0.780   \n",
              "2     1.1300   0.900000          0.0  0.910  1.110  0.986  0.951  0.803   \n",
              "3    -0.6780  -1.360000          0.0  0.947  1.030  0.999  0.728  0.869   \n",
              "4    -0.3740   0.113000          0.0  0.756  1.360  0.987  0.838  1.130   \n",
              "\n",
              "   m wbb  m wwbb  \n",
              "0  0.989   0.877  \n",
              "1  0.992   0.798  \n",
              "2  0.866   0.780  \n",
              "3  1.030   0.958  \n",
              "4  0.872   0.808  \n",
              "\n",
              "[5 rows x 29 columns]"
            ],
            "text/html": [
              "\n",
              "  <div id=\"df-c6af7f93-ea45-4532-906c-4fb4c24260e6\">\n",
              "    <div class=\"colab-df-container\">\n",
              "      <div>\n",
              "<style scoped>\n",
              "    .dataframe tbody tr th:only-of-type {\n",
              "        vertical-align: middle;\n",
              "    }\n",
              "\n",
              "    .dataframe tbody tr th {\n",
              "        vertical-align: top;\n",
              "    }\n",
              "\n",
              "    .dataframe thead th {\n",
              "        text-align: right;\n",
              "    }\n",
              "</style>\n",
              "<table border=\"1\" class=\"dataframe\">\n",
              "  <thead>\n",
              "    <tr style=\"text-align: right;\">\n",
              "      <th></th>\n",
              "      <th>label</th>\n",
              "      <th>lepton pT</th>\n",
              "      <th>lepton eta</th>\n",
              "      <th>lepton phi</th>\n",
              "      <th>missing energymagnitude</th>\n",
              "      <th>missing energy phi</th>\n",
              "      <th>jet 1 pt</th>\n",
              "      <th>jet 1 eta</th>\n",
              "      <th>jet 1 phi</th>\n",
              "      <th>jet 1 b-tag</th>\n",
              "      <th>...</th>\n",
              "      <th>jet 4 eta</th>\n",
              "      <th>jet 4 phi</th>\n",
              "      <th>jet 4 b-tag</th>\n",
              "      <th>m jj</th>\n",
              "      <th>m jjj</th>\n",
              "      <th>m lv</th>\n",
              "      <th>m jlv</th>\n",
              "      <th>m bb</th>\n",
              "      <th>m wbb</th>\n",
              "      <th>m wwbb</th>\n",
              "    </tr>\n",
              "  </thead>\n",
              "  <tbody>\n",
              "    <tr>\n",
              "      <th>0</th>\n",
              "      <td>1.0</td>\n",
              "      <td>0.869</td>\n",
              "      <td>-0.635</td>\n",
              "      <td>0.226</td>\n",
              "      <td>0.327</td>\n",
              "      <td>-0.690</td>\n",
              "      <td>0.754</td>\n",
              "      <td>-0.249</td>\n",
              "      <td>-1.09</td>\n",
              "      <td>0.00</td>\n",
              "      <td>...</td>\n",
              "      <td>-0.0105</td>\n",
              "      <td>-0.045800</td>\n",
              "      <td>3.1</td>\n",
              "      <td>1.350</td>\n",
              "      <td>0.980</td>\n",
              "      <td>0.978</td>\n",
              "      <td>0.920</td>\n",
              "      <td>0.722</td>\n",
              "      <td>0.989</td>\n",
              "      <td>0.877</td>\n",
              "    </tr>\n",
              "    <tr>\n",
              "      <th>1</th>\n",
              "      <td>1.0</td>\n",
              "      <td>0.908</td>\n",
              "      <td>0.329</td>\n",
              "      <td>0.359</td>\n",
              "      <td>1.500</td>\n",
              "      <td>-0.313</td>\n",
              "      <td>1.100</td>\n",
              "      <td>-0.558</td>\n",
              "      <td>-1.59</td>\n",
              "      <td>2.17</td>\n",
              "      <td>...</td>\n",
              "      <td>-1.1400</td>\n",
              "      <td>-0.000819</td>\n",
              "      <td>0.0</td>\n",
              "      <td>0.302</td>\n",
              "      <td>0.833</td>\n",
              "      <td>0.986</td>\n",
              "      <td>0.978</td>\n",
              "      <td>0.780</td>\n",
              "      <td>0.992</td>\n",
              "      <td>0.798</td>\n",
              "    </tr>\n",
              "    <tr>\n",
              "      <th>2</th>\n",
              "      <td>1.0</td>\n",
              "      <td>0.799</td>\n",
              "      <td>1.470</td>\n",
              "      <td>-1.640</td>\n",
              "      <td>0.454</td>\n",
              "      <td>0.426</td>\n",
              "      <td>1.100</td>\n",
              "      <td>1.280</td>\n",
              "      <td>1.38</td>\n",
              "      <td>0.00</td>\n",
              "      <td>...</td>\n",
              "      <td>1.1300</td>\n",
              "      <td>0.900000</td>\n",
              "      <td>0.0</td>\n",
              "      <td>0.910</td>\n",
              "      <td>1.110</td>\n",
              "      <td>0.986</td>\n",
              "      <td>0.951</td>\n",
              "      <td>0.803</td>\n",
              "      <td>0.866</td>\n",
              "      <td>0.780</td>\n",
              "    </tr>\n",
              "    <tr>\n",
              "      <th>3</th>\n",
              "      <td>0.0</td>\n",
              "      <td>1.340</td>\n",
              "      <td>-0.877</td>\n",
              "      <td>0.936</td>\n",
              "      <td>1.990</td>\n",
              "      <td>0.882</td>\n",
              "      <td>1.790</td>\n",
              "      <td>-1.650</td>\n",
              "      <td>-0.942</td>\n",
              "      <td>0.00</td>\n",
              "      <td>...</td>\n",
              "      <td>-0.6780</td>\n",
              "      <td>-1.360000</td>\n",
              "      <td>0.0</td>\n",
              "      <td>0.947</td>\n",
              "      <td>1.030</td>\n",
              "      <td>0.999</td>\n",
              "      <td>0.728</td>\n",
              "      <td>0.869</td>\n",
              "      <td>1.030</td>\n",
              "      <td>0.958</td>\n",
              "    </tr>\n",
              "    <tr>\n",
              "      <th>4</th>\n",
              "      <td>1.0</td>\n",
              "      <td>1.110</td>\n",
              "      <td>0.321</td>\n",
              "      <td>1.520</td>\n",
              "      <td>0.883</td>\n",
              "      <td>-1.210</td>\n",
              "      <td>0.681</td>\n",
              "      <td>-1.070</td>\n",
              "      <td>-0.922</td>\n",
              "      <td>0.00</td>\n",
              "      <td>...</td>\n",
              "      <td>-0.3740</td>\n",
              "      <td>0.113000</td>\n",
              "      <td>0.0</td>\n",
              "      <td>0.756</td>\n",
              "      <td>1.360</td>\n",
              "      <td>0.987</td>\n",
              "      <td>0.838</td>\n",
              "      <td>1.130</td>\n",
              "      <td>0.872</td>\n",
              "      <td>0.808</td>\n",
              "    </tr>\n",
              "  </tbody>\n",
              "</table>\n",
              "<p>5 rows × 29 columns</p>\n",
              "</div>\n",
              "      <button class=\"colab-df-convert\" onclick=\"convertToInteractive('df-c6af7f93-ea45-4532-906c-4fb4c24260e6')\"\n",
              "              title=\"Convert this dataframe to an interactive table.\"\n",
              "              style=\"display:none;\">\n",
              "        \n",
              "  <svg xmlns=\"http://www.w3.org/2000/svg\" height=\"24px\"viewBox=\"0 0 24 24\"\n",
              "       width=\"24px\">\n",
              "    <path d=\"M0 0h24v24H0V0z\" fill=\"none\"/>\n",
              "    <path d=\"M18.56 5.44l.94 2.06.94-2.06 2.06-.94-2.06-.94-.94-2.06-.94 2.06-2.06.94zm-11 1L8.5 8.5l.94-2.06 2.06-.94-2.06-.94L8.5 2.5l-.94 2.06-2.06.94zm10 10l.94 2.06.94-2.06 2.06-.94-2.06-.94-.94-2.06-.94 2.06-2.06.94z\"/><path d=\"M17.41 7.96l-1.37-1.37c-.4-.4-.92-.59-1.43-.59-.52 0-1.04.2-1.43.59L10.3 9.45l-7.72 7.72c-.78.78-.78 2.05 0 2.83L4 21.41c.39.39.9.59 1.41.59.51 0 1.02-.2 1.41-.59l7.78-7.78 2.81-2.81c.8-.78.8-2.07 0-2.86zM5.41 20L4 18.59l7.72-7.72 1.47 1.35L5.41 20z\"/>\n",
              "  </svg>\n",
              "      </button>\n",
              "      \n",
              "  <style>\n",
              "    .colab-df-container {\n",
              "      display:flex;\n",
              "      flex-wrap:wrap;\n",
              "      gap: 12px;\n",
              "    }\n",
              "\n",
              "    .colab-df-convert {\n",
              "      background-color: #E8F0FE;\n",
              "      border: none;\n",
              "      border-radius: 50%;\n",
              "      cursor: pointer;\n",
              "      display: none;\n",
              "      fill: #1967D2;\n",
              "      height: 32px;\n",
              "      padding: 0 0 0 0;\n",
              "      width: 32px;\n",
              "    }\n",
              "\n",
              "    .colab-df-convert:hover {\n",
              "      background-color: #E2EBFA;\n",
              "      box-shadow: 0px 1px 2px rgba(60, 64, 67, 0.3), 0px 1px 3px 1px rgba(60, 64, 67, 0.15);\n",
              "      fill: #174EA6;\n",
              "    }\n",
              "\n",
              "    [theme=dark] .colab-df-convert {\n",
              "      background-color: #3B4455;\n",
              "      fill: #D2E3FC;\n",
              "    }\n",
              "\n",
              "    [theme=dark] .colab-df-convert:hover {\n",
              "      background-color: #434B5C;\n",
              "      box-shadow: 0px 1px 3px 1px rgba(0, 0, 0, 0.15);\n",
              "      filter: drop-shadow(0px 1px 2px rgba(0, 0, 0, 0.3));\n",
              "      fill: #FFFFFF;\n",
              "    }\n",
              "  </style>\n",
              "\n",
              "      <script>\n",
              "        const buttonEl =\n",
              "          document.querySelector('#df-c6af7f93-ea45-4532-906c-4fb4c24260e6 button.colab-df-convert');\n",
              "        buttonEl.style.display =\n",
              "          google.colab.kernel.accessAllowed ? 'block' : 'none';\n",
              "\n",
              "        async function convertToInteractive(key) {\n",
              "          const element = document.querySelector('#df-c6af7f93-ea45-4532-906c-4fb4c24260e6');\n",
              "          const dataTable =\n",
              "            await google.colab.kernel.invokeFunction('convertToInteractive',\n",
              "                                                     [key], {});\n",
              "          if (!dataTable) return;\n",
              "\n",
              "          const docLinkHtml = 'Like what you see? Visit the ' +\n",
              "            '<a target=\"_blank\" href=https://colab.research.google.com/notebooks/data_table.ipynb>data table notebook</a>'\n",
              "            + ' to learn more about interactive tables.';\n",
              "          element.innerHTML = '';\n",
              "          dataTable['output_type'] = 'display_data';\n",
              "          await google.colab.output.renderOutput(dataTable, element);\n",
              "          const docLink = document.createElement('div');\n",
              "          docLink.innerHTML = docLinkHtml;\n",
              "          element.appendChild(docLink);\n",
              "        }\n",
              "      </script>\n",
              "    </div>\n",
              "  </div>\n",
              "  "
            ]
          },
          "metadata": {},
          "execution_count": 4
        }
      ],
      "source": [
        "df.columns=[\"label\",\"lepton pT\", \"lepton eta\", \"lepton phi\", \"missing energy\"\n",
        "\"magnitude\", \"missing energy phi\", \"jet 1 pt\", \"jet 1 eta\", \"jet 1 phi\", \"jet 1 b-tag\", \"jet 2 pt\", \"jet 2 eta\", \"jet 2 phi\", \"jet 2 b-tag\", \"jet 3 pt\", \"jet 3 eta\", \"jet 3 phi\", \"jet 3 b-tag\", \"jet 4 pt\", \"jet 4 eta\", \"jet 4 phi\", \"jet 4 b-tag\", \"m jj\", \"m jjj\", \"m lv\", \"m jlv\",\" m bb\", \"m wbb\", \"m wwbb\"]\n",
        "df.head()"
      ]
    },
    {
      "cell_type": "code",
      "execution_count": 5,
      "metadata": {
        "colab": {
          "base_uri": "https://localhost:8080/"
        },
        "id": "IQVZoGlwtMR6",
        "outputId": "8830e1b0-9174-4869-90fc-688ee4b4229e"
      },
      "outputs": [
        {
          "output_type": "execute_result",
          "data": {
            "text/plain": [
              "label                      float64\n",
              "lepton pT                  float64\n",
              "lepton eta                 float64\n",
              "lepton phi                 float64\n",
              "missing energymagnitude    float64\n",
              "missing energy phi         float64\n",
              "jet 1 pt                   float64\n",
              "jet 1 eta                  float64\n",
              "jet 1 phi                   object\n",
              "jet 1 b-tag                float64\n",
              "jet 2 pt                   float64\n",
              "jet 2 eta                  float64\n",
              "jet 2 phi                  float64\n",
              "jet 2 b-tag                float64\n",
              "jet 3 pt                   float64\n",
              "jet 3 eta                  float64\n",
              "jet 3 phi                  float64\n",
              "jet 3 b-tag                float64\n",
              "jet 4 pt                   float64\n",
              "jet 4 eta                  float64\n",
              "jet 4 phi                  float64\n",
              "jet 4 b-tag                 object\n",
              "m jj                       float64\n",
              "m jjj                      float64\n",
              "m lv                       float64\n",
              "m jlv                      float64\n",
              " m bb                      float64\n",
              "m wbb                      float64\n",
              "m wwbb                     float64\n",
              "dtype: object"
            ]
          },
          "metadata": {},
          "execution_count": 5
        }
      ],
      "source": [
        "#confirming that all values are numerical\n",
        "df.dtypes"
      ]
    },
    {
      "cell_type": "markdown",
      "metadata": {
        "id": "SrNTmSF_xlYe"
      },
      "source": [
        "We can observe that some of the columns have a datatype object and not float."
      ]
    },
    {
      "cell_type": "code",
      "execution_count": 6,
      "metadata": {
        "colab": {
          "base_uri": "https://localhost:8080/"
        },
        "id": "JIoDT25cx-Ho",
        "outputId": "db1a255a-665f-48a2-98db-08eb5a3da764"
      },
      "outputs": [
        {
          "output_type": "execute_result",
          "data": {
            "text/plain": [
              "array([-1.09, -1.59, 1.38, ..., '3.50E-01', '-6.59E-03', '\"1.01\"'],\n",
              "      dtype=object)"
            ]
          },
          "metadata": {},
          "execution_count": 6
        }
      ],
      "source": [
        "df[\"jet 1 phi\"].unique()\n",
        "#we realize that some values are written as strings and not floats"
      ]
    },
    {
      "cell_type": "code",
      "execution_count": 7,
      "metadata": {
        "colab": {
          "base_uri": "https://localhost:8080/"
        },
        "id": "7cXOCrVz0C2K",
        "outputId": "1f036106-1f5e-47dd-f1be-6993e5e156e4"
      },
      "outputs": [
        {
          "output_type": "execute_result",
          "data": {
            "text/plain": [
              "4614"
            ]
          },
          "metadata": {},
          "execution_count": 7
        }
      ],
      "source": [
        "df[\"jet 1 phi\"].nunique()"
      ]
    },
    {
      "cell_type": "code",
      "execution_count": 8,
      "metadata": {
        "id": "jjORCXlV2zTG"
      },
      "outputs": [],
      "source": [
        "df['jet 1 phi'] = df['jet 1 phi'].replace(['\"1.01\"'], 1.01)\n"
      ]
    },
    {
      "cell_type": "code",
      "execution_count": 9,
      "metadata": {
        "colab": {
          "base_uri": "https://localhost:8080/"
        },
        "id": "_QnzLvdF4iLx",
        "outputId": "9b20e1bc-dfba-4dd1-f583-4a8b6b30d672"
      },
      "outputs": [
        {
          "output_type": "execute_result",
          "data": {
            "text/plain": [
              "4613"
            ]
          },
          "metadata": {},
          "execution_count": 9
        }
      ],
      "source": [
        "df[\"jet 1 phi\"].nunique()"
      ]
    },
    {
      "cell_type": "code",
      "execution_count": 10,
      "metadata": {
        "colab": {
          "base_uri": "https://localhost:8080/"
        },
        "id": "VPHogl4dyvDf",
        "outputId": "3aed2730-ef62-48cc-b262-24d7046e47a6"
      },
      "outputs": [
        {
          "output_type": "execute_result",
          "data": {
            "text/plain": [
              "array([3.1, 0.0, 1.55, '0.00E+00', '3.10E+00', '1.55E+00', 'error', 's'],\n",
              "      dtype=object)"
            ]
          },
          "metadata": {},
          "execution_count": 10
        }
      ],
      "source": [
        "df[\"jet 4 b-tag\"].unique()\n",
        "#we realize that some values are written as strings and not floats , we also have the string error and s"
      ]
    },
    {
      "cell_type": "code",
      "execution_count": 11,
      "metadata": {
        "colab": {
          "base_uri": "https://localhost:8080/"
        },
        "id": "6RmAeQlr0Iaf",
        "outputId": "c90a6a73-243a-47e8-e30a-add2bc2e217f"
      },
      "outputs": [
        {
          "output_type": "execute_result",
          "data": {
            "text/plain": [
              "8"
            ]
          },
          "metadata": {},
          "execution_count": 11
        }
      ],
      "source": [
        "df[\"jet 4 b-tag\"].nunique()"
      ]
    },
    {
      "cell_type": "code",
      "execution_count": 12,
      "metadata": {
        "id": "xOKyJ_P_6DOo"
      },
      "outputs": [],
      "source": [
        "df.drop(df[df[\"jet 4 b-tag\"]==\"error\"].index,inplace=True)\n",
        "df.drop(df[df[\"jet 4 b-tag\"]==\"s\"].index,inplace=True)\n"
      ]
    },
    {
      "cell_type": "code",
      "execution_count": 13,
      "metadata": {
        "id": "mWNnznKZ8Fgs"
      },
      "outputs": [],
      "source": [
        "df = df.apply(pd.to_numeric)"
      ]
    },
    {
      "cell_type": "code",
      "execution_count": 14,
      "metadata": {
        "colab": {
          "base_uri": "https://localhost:8080/"
        },
        "id": "TtT8zxlvzn9t",
        "outputId": "d24431a7-aaf7-4448-822e-165543d4b60a"
      },
      "outputs": [
        {
          "output_type": "execute_result",
          "data": {
            "text/plain": [
              "label                      float64\n",
              "lepton pT                  float64\n",
              "lepton eta                 float64\n",
              "lepton phi                 float64\n",
              "missing energymagnitude    float64\n",
              "missing energy phi         float64\n",
              "jet 1 pt                   float64\n",
              "jet 1 eta                  float64\n",
              "jet 1 phi                  float64\n",
              "jet 1 b-tag                float64\n",
              "jet 2 pt                   float64\n",
              "jet 2 eta                  float64\n",
              "jet 2 phi                  float64\n",
              "jet 2 b-tag                float64\n",
              "jet 3 pt                   float64\n",
              "jet 3 eta                  float64\n",
              "jet 3 phi                  float64\n",
              "jet 3 b-tag                float64\n",
              "jet 4 pt                   float64\n",
              "jet 4 eta                  float64\n",
              "jet 4 phi                  float64\n",
              "jet 4 b-tag                float64\n",
              "m jj                       float64\n",
              "m jjj                      float64\n",
              "m lv                       float64\n",
              "m jlv                      float64\n",
              " m bb                      float64\n",
              "m wbb                      float64\n",
              "m wwbb                     float64\n",
              "dtype: object"
            ]
          },
          "metadata": {},
          "execution_count": 14
        }
      ],
      "source": [
        "df.dtypes"
      ]
    },
    {
      "cell_type": "code",
      "execution_count": 15,
      "metadata": {
        "colab": {
          "base_uri": "https://localhost:8080/"
        },
        "id": "cdPvwqzNzuEF",
        "outputId": "dc480bb0-cf69-4969-9bc0-940d030f6de9"
      },
      "outputs": [
        {
          "output_type": "execute_result",
          "data": {
            "text/plain": [
              "2311"
            ]
          },
          "metadata": {},
          "execution_count": 15
        }
      ],
      "source": [
        "df[\"jet 1 phi\"].nunique()"
      ]
    },
    {
      "cell_type": "code",
      "execution_count": 16,
      "metadata": {
        "colab": {
          "base_uri": "https://localhost:8080/"
        },
        "id": "Iwoxjn_10Pfi",
        "outputId": "78b90a08-2968-411b-b38b-5e52302b9b55"
      },
      "outputs": [
        {
          "output_type": "execute_result",
          "data": {
            "text/plain": [
              "3"
            ]
          },
          "metadata": {},
          "execution_count": 16
        }
      ],
      "source": [
        "df[\"jet 4 b-tag\"].nunique()"
      ]
    },
    {
      "cell_type": "code",
      "execution_count": 17,
      "metadata": {
        "colab": {
          "base_uri": "https://localhost:8080/"
        },
        "id": "boZB8lf_yuDS",
        "outputId": "dee0b21d-703e-4d10-8328-cbab455d1c55"
      },
      "outputs": [
        {
          "output_type": "stream",
          "name": "stdout",
          "text": [
            "column label: 0, 0.00%\n",
            "column lepton pT: 0, 0.00%\n",
            "column lepton eta: 0, 0.00%\n",
            "column lepton phi: 0, 0.00%\n",
            "column missing energymagnitude: 0, 0.00%\n",
            "column missing energy phi: 0, 0.00%\n",
            "column jet 1 pt: 0, 0.00%\n",
            "column jet 1 eta: 0, 0.00%\n",
            "column jet 1 phi: 0, 0.00%\n",
            "column jet 1 b-tag: 0, 0.00%\n",
            "column jet 2 pt: 0, 0.00%\n",
            "column jet 2 eta: 0, 0.00%\n",
            "column jet 2 phi: 0, 0.00%\n",
            "column jet 2 b-tag: 0, 0.00%\n",
            "column jet 3 pt: 0, 0.00%\n",
            "column jet 3 eta: 0, 0.00%\n",
            "column jet 3 phi: 0, 0.00%\n",
            "column jet 3 b-tag: 1, 0.00%\n",
            "column jet 4 pt: 0, 0.00%\n",
            "column jet 4 eta: 0, 0.00%\n",
            "column jet 4 phi: 0, 0.00%\n",
            "column jet 4 b-tag: 0, 0.00%\n",
            "column m jj: 0, 0.00%\n",
            "column m jjj: 0, 0.00%\n",
            "column m lv: 0, 0.00%\n",
            "column m jlv: 0, 0.00%\n",
            "column  m bb: 0, 0.00%\n",
            "column m wbb: 0, 0.00%\n",
            "column m wwbb: 0, 0.00%\n"
          ]
        }
      ],
      "source": [
        "#First we will check how many missing values there are in every column\n",
        "for col in df.columns:\n",
        "    num = df[col].isna().sum()\n",
        "    percentage = num / df.shape[0] * 100\n",
        "    print('column {}: {}, {:.2f}%'.format(col, num, percentage))\n",
        "#the data has no missing values "
      ]
    },
    {
      "cell_type": "code",
      "execution_count": 18,
      "metadata": {
        "id": "WJJI2VHtLh3r"
      },
      "outputs": [],
      "source": [
        "#we drop the na in the data since there is only 1 value that is na (in column jet 3 b-tag)\n",
        "df=df.dropna()"
      ]
    },
    {
      "cell_type": "code",
      "execution_count": 19,
      "metadata": {
        "colab": {
          "base_uri": "https://localhost:8080/"
        },
        "id": "b8vLK8whAYUm",
        "outputId": "d49149fe-f645-4463-c1b1-864d74fc5422"
      },
      "outputs": [
        {
          "output_type": "stream",
          "name": "stdout",
          "text": [
            "(599997, 28)\n",
            "(599997, 1)\n"
          ]
        }
      ],
      "source": [
        "X = df.loc[:, df.columns != 'label']\n",
        "y = df.loc[:, df.columns == 'label']\n",
        "print(X.shape)\n",
        "print(y.shape)"
      ]
    },
    {
      "cell_type": "code",
      "execution_count": 20,
      "metadata": {
        "id": "FCd9PUEHxpHn"
      },
      "outputs": [],
      "source": [
        "# for K-fold cross validation\n",
        "X_cv=X\n",
        "y_cv=y"
      ]
    },
    {
      "cell_type": "code",
      "execution_count": 21,
      "metadata": {
        "colab": {
          "base_uri": "https://localhost:8080/",
          "height": 650
        },
        "id": "k5ecsyJwBVPy",
        "outputId": "9bad8558-2fc5-49f4-e5bf-e4abc72a3048"
      },
      "outputs": [
        {
          "output_type": "display_data",
          "data": {
            "text/plain": [
              "<Figure size 1600x1000 with 30 Axes>"
            ],
            "image/png": "[encoded data removed]"
          },
          "metadata": {}
        }
      ],
      "source": [
        "fig = X.hist()\n",
        "fig = plt.gcf()\n",
        "fig.set_size_inches(16, 10)\n",
        "plt.tight_layout()\n"
      ]
    },
    {
      "cell_type": "markdown",
      "metadata": {
        "id": "Ue4sSqB3D58J"
      },
      "source": [
        "we observe that some of the columns aren't gaussian .Our model would perform better if the distributions were more gaussian"
      ]
    },
    {
      "cell_type": "code",
      "execution_count": 22,
      "metadata": {
        "id": "IvSDQEY-GqAu"
      },
      "outputs": [],
      "source": [
        "from sklearn.preprocessing import PowerTransformer\n",
        "from sklearn.pipeline import Pipeline\n",
        "from sklearn.preprocessing import StandardScaler\n",
        "#we applied a yeo-johnson transformation because it permits negative numbers, which are abundant in our dataset\n",
        "pipe = Pipeline(steps=[('scaler', StandardScaler()),('yeo-johnson', PowerTransformer(method='yeo-johnson'))])\n",
        "\n",
        "X_trans= pipe.fit_transform(X)\n",
        "\n",
        "X = pd.DataFrame(X_trans,columns=X.columns)"
      ]
    },
    {
      "cell_type": "code",
      "execution_count": 23,
      "metadata": {
        "colab": {
          "base_uri": "https://localhost:8080/",
          "height": 650
        },
        "id": "sY0XH_4NIVWn",
        "outputId": "a720b9ff-bf00-45a9-a709-f98dd600e5cc"
      },
      "outputs": [
        {
          "output_type": "display_data",
          "data": {
            "text/plain": [
              "<Figure size 1600x1000 with 30 Axes>"
            ],
            "image/png": "[encoded data removed]"
          },
          "metadata": {}
        }
      ],
      "source": [
        "fig = X.hist()\n",
        "fig = plt.gcf()\n",
        "fig.set_size_inches(16, 10)\n",
        "plt.tight_layout()"
      ]
    },
    {
      "cell_type": "code",
      "execution_count": 32,
      "metadata": {
        "colab": {
          "base_uri": "https://localhost:8080/"
        },
        "id": "7Gs44mhJIgWA",
        "outputId": "2bb753dc-ce71-40a2-8831-ebc150895004"
      },
      "outputs": [
        {
          "output_type": "stream",
          "name": "stdout",
          "text": [
            "(479997, 28)\n",
            "(479997, 1)\n",
            "(120000, 28)\n",
            "(120000, 1)\n"
          ]
        }
      ],
      "source": [
        "from sklearn.model_selection import train_test_split\n",
        "\n",
        "X_train, X_test, y_train, y_test = train_test_split(X, y, test_size=0.2, random_state=42)\n",
        "\n",
        "print(X_train.shape)\n",
        "print(y_train.shape)\n",
        "print(X_test.shape)\n",
        "print(y_test.shape)"
      ]
    },
    {
      "cell_type": "code",
      "execution_count": null,
      "metadata": {
        "colab": {
          "base_uri": "https://localhost:8080/"
        },
        "id": "XJ4WS37XxESS",
        "outputId": "42713685-a564-4125-8820-c9c6012256bd"
      },
      "outputs": [
        {
          "name": "stdout",
          "output_type": "stream",
          "text": [
            "3750/3750 [==============================] - 16s 3ms/step - loss: 0.7146 - accuracy: 0.6091\n"
          ]
        },
        {
          "data": {
            "text/plain": [
              "[0.7145968675613403, 0.6091416478157043]"
            ]
          },
          "execution_count": 16,
          "metadata": {},
          "output_type": "execute_result"
        }
      ],
      "source": [
        "import pickle\n",
        "file = open('modeltest','rb')\n",
        "modeltest = pickle.load(file)\n",
        "file.close()\n",
        "\n",
        "modeltest.evaluate(X_test,y_test)\n",
        "\n"
      ]
    },
    {
      "cell_type": "code",
      "execution_count": null,
      "metadata": {
        "colab": {
          "base_uri": "https://localhost:8080/"
        },
        "id": "weGmcTegJrRr",
        "outputId": "930f0aec-2630-4da8-cb46-9188c68bd7cf"
      },
      "outputs": [
        {
          "output_type": "stream",
          "name": "stderr",
          "text": [
            "/usr/local/lib/python3.9/dist-packages/numpy/core/fromnumeric.py:3472: FutureWarning: In a future version, DataFrame.mean(axis=None) will return a scalar mean over the entire DataFrame. To retain the old behavior, use 'frame.mean(axis=0)' or just 'frame.mean()'\n",
            "  return mean(axis=axis, dtype=dtype, out=out, **kwargs)\n"
          ]
        },
        {
          "output_type": "execute_result",
          "data": {
            "text/plain": [
              "label    0.528983\n",
              "dtype: float64"
            ]
          },
          "metadata": {},
          "execution_count": 24
        }
      ],
      "source": [
        "#check if the split is stratified\n",
        "np.mean(y_train)\n"
      ]
    },
    {
      "cell_type": "code",
      "execution_count": null,
      "metadata": {
        "colab": {
          "base_uri": "https://localhost:8080/"
        },
        "id": "efshLoh5J3h0",
        "outputId": "c34539bf-b808-40c8-bcd7-c04f49b5054b"
      },
      "outputs": [
        {
          "output_type": "execute_result",
          "data": {
            "text/plain": [
              "label    0.533286\n",
              "dtype: float64"
            ]
          },
          "metadata": {},
          "execution_count": 25
        }
      ],
      "source": [
        "np.mean(y_test)"
      ]
    },
    {
      "cell_type": "code",
      "execution_count": null,
      "metadata": {
        "colab": {
          "base_uri": "https://localhost:8080/"
        },
        "id": "3mKJLPOYJ7tJ",
        "outputId": "d13a61d6-18d9-4041-913a-12fd5d0f594e"
      },
      "outputs": [
        {
          "name": "stderr",
          "output_type": "stream",
          "text": [
            "/usr/local/lib/python3.9/dist-packages/sklearn/utils/validation.py:1143: DataConversionWarning: A column-vector y was passed when a 1d array was expected. Please change the shape of y to (n_samples, ), for example using ravel().\n",
            "  y = column_or_1d(y, warn=True)\n"
          ]
        },
        {
          "name": "stdout",
          "output_type": "stream",
          "text": [
            "0.6375\n"
          ]
        }
      ],
      "source": [
        "from sklearn.linear_model import LogisticRegression\n",
        "from sklearn.metrics import accuracy_score\n",
        "model1 = LogisticRegression()\n",
        "model1.fit(X_train, y_train)\n",
        "y_pred=model1.predict(X_test)\n",
        "print(accuracy_score(y_test,y_pred))\n"
      ]
    },
    {
      "cell_type": "code",
      "execution_count": null,
      "metadata": {
        "colab": {
          "base_uri": "https://localhost:8080/",
          "height": 446
        },
        "id": "9XcLGMNLMA-m",
        "outputId": "444e5f50-a3ad-4932-d746-046a6ac607de"
      },
      "outputs": [
        {
          "name": "stderr",
          "output_type": "stream",
          "text": [
            "<ipython-input-35-d1965496127a>:3: DataConversionWarning: A column-vector y was passed when a 1d array was expected. Please change the shape of y to (n_samples,), for example using ravel().\n",
            "  model2.fit(X_train, y_train)\n"
          ]
        },
        {
          "ename": "KeyboardInterrupt",
          "evalue": "ignored",
          "output_type": "error",
          "traceback": [
            "\u001b[0;31m---------------------------------------------------------------------------\u001b[0m",
            "\u001b[0;31mKeyboardInterrupt\u001b[0m                         Traceback (most recent call last)",
            "\u001b[0;32m<ipython-input-35-d1965496127a>\u001b[0m in \u001b[0;36m<module>\u001b[0;34m\u001b[0m\n\u001b[1;32m      1\u001b[0m \u001b[0;32mfrom\u001b[0m \u001b[0msklearn\u001b[0m\u001b[0;34m.\u001b[0m\u001b[0mensemble\u001b[0m \u001b[0;32mimport\u001b[0m \u001b[0mRandomForestClassifier\u001b[0m\u001b[0;34m\u001b[0m\u001b[0;34m\u001b[0m\u001b[0m\n\u001b[1;32m      2\u001b[0m \u001b[0mmodel2\u001b[0m \u001b[0;34m=\u001b[0m \u001b[0mRandomForestClassifier\u001b[0m\u001b[0;34m(\u001b[0m\u001b[0;34m)\u001b[0m\u001b[0;34m\u001b[0m\u001b[0;34m\u001b[0m\u001b[0m\n\u001b[0;32m----> 3\u001b[0;31m \u001b[0mmodel2\u001b[0m\u001b[0;34m.\u001b[0m\u001b[0mfit\u001b[0m\u001b[0;34m(\u001b[0m\u001b[0mX_train\u001b[0m\u001b[0;34m,\u001b[0m \u001b[0my_train\u001b[0m\u001b[0;34m)\u001b[0m\u001b[0;34m\u001b[0m\u001b[0;34m\u001b[0m\u001b[0m\n\u001b[0m\u001b[1;32m      4\u001b[0m \u001b[0my_pred\u001b[0m\u001b[0;34m=\u001b[0m\u001b[0mmodel2\u001b[0m\u001b[0;34m.\u001b[0m\u001b[0mpredict\u001b[0m\u001b[0;34m(\u001b[0m\u001b[0mX_test\u001b[0m\u001b[0;34m)\u001b[0m\u001b[0;34m\u001b[0m\u001b[0;34m\u001b[0m\u001b[0m\n\u001b[1;32m      5\u001b[0m \u001b[0mprint\u001b[0m\u001b[0;34m(\u001b[0m\u001b[0maccuracy_score\u001b[0m\u001b[0;34m(\u001b[0m\u001b[0my_test\u001b[0m\u001b[0;34m,\u001b[0m\u001b[0my_pred\u001b[0m\u001b[0;34m)\u001b[0m\u001b[0;34m)\u001b[0m\u001b[0;34m\u001b[0m\u001b[0;34m\u001b[0m\u001b[0m\n",
            "\u001b[0;32m/usr/local/lib/python3.9/dist-packages/sklearn/ensemble/_forest.py\u001b[0m in \u001b[0;36mfit\u001b[0;34m(self, X, y, sample_weight)\u001b[0m\n\u001b[1;32m    471\u001b[0m             \u001b[0;31m# parallel_backend contexts set at a higher level,\u001b[0m\u001b[0;34m\u001b[0m\u001b[0;34m\u001b[0m\u001b[0m\n\u001b[1;32m    472\u001b[0m             \u001b[0;31m# since correctness does not rely on using threads.\u001b[0m\u001b[0;34m\u001b[0m\u001b[0;34m\u001b[0m\u001b[0m\n\u001b[0;32m--> 473\u001b[0;31m             trees = Parallel(\n\u001b[0m\u001b[1;32m    474\u001b[0m                 \u001b[0mn_jobs\u001b[0m\u001b[0;34m=\u001b[0m\u001b[0mself\u001b[0m\u001b[0;34m.\u001b[0m\u001b[0mn_jobs\u001b[0m\u001b[0;34m,\u001b[0m\u001b[0;34m\u001b[0m\u001b[0;34m\u001b[0m\u001b[0m\n\u001b[1;32m    475\u001b[0m                 \u001b[0mverbose\u001b[0m\u001b[0;34m=\u001b[0m\u001b[0mself\u001b[0m\u001b[0;34m.\u001b[0m\u001b[0mverbose\u001b[0m\u001b[0;34m,\u001b[0m\u001b[0;34m\u001b[0m\u001b[0;34m\u001b[0m\u001b[0m\n",
            "\u001b[0;32m/usr/local/lib/python3.9/dist-packages/sklearn/utils/parallel.py\u001b[0m in \u001b[0;36m__call__\u001b[0;34m(self, iterable)\u001b[0m\n\u001b[1;32m     61\u001b[0m             \u001b[0;32mfor\u001b[0m \u001b[0mdelayed_func\u001b[0m\u001b[0;34m,\u001b[0m \u001b[0margs\u001b[0m\u001b[0;34m,\u001b[0m \u001b[0mkwargs\u001b[0m \u001b[0;32min\u001b[0m \u001b[0miterable\u001b[0m\u001b[0;34m\u001b[0m\u001b[0;34m\u001b[0m\u001b[0m\n\u001b[1;32m     62\u001b[0m         )\n\u001b[0;32m---> 63\u001b[0;31m         \u001b[0;32mreturn\u001b[0m \u001b[0msuper\u001b[0m\u001b[0;34m(\u001b[0m\u001b[0;34m)\u001b[0m\u001b[0;34m.\u001b[0m\u001b[0m__call__\u001b[0m\u001b[0;34m(\u001b[0m\u001b[0miterable_with_config\u001b[0m\u001b[0;34m)\u001b[0m\u001b[0;34m\u001b[0m\u001b[0;34m\u001b[0m\u001b[0m\n\u001b[0m\u001b[1;32m     64\u001b[0m \u001b[0;34m\u001b[0m\u001b[0m\n\u001b[1;32m     65\u001b[0m \u001b[0;34m\u001b[0m\u001b[0m\n",
            "\u001b[0;32m/usr/local/lib/python3.9/dist-packages/joblib/parallel.py\u001b[0m in \u001b[0;36m__call__\u001b[0;34m(self, iterable)\u001b[0m\n\u001b[1;32m   1049\u001b[0m                 \u001b[0mself\u001b[0m\u001b[0;34m.\u001b[0m\u001b[0m_iterating\u001b[0m \u001b[0;34m=\u001b[0m \u001b[0mself\u001b[0m\u001b[0;34m.\u001b[0m\u001b[0m_original_iterator\u001b[0m \u001b[0;32mis\u001b[0m \u001b[0;32mnot\u001b[0m \u001b[0;32mNone\u001b[0m\u001b[0;34m\u001b[0m\u001b[0;34m\u001b[0m\u001b[0m\n\u001b[1;32m   1050\u001b[0m \u001b[0;34m\u001b[0m\u001b[0m\n\u001b[0;32m-> 1051\u001b[0;31m             \u001b[0;32mwhile\u001b[0m \u001b[0mself\u001b[0m\u001b[0;34m.\u001b[0m\u001b[0mdispatch_one_batch\u001b[0m\u001b[0;34m(\u001b[0m\u001b[0miterator\u001b[0m\u001b[0;34m)\u001b[0m\u001b[0;34m:\u001b[0m\u001b[0;34m\u001b[0m\u001b[0;34m\u001b[0m\u001b[0m\n\u001b[0m\u001b[1;32m   1052\u001b[0m                 \u001b[0;32mpass\u001b[0m\u001b[0;34m\u001b[0m\u001b[0;34m\u001b[0m\u001b[0m\n\u001b[1;32m   1053\u001b[0m \u001b[0;34m\u001b[0m\u001b[0m\n",
            "\u001b[0;32m/usr/local/lib/python3.9/dist-packages/joblib/parallel.py\u001b[0m in \u001b[0;36mdispatch_one_batch\u001b[0;34m(self, iterator)\u001b[0m\n\u001b[1;32m    862\u001b[0m                 \u001b[0;32mreturn\u001b[0m \u001b[0;32mFalse\u001b[0m\u001b[0;34m\u001b[0m\u001b[0;34m\u001b[0m\u001b[0m\n\u001b[1;32m    863\u001b[0m             \u001b[0;32melse\u001b[0m\u001b[0;34m:\u001b[0m\u001b[0;34m\u001b[0m\u001b[0;34m\u001b[0m\u001b[0m\n\u001b[0;32m--> 864\u001b[0;31m                 \u001b[0mself\u001b[0m\u001b[0;34m.\u001b[0m\u001b[0m_dispatch\u001b[0m\u001b[0;34m(\u001b[0m\u001b[0mtasks\u001b[0m\u001b[0;34m)\u001b[0m\u001b[0;34m\u001b[0m\u001b[0;34m\u001b[0m\u001b[0m\n\u001b[0m\u001b[1;32m    865\u001b[0m                 \u001b[0;32mreturn\u001b[0m \u001b[0;32mTrue\u001b[0m\u001b[0;34m\u001b[0m\u001b[0;34m\u001b[0m\u001b[0m\n\u001b[1;32m    866\u001b[0m \u001b[0;34m\u001b[0m\u001b[0m\n",
            "\u001b[0;32m/usr/local/lib/python3.9/dist-packages/joblib/parallel.py\u001b[0m in \u001b[0;36m_dispatch\u001b[0;34m(self, batch)\u001b[0m\n\u001b[1;32m    780\u001b[0m         \u001b[0;32mwith\u001b[0m \u001b[0mself\u001b[0m\u001b[0;34m.\u001b[0m\u001b[0m_lock\u001b[0m\u001b[0;34m:\u001b[0m\u001b[0;34m\u001b[0m\u001b[0;34m\u001b[0m\u001b[0m\n\u001b[1;32m    781\u001b[0m             \u001b[0mjob_idx\u001b[0m \u001b[0;34m=\u001b[0m \u001b[0mlen\u001b[0m\u001b[0;34m(\u001b[0m\u001b[0mself\u001b[0m\u001b[0;34m.\u001b[0m\u001b[0m_jobs\u001b[0m\u001b[0;34m)\u001b[0m\u001b[0;34m\u001b[0m\u001b[0;34m\u001b[0m\u001b[0m\n\u001b[0;32m--> 782\u001b[0;31m             \u001b[0mjob\u001b[0m \u001b[0;34m=\u001b[0m \u001b[0mself\u001b[0m\u001b[0;34m.\u001b[0m\u001b[0m_backend\u001b[0m\u001b[0;34m.\u001b[0m\u001b[0mapply_async\u001b[0m\u001b[0;34m(\u001b[0m\u001b[0mbatch\u001b[0m\u001b[0;34m,\u001b[0m \u001b[0mcallback\u001b[0m\u001b[0;34m=\u001b[0m\u001b[0mcb\u001b[0m\u001b[0;34m)\u001b[0m\u001b[0;34m\u001b[0m\u001b[0;34m\u001b[0m\u001b[0m\n\u001b[0m\u001b[1;32m    783\u001b[0m             \u001b[0;31m# A job can complete so quickly than its callback is\u001b[0m\u001b[0;34m\u001b[0m\u001b[0;34m\u001b[0m\u001b[0m\n\u001b[1;32m    784\u001b[0m             \u001b[0;31m# called before we get here, causing self._jobs to\u001b[0m\u001b[0;34m\u001b[0m\u001b[0;34m\u001b[0m\u001b[0m\n",
            "\u001b[0;32m/usr/local/lib/python3.9/dist-packages/joblib/_parallel_backends.py\u001b[0m in \u001b[0;36mapply_async\u001b[0;34m(self, func, callback)\u001b[0m\n\u001b[1;32m    206\u001b[0m     \u001b[0;32mdef\u001b[0m \u001b[0mapply_async\u001b[0m\u001b[0;34m(\u001b[0m\u001b[0mself\u001b[0m\u001b[0;34m,\u001b[0m \u001b[0mfunc\u001b[0m\u001b[0;34m,\u001b[0m \u001b[0mcallback\u001b[0m\u001b[0;34m=\u001b[0m\u001b[0;32mNone\u001b[0m\u001b[0;34m)\u001b[0m\u001b[0;34m:\u001b[0m\u001b[0;34m\u001b[0m\u001b[0;34m\u001b[0m\u001b[0m\n\u001b[1;32m    207\u001b[0m         \u001b[0;34m\"\"\"Schedule a func to be run\"\"\"\u001b[0m\u001b[0;34m\u001b[0m\u001b[0;34m\u001b[0m\u001b[0m\n\u001b[0;32m--> 208\u001b[0;31m         \u001b[0mresult\u001b[0m \u001b[0;34m=\u001b[0m \u001b[0mImmediateResult\u001b[0m\u001b[0;34m(\u001b[0m\u001b[0mfunc\u001b[0m\u001b[0;34m)\u001b[0m\u001b[0;34m\u001b[0m\u001b[0;34m\u001b[0m\u001b[0m\n\u001b[0m\u001b[1;32m    209\u001b[0m         \u001b[0;32mif\u001b[0m \u001b[0mcallback\u001b[0m\u001b[0;34m:\u001b[0m\u001b[0;34m\u001b[0m\u001b[0;34m\u001b[0m\u001b[0m\n\u001b[1;32m    210\u001b[0m             \u001b[0mcallback\u001b[0m\u001b[0;34m(\u001b[0m\u001b[0mresult\u001b[0m\u001b[0;34m)\u001b[0m\u001b[0;34m\u001b[0m\u001b[0;34m\u001b[0m\u001b[0m\n",
            "\u001b[0;32m/usr/local/lib/python3.9/dist-packages/joblib/_parallel_backends.py\u001b[0m in \u001b[0;36m__init__\u001b[0;34m(self, batch)\u001b[0m\n\u001b[1;32m    570\u001b[0m         \u001b[0;31m# Don't delay the application, to avoid keeping the input\u001b[0m\u001b[0;34m\u001b[0m\u001b[0;34m\u001b[0m\u001b[0m\n\u001b[1;32m    571\u001b[0m         \u001b[0;31m# arguments in memory\u001b[0m\u001b[0;34m\u001b[0m\u001b[0;34m\u001b[0m\u001b[0m\n\u001b[0;32m--> 572\u001b[0;31m         \u001b[0mself\u001b[0m\u001b[0;34m.\u001b[0m\u001b[0mresults\u001b[0m \u001b[0;34m=\u001b[0m \u001b[0mbatch\u001b[0m\u001b[0;34m(\u001b[0m\u001b[0;34m)\u001b[0m\u001b[0;34m\u001b[0m\u001b[0;34m\u001b[0m\u001b[0m\n\u001b[0m\u001b[1;32m    573\u001b[0m \u001b[0;34m\u001b[0m\u001b[0m\n\u001b[1;32m    574\u001b[0m     \u001b[0;32mdef\u001b[0m \u001b[0mget\u001b[0m\u001b[0;34m(\u001b[0m\u001b[0mself\u001b[0m\u001b[0;34m)\u001b[0m\u001b[0;34m:\u001b[0m\u001b[0;34m\u001b[0m\u001b[0;34m\u001b[0m\u001b[0m\n",
            "\u001b[0;32m/usr/local/lib/python3.9/dist-packages/joblib/parallel.py\u001b[0m in \u001b[0;36m__call__\u001b[0;34m(self)\u001b[0m\n\u001b[1;32m    261\u001b[0m         \u001b[0;31m# change the default number of processes to -1\u001b[0m\u001b[0;34m\u001b[0m\u001b[0;34m\u001b[0m\u001b[0m\n\u001b[1;32m    262\u001b[0m         \u001b[0;32mwith\u001b[0m \u001b[0mparallel_backend\u001b[0m\u001b[0;34m(\u001b[0m\u001b[0mself\u001b[0m\u001b[0;34m.\u001b[0m\u001b[0m_backend\u001b[0m\u001b[0;34m,\u001b[0m \u001b[0mn_jobs\u001b[0m\u001b[0;34m=\u001b[0m\u001b[0mself\u001b[0m\u001b[0;34m.\u001b[0m\u001b[0m_n_jobs\u001b[0m\u001b[0;34m)\u001b[0m\u001b[0;34m:\u001b[0m\u001b[0;34m\u001b[0m\u001b[0;34m\u001b[0m\u001b[0m\n\u001b[0;32m--> 263\u001b[0;31m             return [func(*args, **kwargs)\n\u001b[0m\u001b[1;32m    264\u001b[0m                     for func, args, kwargs in self.items]\n\u001b[1;32m    265\u001b[0m \u001b[0;34m\u001b[0m\u001b[0m\n",
            "\u001b[0;32m/usr/local/lib/python3.9/dist-packages/joblib/parallel.py\u001b[0m in \u001b[0;36m<listcomp>\u001b[0;34m(.0)\u001b[0m\n\u001b[1;32m    261\u001b[0m         \u001b[0;31m# change the default number of processes to -1\u001b[0m\u001b[0;34m\u001b[0m\u001b[0;34m\u001b[0m\u001b[0m\n\u001b[1;32m    262\u001b[0m         \u001b[0;32mwith\u001b[0m \u001b[0mparallel_backend\u001b[0m\u001b[0;34m(\u001b[0m\u001b[0mself\u001b[0m\u001b[0;34m.\u001b[0m\u001b[0m_backend\u001b[0m\u001b[0;34m,\u001b[0m \u001b[0mn_jobs\u001b[0m\u001b[0;34m=\u001b[0m\u001b[0mself\u001b[0m\u001b[0;34m.\u001b[0m\u001b[0m_n_jobs\u001b[0m\u001b[0;34m)\u001b[0m\u001b[0;34m:\u001b[0m\u001b[0;34m\u001b[0m\u001b[0;34m\u001b[0m\u001b[0m\n\u001b[0;32m--> 263\u001b[0;31m             return [func(*args, **kwargs)\n\u001b[0m\u001b[1;32m    264\u001b[0m                     for func, args, kwargs in self.items]\n\u001b[1;32m    265\u001b[0m \u001b[0;34m\u001b[0m\u001b[0m\n",
            "\u001b[0;32m/usr/local/lib/python3.9/dist-packages/sklearn/utils/parallel.py\u001b[0m in \u001b[0;36m__call__\u001b[0;34m(self, *args, **kwargs)\u001b[0m\n\u001b[1;32m    121\u001b[0m             \u001b[0mconfig\u001b[0m \u001b[0;34m=\u001b[0m \u001b[0;34m{\u001b[0m\u001b[0;34m}\u001b[0m\u001b[0;34m\u001b[0m\u001b[0;34m\u001b[0m\u001b[0m\n\u001b[1;32m    122\u001b[0m         \u001b[0;32mwith\u001b[0m \u001b[0mconfig_context\u001b[0m\u001b[0;34m(\u001b[0m\u001b[0;34m**\u001b[0m\u001b[0mconfig\u001b[0m\u001b[0;34m)\u001b[0m\u001b[0;34m:\u001b[0m\u001b[0;34m\u001b[0m\u001b[0;34m\u001b[0m\u001b[0m\n\u001b[0;32m--> 123\u001b[0;31m             \u001b[0;32mreturn\u001b[0m \u001b[0mself\u001b[0m\u001b[0;34m.\u001b[0m\u001b[0mfunction\u001b[0m\u001b[0;34m(\u001b[0m\u001b[0;34m*\u001b[0m\u001b[0margs\u001b[0m\u001b[0;34m,\u001b[0m \u001b[0;34m**\u001b[0m\u001b[0mkwargs\u001b[0m\u001b[0;34m)\u001b[0m\u001b[0;34m\u001b[0m\u001b[0;34m\u001b[0m\u001b[0m\n\u001b[0m",
            "\u001b[0;32m/usr/local/lib/python3.9/dist-packages/sklearn/ensemble/_forest.py\u001b[0m in \u001b[0;36m_parallel_build_trees\u001b[0;34m(tree, bootstrap, X, y, sample_weight, tree_idx, n_trees, verbose, class_weight, n_samples_bootstrap)\u001b[0m\n\u001b[1;32m    182\u001b[0m             \u001b[0mcurr_sample_weight\u001b[0m \u001b[0;34m*=\u001b[0m \u001b[0mcompute_sample_weight\u001b[0m\u001b[0;34m(\u001b[0m\u001b[0;34m\"balanced\"\u001b[0m\u001b[0;34m,\u001b[0m \u001b[0my\u001b[0m\u001b[0;34m,\u001b[0m \u001b[0mindices\u001b[0m\u001b[0;34m=\u001b[0m\u001b[0mindices\u001b[0m\u001b[0;34m)\u001b[0m\u001b[0;34m\u001b[0m\u001b[0;34m\u001b[0m\u001b[0m\n\u001b[1;32m    183\u001b[0m \u001b[0;34m\u001b[0m\u001b[0m\n\u001b[0;32m--> 184\u001b[0;31m         \u001b[0mtree\u001b[0m\u001b[0;34m.\u001b[0m\u001b[0mfit\u001b[0m\u001b[0;34m(\u001b[0m\u001b[0mX\u001b[0m\u001b[0;34m,\u001b[0m \u001b[0my\u001b[0m\u001b[0;34m,\u001b[0m \u001b[0msample_weight\u001b[0m\u001b[0;34m=\u001b[0m\u001b[0mcurr_sample_weight\u001b[0m\u001b[0;34m,\u001b[0m \u001b[0mcheck_input\u001b[0m\u001b[0;34m=\u001b[0m\u001b[0;32mFalse\u001b[0m\u001b[0;34m)\u001b[0m\u001b[0;34m\u001b[0m\u001b[0;34m\u001b[0m\u001b[0m\n\u001b[0m\u001b[1;32m    185\u001b[0m     \u001b[0;32melse\u001b[0m\u001b[0;34m:\u001b[0m\u001b[0;34m\u001b[0m\u001b[0;34m\u001b[0m\u001b[0m\n\u001b[1;32m    186\u001b[0m         \u001b[0mtree\u001b[0m\u001b[0;34m.\u001b[0m\u001b[0mfit\u001b[0m\u001b[0;34m(\u001b[0m\u001b[0mX\u001b[0m\u001b[0;34m,\u001b[0m \u001b[0my\u001b[0m\u001b[0;34m,\u001b[0m \u001b[0msample_weight\u001b[0m\u001b[0;34m=\u001b[0m\u001b[0msample_weight\u001b[0m\u001b[0;34m,\u001b[0m \u001b[0mcheck_input\u001b[0m\u001b[0;34m=\u001b[0m\u001b[0;32mFalse\u001b[0m\u001b[0;34m)\u001b[0m\u001b[0;34m\u001b[0m\u001b[0;34m\u001b[0m\u001b[0m\n",
            "\u001b[0;32m/usr/local/lib/python3.9/dist-packages/sklearn/tree/_classes.py\u001b[0m in \u001b[0;36mfit\u001b[0;34m(self, X, y, sample_weight, check_input)\u001b[0m\n\u001b[1;32m    887\u001b[0m         \"\"\"\n\u001b[1;32m    888\u001b[0m \u001b[0;34m\u001b[0m\u001b[0m\n\u001b[0;32m--> 889\u001b[0;31m         super().fit(\n\u001b[0m\u001b[1;32m    890\u001b[0m             \u001b[0mX\u001b[0m\u001b[0;34m,\u001b[0m\u001b[0;34m\u001b[0m\u001b[0;34m\u001b[0m\u001b[0m\n\u001b[1;32m    891\u001b[0m             \u001b[0my\u001b[0m\u001b[0;34m,\u001b[0m\u001b[0;34m\u001b[0m\u001b[0;34m\u001b[0m\u001b[0m\n",
            "\u001b[0;32m/usr/local/lib/python3.9/dist-packages/sklearn/tree/_classes.py\u001b[0m in \u001b[0;36mfit\u001b[0;34m(self, X, y, sample_weight, check_input)\u001b[0m\n\u001b[1;32m    377\u001b[0m             )\n\u001b[1;32m    378\u001b[0m \u001b[0;34m\u001b[0m\u001b[0m\n\u001b[0;32m--> 379\u001b[0;31m         \u001b[0mbuilder\u001b[0m\u001b[0;34m.\u001b[0m\u001b[0mbuild\u001b[0m\u001b[0;34m(\u001b[0m\u001b[0mself\u001b[0m\u001b[0;34m.\u001b[0m\u001b[0mtree_\u001b[0m\u001b[0;34m,\u001b[0m \u001b[0mX\u001b[0m\u001b[0;34m,\u001b[0m \u001b[0my\u001b[0m\u001b[0;34m,\u001b[0m \u001b[0msample_weight\u001b[0m\u001b[0;34m)\u001b[0m\u001b[0;34m\u001b[0m\u001b[0;34m\u001b[0m\u001b[0m\n\u001b[0m\u001b[1;32m    380\u001b[0m \u001b[0;34m\u001b[0m\u001b[0m\n\u001b[1;32m    381\u001b[0m         \u001b[0;32mif\u001b[0m \u001b[0mself\u001b[0m\u001b[0;34m.\u001b[0m\u001b[0mn_outputs_\u001b[0m \u001b[0;34m==\u001b[0m \u001b[0;36m1\u001b[0m \u001b[0;32mand\u001b[0m \u001b[0mis_classifier\u001b[0m\u001b[0;34m(\u001b[0m\u001b[0mself\u001b[0m\u001b[0;34m)\u001b[0m\u001b[0;34m:\u001b[0m\u001b[0;34m\u001b[0m\u001b[0;34m\u001b[0m\u001b[0m\n",
            "\u001b[0;31mKeyboardInterrupt\u001b[0m: "
          ]
        }
      ],
      "source": [
        "from sklearn.ensemble import RandomForestClassifier\n",
        "model2 = RandomForestClassifier()\n",
        "model2.fit(X_train, y_train)\n",
        "y_pred=model2.predict(X_test)\n",
        "print(accuracy_score(y_test,y_pred))"
      ]
    },
    {
      "cell_type": "code",
      "execution_count": null,
      "metadata": {
        "colab": {
          "base_uri": "https://localhost:8080/"
        },
        "id": "vIBPwsfNM3re",
        "outputId": "ce179af7-b4aa-4fc6-9d06-b45c271ef133"
      },
      "outputs": [
        {
          "name": "stdout",
          "output_type": "stream",
          "text": [
            "0.6397333333333334\n"
          ]
        }
      ],
      "source": [
        "from sklearn.tree import DecisionTreeClassifier\n",
        "model3 = DecisionTreeClassifier()\n",
        "model3.fit(X_train, y_train)\n",
        "y_pred=model3.predict(X_test)\n",
        "print(accuracy_score(y_test,y_pred))"
      ]
    },
    {
      "cell_type": "code",
      "execution_count": null,
      "metadata": {
        "colab": {
          "base_uri": "https://localhost:8080/"
        },
        "id": "wEYU7e81O45W",
        "outputId": "0b2bf61d-678d-4d34-fe24-9e3549bd81fc"
      },
      "outputs": [
        {
          "name": "stdout",
          "output_type": "stream",
          "text": [
            "0.7367833333333333\n"
          ]
        }
      ],
      "source": [
        "from xgboost import XGBClassifier\n",
        "model_xgb = XGBClassifier()\n",
        "model_xgb.fit(X_train, y_train)\n",
        "y_pred = model_xgb.predict(X_test)\n",
        "print(accuracy_score(y_test,y_pred))"
      ]
    },
    {
      "cell_type": "markdown",
      "metadata": {
        "id": "2Eg8bFMW-Ieo"
      },
      "source": [
        "1 parameter: dense 20/ dense 1/ batch size: 64/ eposh:50 : 72.14\n",
        "\n",
        "2 parameter: dense 28-14-7-4-2-1/ batch size: 64/ eposh:50 : 73.96\n",
        "\n",
        "3 parameter: dense 28-14-7-4-2-1/ batch size: 128/ eposh:100 : 73.95\n",
        "\n",
        "4 parameter: dense 28-14-7-4-2-1/ batch size: 64/ eposh:100 : 74.18\n",
        "\n",
        "5 parameter: dense 28-14-7-4-2-1/ batch size: 40/ eposh:150 : 74.06"
      ]
    },
    {
      "cell_type": "code",
      "execution_count": null,
      "metadata": {
        "colab": {
          "base_uri": "https://localhost:8080/"
        },
        "id": "zGvSYa9LoN_2",
        "outputId": "bfee33f7-b0ad-4b59-d8dd-274c3d4711d2"
      },
      "outputs": [
        {
          "name": "stdout",
          "output_type": "stream",
          "text": [
            "Epoch 1/100\n",
            "7680/7680 [==============================] - 28s 3ms/step - loss: 0.6442 - accuracy: 0.6228 - val_loss: 0.5983 - val_accuracy: 0.6850\n",
            "Epoch 2/100\n",
            "7680/7680 [==============================] - 24s 3ms/step - loss: 0.5871 - accuracy: 0.6943 - val_loss: 0.5813 - val_accuracy: 0.6975\n",
            "Epoch 3/100\n",
            "7680/7680 [==============================] - 24s 3ms/step - loss: 0.5735 - accuracy: 0.7041 - val_loss: 0.5700 - val_accuracy: 0.7047\n",
            "Epoch 4/100\n",
            "7680/7680 [==============================] - 26s 3ms/step - loss: 0.5626 - accuracy: 0.7106 - val_loss: 0.5623 - val_accuracy: 0.7090\n",
            "Epoch 5/100\n",
            "7680/7680 [==============================] - 23s 3ms/step - loss: 0.5545 - accuracy: 0.7151 - val_loss: 0.5525 - val_accuracy: 0.7164\n",
            "Epoch 6/100\n",
            "7680/7680 [==============================] - 22s 3ms/step - loss: 0.5494 - accuracy: 0.7183 - val_loss: 0.5531 - val_accuracy: 0.7144\n",
            "Epoch 7/100\n",
            "7680/7680 [==============================] - 26s 3ms/step - loss: 0.5452 - accuracy: 0.7209 - val_loss: 0.5441 - val_accuracy: 0.7220\n",
            "Epoch 8/100\n",
            "7680/7680 [==============================] - 26s 3ms/step - loss: 0.5418 - accuracy: 0.7229 - val_loss: 0.5414 - val_accuracy: 0.7232\n",
            "Epoch 9/100\n",
            "7680/7680 [==============================] - 22s 3ms/step - loss: 0.5392 - accuracy: 0.7240 - val_loss: 0.5393 - val_accuracy: 0.7244\n",
            "Epoch 10/100\n",
            "7680/7680 [==============================] - 25s 3ms/step - loss: 0.5366 - accuracy: 0.7258 - val_loss: 0.5371 - val_accuracy: 0.7246\n",
            "Epoch 11/100\n",
            "7680/7680 [==============================] - 22s 3ms/step - loss: 0.5348 - accuracy: 0.7267 - val_loss: 0.5366 - val_accuracy: 0.7254\n",
            "Epoch 12/100\n",
            "7680/7680 [==============================] - 24s 3ms/step - loss: 0.5330 - accuracy: 0.7272 - val_loss: 0.5373 - val_accuracy: 0.7260\n",
            "Epoch 13/100\n",
            "7680/7680 [==============================] - 25s 3ms/step - loss: 0.5317 - accuracy: 0.7286 - val_loss: 0.5319 - val_accuracy: 0.7293\n",
            "Epoch 14/100\n",
            "7680/7680 [==============================] - 24s 3ms/step - loss: 0.5303 - accuracy: 0.7293 - val_loss: 0.5309 - val_accuracy: 0.7297\n",
            "Epoch 15/100\n",
            "7680/7680 [==============================] - 24s 3ms/step - loss: 0.5291 - accuracy: 0.7298 - val_loss: 0.5323 - val_accuracy: 0.7289\n",
            "Epoch 16/100\n",
            "7680/7680 [==============================] - 25s 3ms/step - loss: 0.5281 - accuracy: 0.7305 - val_loss: 0.5310 - val_accuracy: 0.7294\n",
            "Epoch 17/100\n",
            "7680/7680 [==============================] - 22s 3ms/step - loss: 0.5271 - accuracy: 0.7316 - val_loss: 0.5279 - val_accuracy: 0.7310\n",
            "Epoch 18/100\n",
            "7680/7680 [==============================] - 26s 3ms/step - loss: 0.5262 - accuracy: 0.7319 - val_loss: 0.5281 - val_accuracy: 0.7305\n",
            "Epoch 19/100\n",
            "7680/7680 [==============================] - 24s 3ms/step - loss: 0.5254 - accuracy: 0.7330 - val_loss: 0.5271 - val_accuracy: 0.7309\n",
            "Epoch 20/100\n",
            "7680/7680 [==============================] - 24s 3ms/step - loss: 0.5244 - accuracy: 0.7329 - val_loss: 0.5300 - val_accuracy: 0.7290\n",
            "Epoch 21/100\n",
            "7680/7680 [==============================] - 26s 3ms/step - loss: 0.5237 - accuracy: 0.7340 - val_loss: 0.5260 - val_accuracy: 0.7321\n",
            "Epoch 22/100\n",
            "7680/7680 [==============================] - 24s 3ms/step - loss: 0.5231 - accuracy: 0.7341 - val_loss: 0.5254 - val_accuracy: 0.7322\n",
            "Epoch 23/100\n",
            "7680/7680 [==============================] - 22s 3ms/step - loss: 0.5224 - accuracy: 0.7346 - val_loss: 0.5245 - val_accuracy: 0.7334\n",
            "Epoch 24/100\n",
            "7680/7680 [==============================] - 24s 3ms/step - loss: 0.5218 - accuracy: 0.7351 - val_loss: 0.5241 - val_accuracy: 0.7335\n",
            "Epoch 25/100\n",
            "7680/7680 [==============================] - 22s 3ms/step - loss: 0.5214 - accuracy: 0.7358 - val_loss: 0.5237 - val_accuracy: 0.7337\n",
            "Epoch 26/100\n",
            "7680/7680 [==============================] - 24s 3ms/step - loss: 0.5209 - accuracy: 0.7355 - val_loss: 0.5227 - val_accuracy: 0.7345\n",
            "Epoch 27/100\n",
            "7680/7680 [==============================] - 24s 3ms/step - loss: 0.5205 - accuracy: 0.7356 - val_loss: 0.5239 - val_accuracy: 0.7327\n",
            "Epoch 28/100\n",
            "7680/7680 [==============================] - 22s 3ms/step - loss: 0.5203 - accuracy: 0.7366 - val_loss: 0.5222 - val_accuracy: 0.7352\n",
            "Epoch 29/100\n",
            "7680/7680 [==============================] - 26s 3ms/step - loss: 0.5199 - accuracy: 0.7365 - val_loss: 0.5235 - val_accuracy: 0.7332\n",
            "Epoch 30/100\n",
            "7680/7680 [==============================] - 25s 3ms/step - loss: 0.5196 - accuracy: 0.7366 - val_loss: 0.5224 - val_accuracy: 0.7351\n",
            "Epoch 31/100\n",
            "7680/7680 [==============================] - 22s 3ms/step - loss: 0.5193 - accuracy: 0.7368 - val_loss: 0.5220 - val_accuracy: 0.7344\n",
            "Epoch 32/100\n",
            "7680/7680 [==============================] - 24s 3ms/step - loss: 0.5191 - accuracy: 0.7369 - val_loss: 0.5212 - val_accuracy: 0.7359\n",
            "Epoch 33/100\n",
            "7680/7680 [==============================] - 25s 3ms/step - loss: 0.5187 - accuracy: 0.7373 - val_loss: 0.5212 - val_accuracy: 0.7357\n",
            "Epoch 34/100\n",
            "7680/7680 [==============================] - 23s 3ms/step - loss: 0.5184 - accuracy: 0.7372 - val_loss: 0.5218 - val_accuracy: 0.7344\n",
            "Epoch 35/100\n",
            "7680/7680 [==============================] - 25s 3ms/step - loss: 0.5182 - accuracy: 0.7376 - val_loss: 0.5208 - val_accuracy: 0.7355\n",
            "Epoch 36/100\n",
            "7680/7680 [==============================] - 25s 3ms/step - loss: 0.5180 - accuracy: 0.7373 - val_loss: 0.5208 - val_accuracy: 0.7355\n",
            "Epoch 37/100\n",
            "7680/7680 [==============================] - 25s 3ms/step - loss: 0.5179 - accuracy: 0.7377 - val_loss: 0.5208 - val_accuracy: 0.7344\n",
            "Epoch 38/100\n",
            "7680/7680 [==============================] - 24s 3ms/step - loss: 0.5176 - accuracy: 0.7380 - val_loss: 0.5206 - val_accuracy: 0.7355\n",
            "Epoch 39/100\n",
            "7680/7680 [==============================] - 25s 3ms/step - loss: 0.5175 - accuracy: 0.7383 - val_loss: 0.5212 - val_accuracy: 0.7350\n",
            "Epoch 40/100\n",
            "7680/7680 [==============================] - 25s 3ms/step - loss: 0.5173 - accuracy: 0.7379 - val_loss: 0.5199 - val_accuracy: 0.7359\n",
            "Epoch 41/100\n",
            "7680/7680 [==============================] - 27s 3ms/step - loss: 0.5170 - accuracy: 0.7385 - val_loss: 0.5198 - val_accuracy: 0.7358\n",
            "Epoch 42/100\n",
            "7680/7680 [==============================] - 24s 3ms/step - loss: 0.5169 - accuracy: 0.7381 - val_loss: 0.5201 - val_accuracy: 0.7357\n",
            "Epoch 43/100\n",
            "7680/7680 [==============================] - 25s 3ms/step - loss: 0.5167 - accuracy: 0.7387 - val_loss: 0.5190 - val_accuracy: 0.7366\n",
            "Epoch 44/100\n",
            "7680/7680 [==============================] - 25s 3ms/step - loss: 0.5166 - accuracy: 0.7390 - val_loss: 0.5188 - val_accuracy: 0.7358\n",
            "Epoch 45/100\n",
            "7680/7680 [==============================] - 26s 3ms/step - loss: 0.5165 - accuracy: 0.7384 - val_loss: 0.5196 - val_accuracy: 0.7364\n",
            "Epoch 46/100\n",
            "7680/7680 [==============================] - 25s 3ms/step - loss: 0.5162 - accuracy: 0.7387 - val_loss: 0.5208 - val_accuracy: 0.7343\n",
            "Epoch 47/100\n",
            "7680/7680 [==============================] - 22s 3ms/step - loss: 0.5161 - accuracy: 0.7387 - val_loss: 0.5187 - val_accuracy: 0.7362\n",
            "Epoch 48/100\n",
            "7680/7680 [==============================] - 27s 3ms/step - loss: 0.5159 - accuracy: 0.7389 - val_loss: 0.5190 - val_accuracy: 0.7360\n",
            "Epoch 49/100\n",
            "7680/7680 [==============================] - 24s 3ms/step - loss: 0.5158 - accuracy: 0.7390 - val_loss: 0.5203 - val_accuracy: 0.7353\n",
            "Epoch 50/100\n",
            "7680/7680 [==============================] - 23s 3ms/step - loss: 0.5156 - accuracy: 0.7388 - val_loss: 0.5185 - val_accuracy: 0.7363\n",
            "Epoch 51/100\n",
            "7680/7680 [==============================] - 24s 3ms/step - loss: 0.5155 - accuracy: 0.7387 - val_loss: 0.5193 - val_accuracy: 0.7357\n",
            "Epoch 52/100\n",
            "7680/7680 [==============================] - 25s 3ms/step - loss: 0.5153 - accuracy: 0.7385 - val_loss: 0.5182 - val_accuracy: 0.7370\n",
            "Epoch 53/100\n",
            "7680/7680 [==============================] - 23s 3ms/step - loss: 0.5152 - accuracy: 0.7386 - val_loss: 0.5190 - val_accuracy: 0.7357\n",
            "Epoch 54/100\n",
            "7680/7680 [==============================] - 23s 3ms/step - loss: 0.5151 - accuracy: 0.7388 - val_loss: 0.5187 - val_accuracy: 0.7366\n",
            "Epoch 55/100\n",
            "7680/7680 [==============================] - 25s 3ms/step - loss: 0.5150 - accuracy: 0.7393 - val_loss: 0.5176 - val_accuracy: 0.7371\n",
            "Epoch 56/100\n",
            "7680/7680 [==============================] - 26s 3ms/step - loss: 0.5148 - accuracy: 0.7392 - val_loss: 0.5173 - val_accuracy: 0.7376\n",
            "Epoch 57/100\n",
            "7680/7680 [==============================] - 24s 3ms/step - loss: 0.5147 - accuracy: 0.7394 - val_loss: 0.5193 - val_accuracy: 0.7362\n",
            "Epoch 58/100\n",
            "7680/7680 [==============================] - 23s 3ms/step - loss: 0.5145 - accuracy: 0.7396 - val_loss: 0.5182 - val_accuracy: 0.7368\n",
            "Epoch 59/100\n",
            "7680/7680 [==============================] - 24s 3ms/step - loss: 0.5145 - accuracy: 0.7391 - val_loss: 0.5176 - val_accuracy: 0.7370\n",
            "Epoch 60/100\n",
            "7680/7680 [==============================] - 26s 3ms/step - loss: 0.5143 - accuracy: 0.7396 - val_loss: 0.5177 - val_accuracy: 0.7372\n",
            "Epoch 61/100\n",
            "7680/7680 [==============================] - 26s 3ms/step - loss: 0.5143 - accuracy: 0.7391 - val_loss: 0.5191 - val_accuracy: 0.7351\n",
            "Epoch 62/100\n",
            "7680/7680 [==============================] - 24s 3ms/step - loss: 0.5142 - accuracy: 0.7396 - val_loss: 0.5179 - val_accuracy: 0.7367\n",
            "Epoch 63/100\n",
            "7680/7680 [==============================] - 24s 3ms/step - loss: 0.5140 - accuracy: 0.7393 - val_loss: 0.5170 - val_accuracy: 0.7369\n",
            "Epoch 64/100\n",
            "7680/7680 [==============================] - 22s 3ms/step - loss: 0.5140 - accuracy: 0.7393 - val_loss: 0.5176 - val_accuracy: 0.7371\n",
            "Epoch 65/100\n",
            "7680/7680 [==============================] - 24s 3ms/step - loss: 0.5138 - accuracy: 0.7393 - val_loss: 0.5167 - val_accuracy: 0.7380\n",
            "Epoch 66/100\n",
            "7680/7680 [==============================] - 25s 3ms/step - loss: 0.5139 - accuracy: 0.7395 - val_loss: 0.5170 - val_accuracy: 0.7371\n",
            "Epoch 67/100\n",
            "7680/7680 [==============================] - 25s 3ms/step - loss: 0.5137 - accuracy: 0.7401 - val_loss: 0.5160 - val_accuracy: 0.7380\n",
            "Epoch 68/100\n",
            "7680/7680 [==============================] - 24s 3ms/step - loss: 0.5136 - accuracy: 0.7398 - val_loss: 0.5169 - val_accuracy: 0.7371\n",
            "Epoch 69/100\n",
            "7680/7680 [==============================] - 27s 4ms/step - loss: 0.5136 - accuracy: 0.7399 - val_loss: 0.5164 - val_accuracy: 0.7383\n",
            "Epoch 70/100\n",
            "7680/7680 [==============================] - 25s 3ms/step - loss: 0.5134 - accuracy: 0.7401 - val_loss: 0.5164 - val_accuracy: 0.7373\n",
            "Epoch 71/100\n",
            "7680/7680 [==============================] - 23s 3ms/step - loss: 0.5134 - accuracy: 0.7398 - val_loss: 0.5154 - val_accuracy: 0.7385\n",
            "Epoch 72/100\n",
            "7680/7680 [==============================] - 25s 3ms/step - loss: 0.5134 - accuracy: 0.7399 - val_loss: 0.5162 - val_accuracy: 0.7380\n",
            "Epoch 73/100\n",
            "7680/7680 [==============================] - 22s 3ms/step - loss: 0.5133 - accuracy: 0.7401 - val_loss: 0.5165 - val_accuracy: 0.7370\n",
            "Epoch 74/100\n",
            "7680/7680 [==============================] - 24s 3ms/step - loss: 0.5131 - accuracy: 0.7403 - val_loss: 0.5160 - val_accuracy: 0.7376\n",
            "Epoch 75/100\n",
            "7680/7680 [==============================] - 23s 3ms/step - loss: 0.5130 - accuracy: 0.7403 - val_loss: 0.5155 - val_accuracy: 0.7382\n",
            "Epoch 76/100\n",
            "7680/7680 [==============================] - 26s 3ms/step - loss: 0.5131 - accuracy: 0.7401 - val_loss: 0.5151 - val_accuracy: 0.7380\n",
            "Epoch 77/100\n",
            "7680/7680 [==============================] - 26s 3ms/step - loss: 0.5130 - accuracy: 0.7401 - val_loss: 0.5151 - val_accuracy: 0.7387\n",
            "Epoch 78/100\n",
            "7680/7680 [==============================] - 23s 3ms/step - loss: 0.5128 - accuracy: 0.7400 - val_loss: 0.5154 - val_accuracy: 0.7381\n",
            "Epoch 79/100\n",
            "7680/7680 [==============================] - 26s 3ms/step - loss: 0.5128 - accuracy: 0.7401 - val_loss: 0.5158 - val_accuracy: 0.7382\n",
            "Epoch 80/100\n",
            "7680/7680 [==============================] - 26s 3ms/step - loss: 0.5128 - accuracy: 0.7405 - val_loss: 0.5157 - val_accuracy: 0.7386\n",
            "Epoch 81/100\n",
            "7680/7680 [==============================] - 25s 3ms/step - loss: 0.5127 - accuracy: 0.7403 - val_loss: 0.5160 - val_accuracy: 0.7375\n",
            "Epoch 82/100\n",
            "7680/7680 [==============================] - 22s 3ms/step - loss: 0.5126 - accuracy: 0.7402 - val_loss: 0.5160 - val_accuracy: 0.7383\n",
            "Epoch 83/100\n",
            "7680/7680 [==============================] - 24s 3ms/step - loss: 0.5126 - accuracy: 0.7402 - val_loss: 0.5162 - val_accuracy: 0.7379\n",
            "Epoch 84/100\n",
            "7680/7680 [==============================] - 22s 3ms/step - loss: 0.5125 - accuracy: 0.7402 - val_loss: 0.5153 - val_accuracy: 0.7388\n",
            "Epoch 85/100\n",
            "7680/7680 [==============================] - 24s 3ms/step - loss: 0.5124 - accuracy: 0.7403 - val_loss: 0.5150 - val_accuracy: 0.7387\n",
            "Epoch 86/100\n",
            "7680/7680 [==============================] - 25s 3ms/step - loss: 0.5124 - accuracy: 0.7410 - val_loss: 0.5149 - val_accuracy: 0.7383\n",
            "Epoch 87/100\n",
            "7680/7680 [==============================] - 22s 3ms/step - loss: 0.5123 - accuracy: 0.7403 - val_loss: 0.5153 - val_accuracy: 0.7390\n",
            "Epoch 88/100\n",
            "7680/7680 [==============================] - 24s 3ms/step - loss: 0.5122 - accuracy: 0.7407 - val_loss: 0.5154 - val_accuracy: 0.7387\n",
            "Epoch 89/100\n",
            "7680/7680 [==============================] - 25s 3ms/step - loss: 0.5122 - accuracy: 0.7408 - val_loss: 0.5151 - val_accuracy: 0.7390\n",
            "Epoch 90/100\n",
            "7680/7680 [==============================] - 25s 3ms/step - loss: 0.5121 - accuracy: 0.7406 - val_loss: 0.5144 - val_accuracy: 0.7395\n",
            "Epoch 91/100\n",
            "7680/7680 [==============================] - 26s 3ms/step - loss: 0.5120 - accuracy: 0.7407 - val_loss: 0.5151 - val_accuracy: 0.7384\n",
            "Epoch 92/100\n",
            "7680/7680 [==============================] - 24s 3ms/step - loss: 0.5120 - accuracy: 0.7405 - val_loss: 0.5146 - val_accuracy: 0.7387\n",
            "Epoch 93/100\n",
            "7680/7680 [==============================] - 22s 3ms/step - loss: 0.5120 - accuracy: 0.7406 - val_loss: 0.5144 - val_accuracy: 0.7394\n",
            "Epoch 94/100\n",
            "7680/7680 [==============================] - 26s 3ms/step - loss: 0.5119 - accuracy: 0.7409 - val_loss: 0.5161 - val_accuracy: 0.7379\n",
            "Epoch 95/100\n",
            "7680/7680 [==============================] - 23s 3ms/step - loss: 0.5118 - accuracy: 0.7406 - val_loss: 0.5153 - val_accuracy: 0.7397\n",
            "Epoch 96/100\n",
            "7680/7680 [==============================] - 24s 3ms/step - loss: 0.5119 - accuracy: 0.7411 - val_loss: 0.5186 - val_accuracy: 0.7362\n",
            "Epoch 97/100\n",
            "7680/7680 [==============================] - 25s 3ms/step - loss: 0.5117 - accuracy: 0.7410 - val_loss: 0.5148 - val_accuracy: 0.7385\n",
            "Epoch 98/100\n",
            "7680/7680 [==============================] - 25s 3ms/step - loss: 0.5117 - accuracy: 0.7406 - val_loss: 0.5166 - val_accuracy: 0.7373\n",
            "Epoch 99/100\n",
            "7680/7680 [==============================] - 24s 3ms/step - loss: 0.5115 - accuracy: 0.7406 - val_loss: 0.5170 - val_accuracy: 0.7374\n",
            "Epoch 100/100\n",
            "7680/7680 [==============================] - 23s 3ms/step - loss: 0.5115 - accuracy: 0.7410 - val_loss: 0.5149 - val_accuracy: 0.7394\n",
            "3750/3750 [==============================] - 7s 2ms/step\n"
          ]
        }
      ],
      "source": [
        "#Dependencies\n",
        "import keras\n",
        "from keras.models import Sequential\n",
        "from keras.layers import Dense\n",
        "# Neural network\n",
        "model4 = Sequential()\n",
        "model4.add(Dense(28, input_dim=28, activation='sigmoid'))\n",
        "model4.add(Dense(14,activation='sigmoid'))\n",
        "model4.add(Dense(7,activation='sigmoid'))\n",
        "model4.add(Dense(4,activation='sigmoid'))\n",
        "model4.add(Dense(2,activation='sigmoid'))\n",
        "model4.add(Dense(1, activation='sigmoid'))\n",
        "model4.compile(loss='binary_crossentropy', optimizer='adam', metrics=['accuracy'])\n",
        "history= model4.fit(X_train, y_train, validation_split=0.2,epochs=100, batch_size=50)\n",
        "y_pred = model4.predict(X_test)\n"
      ]
    },
    {
      "cell_type": "code",
      "execution_count": null,
      "metadata": {
        "colab": {
          "base_uri": "https://localhost:8080/"
        },
        "id": "PoSTAyVzvFm1",
        "outputId": "b33a3e6e-cb79-4fe5-920b-71316ce657f4"
      },
      "outputs": [
        {
          "name": "stderr",
          "output_type": "stream",
          "text": [
            "/usr/local/lib/python3.8/dist-packages/sklearn/utils/validation.py:993: DataConversionWarning: A column-vector y was passed when a 1d array was expected. Please change the shape of y to (n_samples, ), for example using ravel().\n",
            "  y = column_or_1d(y, warn=True)\n",
            "/usr/local/lib/python3.8/dist-packages/sklearn/utils/validation.py:993: DataConversionWarning: A column-vector y was passed when a 1d array was expected. Please change the shape of y to (n_samples, ), for example using ravel().\n",
            "  y = column_or_1d(y, warn=True)\n",
            "/usr/local/lib/python3.8/dist-packages/sklearn/utils/validation.py:993: DataConversionWarning: A column-vector y was passed when a 1d array was expected. Please change the shape of y to (n_samples, ), for example using ravel().\n",
            "  y = column_or_1d(y, warn=True)\n",
            "/usr/local/lib/python3.8/dist-packages/sklearn/utils/validation.py:993: DataConversionWarning: A column-vector y was passed when a 1d array was expected. Please change the shape of y to (n_samples, ), for example using ravel().\n",
            "  y = column_or_1d(y, warn=True)\n",
            "/usr/local/lib/python3.8/dist-packages/sklearn/utils/validation.py:993: DataConversionWarning: A column-vector y was passed when a 1d array was expected. Please change the shape of y to (n_samples, ), for example using ravel().\n",
            "  y = column_or_1d(y, warn=True)\n"
          ]
        }
      ],
      "source": [
        "from sklearn.model_selection import cross_val_score, KFold\n",
        "from sklearn.pipeline import make_pipeline\n",
        "from sklearn.model_selection import StratifiedKFold\n",
        "\n",
        "model_kn1  = make_pipeline(StandardScaler(), PowerTransformer(method='yeo-johnson'), LogisticRegression())\n",
        "kfold =StratifiedKFold(n_splits=5,shuffle=True, random_state=42)\n",
        "scores = cross_val_score(model_kn1, X_cv, y_cv, cv=kfold, scoring='accuracy')"
      ]
    },
    {
      "cell_type": "code",
      "execution_count": null,
      "metadata": {
        "colab": {
          "base_uri": "https://localhost:8080/"
        },
        "id": "vBs2tU7Y7viJ",
        "outputId": "49b1a709-0752-43da-c1b7-72ade0c1dd3d"
      },
      "outputs": [
        {
          "name": "stdout",
          "output_type": "stream",
          "text": [
            "0.6351348444709262\n"
          ]
        }
      ],
      "source": [
        "print(np.mean(scores))"
      ]
    },
    {
      "cell_type": "code",
      "execution_count": null,
      "metadata": {
        "colab": {
          "base_uri": "https://localhost:8080/"
        },
        "id": "QF6cIfLN3OF5",
        "outputId": "b5ec0692-9c0e-4e6a-d68f-26a8520800e4"
      },
      "outputs": [
        {
          "name": "stdout",
          "output_type": "stream",
          "text": [
            "0.6394915330266642\n"
          ]
        }
      ],
      "source": [
        "from sklearn.tree import DecisionTreeClassifier\n",
        "model_kn2  = make_pipeline(StandardScaler(), PowerTransformer(method='yeo-johnson'), DecisionTreeClassifier())\n",
        "kfold =StratifiedKFold(n_splits=5, shuffle=True,random_state=42)\n",
        "scores = cross_val_score(model_kn2, X_cv, y_cv, cv=kfold, scoring='accuracy')\n",
        "print(np.mean(scores))"
      ]
    },
    {
      "cell_type": "code",
      "execution_count": null,
      "metadata": {
        "colab": {
          "base_uri": "https://localhost:8080/"
        },
        "id": "x6vPxV1U9oSm",
        "outputId": "91f35147-f279-4ede-91ee-658c6ef1d056"
      },
      "outputs": [
        {
          "name": "stderr",
          "output_type": "stream",
          "text": [
            "/usr/local/lib/python3.8/dist-packages/sklearn/pipeline.py:394: DataConversionWarning: A column-vector y was passed when a 1d array was expected. Please change the shape of y to (n_samples,), for example using ravel().\n",
            "  self._final_estimator.fit(Xt, y, **fit_params_last_step)\n",
            "/usr/local/lib/python3.8/dist-packages/sklearn/pipeline.py:394: DataConversionWarning: A column-vector y was passed when a 1d array was expected. Please change the shape of y to (n_samples,), for example using ravel().\n",
            "  self._final_estimator.fit(Xt, y, **fit_params_last_step)\n",
            "/usr/local/lib/python3.8/dist-packages/sklearn/pipeline.py:394: DataConversionWarning: A column-vector y was passed when a 1d array was expected. Please change the shape of y to (n_samples,), for example using ravel().\n",
            "  self._final_estimator.fit(Xt, y, **fit_params_last_step)\n",
            "/usr/local/lib/python3.8/dist-packages/sklearn/pipeline.py:394: DataConversionWarning: A column-vector y was passed when a 1d array was expected. Please change the shape of y to (n_samples,), for example using ravel().\n",
            "  self._final_estimator.fit(Xt, y, **fit_params_last_step)\n",
            "/usr/local/lib/python3.8/dist-packages/sklearn/pipeline.py:394: DataConversionWarning: A column-vector y was passed when a 1d array was expected. Please change the shape of y to (n_samples,), for example using ravel().\n",
            "  self._final_estimator.fit(Xt, y, **fit_params_last_step)\n"
          ]
        },
        {
          "name": "stdout",
          "output_type": "stream",
          "text": [
            "0.7306453217249033\n"
          ]
        }
      ],
      "source": [
        "from sklearn.ensemble import RandomForestClassifier\n",
        "model_kn3  = make_pipeline(StandardScaler(), PowerTransformer(method='yeo-johnson'), RandomForestClassifier())\n",
        "kfold =StratifiedKFold(n_splits=5, shuffle=True,random_state=42)\n",
        "scores = cross_val_score(model_kn3, X_cv, y_cv, cv=kfold, scoring='accuracy')\n",
        "print(np.mean(scores))"
      ]
    },
    {
      "cell_type": "code",
      "execution_count": null,
      "metadata": {
        "colab": {
          "base_uri": "https://localhost:8080/"
        },
        "id": "Iu02pGEVE62W",
        "outputId": "55aa2092-0ac8-420f-b4cc-4dc586d8016f"
      },
      "outputs": [
        {
          "name": "stderr",
          "output_type": "stream",
          "text": [
            "/usr/local/lib/python3.8/dist-packages/sklearn/preprocessing/_label.py:98: DataConversionWarning: A column-vector y was passed when a 1d array was expected. Please change the shape of y to (n_samples, ), for example using ravel().\n",
            "  y = column_or_1d(y, warn=True)\n",
            "/usr/local/lib/python3.8/dist-packages/sklearn/preprocessing/_label.py:133: DataConversionWarning: A column-vector y was passed when a 1d array was expected. Please change the shape of y to (n_samples, ), for example using ravel().\n",
            "  y = column_or_1d(y, warn=True)\n",
            "/usr/local/lib/python3.8/dist-packages/sklearn/preprocessing/_label.py:98: DataConversionWarning: A column-vector y was passed when a 1d array was expected. Please change the shape of y to (n_samples, ), for example using ravel().\n",
            "  y = column_or_1d(y, warn=True)\n",
            "/usr/local/lib/python3.8/dist-packages/sklearn/preprocessing/_label.py:133: DataConversionWarning: A column-vector y was passed when a 1d array was expected. Please change the shape of y to (n_samples, ), for example using ravel().\n",
            "  y = column_or_1d(y, warn=True)\n",
            "/usr/local/lib/python3.8/dist-packages/sklearn/preprocessing/_label.py:98: DataConversionWarning: A column-vector y was passed when a 1d array was expected. Please change the shape of y to (n_samples, ), for example using ravel().\n",
            "  y = column_or_1d(y, warn=True)\n",
            "/usr/local/lib/python3.8/dist-packages/sklearn/preprocessing/_label.py:133: DataConversionWarning: A column-vector y was passed when a 1d array was expected. Please change the shape of y to (n_samples, ), for example using ravel().\n",
            "  y = column_or_1d(y, warn=True)\n",
            "/usr/local/lib/python3.8/dist-packages/sklearn/preprocessing/_label.py:98: DataConversionWarning: A column-vector y was passed when a 1d array was expected. Please change the shape of y to (n_samples, ), for example using ravel().\n",
            "  y = column_or_1d(y, warn=True)\n",
            "/usr/local/lib/python3.8/dist-packages/sklearn/preprocessing/_label.py:133: DataConversionWarning: A column-vector y was passed when a 1d array was expected. Please change the shape of y to (n_samples, ), for example using ravel().\n",
            "  y = column_or_1d(y, warn=True)\n",
            "/usr/local/lib/python3.8/dist-packages/sklearn/preprocessing/_label.py:98: DataConversionWarning: A column-vector y was passed when a 1d array was expected. Please change the shape of y to (n_samples, ), for example using ravel().\n",
            "  y = column_or_1d(y, warn=True)\n",
            "/usr/local/lib/python3.8/dist-packages/sklearn/preprocessing/_label.py:133: DataConversionWarning: A column-vector y was passed when a 1d array was expected. Please change the shape of y to (n_samples, ), for example using ravel().\n",
            "  y = column_or_1d(y, warn=True)\n"
          ]
        },
        {
          "name": "stdout",
          "output_type": "stream",
          "text": [
            "0.7131168980435948\n"
          ]
        }
      ],
      "source": [
        "from xgboost import XGBClassifier\n",
        "model_kn4  = make_pipeline(StandardScaler(), PowerTransformer(method='yeo-johnson'), XGBClassifier())\n",
        "kfold =StratifiedKFold(n_splits=5, shuffle=True,random_state=42)\n",
        "scores = cross_val_score(model_kn4, X_cv, y_cv, cv=kfold, scoring='accuracy')\n",
        "print(np.mean(scores))"
      ]
    },
    {
      "cell_type": "code",
      "execution_count": null,
      "metadata": {
        "colab": {
          "base_uri": "https://localhost:8080/",
          "height": 296
        },
        "id": "O9joSndynJQy",
        "outputId": "a78263a2-5fec-4966-b72d-59f873205e2e"
      },
      "outputs": [
        {
          "data": {
            "text/plain": [
              "Text(0, 0.5, 'Accuracy')"
            ]
          },
          "execution_count": 43,
          "metadata": {},
          "output_type": "execute_result"
        },
        {
          "data": {
            "image/png": "[encoded data removed]",
            "text/plain": [
              "<Figure size 432x288 with 1 Axes>"
            ]
          },
          "metadata": {},
          "output_type": "display_data"
        }
      ],
      "source": [
        "import matplotlib.pyplot as plt\n",
        "from sklearn.model_selection import learning_curve\n",
        "train_sizes=np.linspace(0.1, 1.0, 5)\n",
        "train_sizes, train_scores, test_scores, fit_times, _ = learning_curve(model_xgb, X_trans, y,cv=None,scoring='accuracy',\n",
        "train_sizes=train_sizes,\n",
        "return_times=True)\n",
        "\n",
        "_, axes = plt.subplots(1, 1)\n",
        "\n",
        "train_scores_mean = np.mean(train_scores, axis=1)\n",
        "train_scores_std = np.std(train_scores, axis=1)\n",
        "test_scores_mean = np.mean(test_scores, axis=1)\n",
        "test_scores_std = np.std(test_scores, axis=1)\n",
        "fit_times_mean = np.mean(fit_times, axis=1)\n",
        "fit_times_std = np.std(fit_times, axis=1)\n",
        "axes.fill_between(train_sizes,train_scores_mean,train_scores_mean,alpha=0.1,color=\"r\",)\n",
        "axes.fill_between(train_sizes,test_scores_mean,test_scores_mean,alpha=0.1,color=\"g\",)\n",
        "\n",
        "\n",
        "import matplotlib.pyplot as plt\n",
        "axes.grid()\n",
        "axes.fill_between(\n",
        "        train_sizes,\n",
        "        train_scores_mean - train_scores_std,\n",
        "        train_scores_mean + train_scores_std,\n",
        "        alpha=0.1,\n",
        "        color=\"r\",\n",
        "    )\n",
        "axes.fill_between(\n",
        "        train_sizes,\n",
        "        test_scores_mean - test_scores_std,\n",
        "        test_scores_mean + test_scores_std,\n",
        "        alpha=0.1,\n",
        "        color=\"g\",\n",
        "    )\n",
        "axes.plot(\n",
        "        train_sizes, train_scores_mean, \"o-\", color=\"r\", label=\"Training score\"\n",
        "    )\n",
        "axes.plot(\n",
        "        train_sizes, test_scores_mean, \"o-\", color=\"g\", label=\"Cross-validation score\"\n",
        "    )\n",
        "axes.legend(loc=\"best\")\n",
        "axes.set_xlabel(\"Training examples\")\n",
        "axes.set_ylabel(\"Accuracy\")"
      ]
    },
    {
      "cell_type": "code",
      "execution_count": null,
      "metadata": {
        "colab": {
          "base_uri": "https://localhost:8080/",
          "height": 295
        },
        "id": "aYFctqwd8KbL",
        "outputId": "ab37d958-a6c8-4bb6-db5e-09cecc4ef54f"
      },
      "outputs": [
        {
          "data": {
            "image/png": "[encoded data removed]",
            "text/plain": [
              "<Figure size 432x288 with 1 Axes>"
            ]
          },
          "metadata": {},
          "output_type": "display_data"
        }
      ],
      "source": [
        "# summarize history for accuracy\n",
        "plt.plot(history.history['accuracy'])\n",
        "plt.plot(history.history['val_accuracy'])\n",
        "plt.title('model accuracy')\n",
        "plt.ylabel('accuracy')\n",
        "plt.xlabel('epoch')\n",
        "plt.legend(['train', 'test'], loc='upper left')\n",
        "plt.ylim([0.725, 0.745])\n",
        "plt.show()\n"
      ]
    },
    {
      "cell_type": "code",
      "execution_count": null,
      "metadata": {
        "colab": {
          "base_uri": "https://localhost:8080/",
          "height": 635
        },
        "id": "DN739e5oVVGf",
        "outputId": "23198e89-4e80-4220-9030-4f178072bb39"
      },
      "outputs": [
        {
          "name": "stderr",
          "output_type": "stream",
          "text": [
            "<ipython-input-64-8dd7177370e6>:6: DataConversionWarning: A column-vector y was passed when a 1d array was expected. Please change the shape of y to (n_samples,), for example using ravel().\n",
            "  model_et.fit(X, y)\n"
          ]
        },
        {
          "data": {
            "image/png": "[encoded data removed]",
            "text/plain": [
              "<Figure size 720x720 with 1 Axes>"
            ]
          },
          "metadata": {},
          "output_type": "display_data"
        }
      ],
      "source": [
        "from sklearn.ensemble import ExtraTreesClassifier\n",
        "\n",
        "feature_names = [col for col in df.columns if col != 'label']\n",
        "\n",
        "model_et = ExtraTreesClassifier(n_estimators=10)\n",
        "model_et.fit(X, y)\n",
        "feat_importances = pd.Series(model_et.feature_importances_, index=feature_names)\n",
        "feat_importances = feat_importances.sort_values(ascending=True)\n",
        "feat_importances.plot(kind='barh')\n",
        "fig = plt.gcf()\n",
        "fig.set_size_inches(10, 10)"
      ]
    },
    {
      "cell_type": "code",
      "execution_count": null,
      "metadata": {
        "colab": {
          "base_uri": "https://localhost:8080/",
          "height": 296
        },
        "id": "7ojcA5ItXcPD",
        "outputId": "ab9ff105-5439-43bb-9642-5f1a1e31f966"
      },
      "outputs": [
        {
          "data": {
            "text/plain": [
              "Text(0.5, 0, 'Xgboost Feature Importance')"
            ]
          },
          "execution_count": 63,
          "metadata": {},
          "output_type": "execute_result"
        },
        {
          "data": {
            "image/png": "[encoded data removed]",
            "text/plain": [
              "<Figure size 432x288 with 1 Axes>"
            ]
          },
          "metadata": {},
          "output_type": "display_data"
        }
      ],
      "source": [
        "import xgboost as xgb\n",
        "from xgboost import XGBClassifier\n",
        "from matplotlib import pyplot\n",
        "model = XGBClassifier()\n",
        "model.fit(X, y)\n",
        "\n",
        "# plot feature importance\n",
        "sorted = model.feature_importances_.argsort()\n",
        "plt.barh(list(X.columns[sorted]), model.feature_importances_[sorted])\n",
        "plt.xlabel(\"Xgboost Feature Importance\")"
      ]
    },
    {
      "cell_type": "code",
      "execution_count": null,
      "metadata": {
        "id": "Fez_hFGycRNq"
      },
      "outputs": [],
      "source": [
        "df= df.drop(columns=['jet 4 b-tag','jet 2 b-tag','jet 3 b-tag','jet 1 b-tag','missing energy phi','jet 1 phi'])\n"
      ]
    },
    {
      "cell_type": "code",
      "execution_count": null,
      "metadata": {
        "colab": {
          "base_uri": "https://localhost:8080/",
          "height": 1000
        },
        "id": "pkucBbNHdK7j",
        "outputId": "98a08dfa-d0cd-4f6d-a6ef-6e195247ec10"
      },
      "outputs": [
        {
          "name": "stdout",
          "output_type": "stream",
          "text": [
            "GPU device found: /device:GPU:0\n",
            "Epoch 1/100\n",
            "15000/15000 [==============================] - 98s 6ms/step - loss: 0.5526 - accuracy: 0.7111\n",
            "Epoch 2/100\n",
            "15000/15000 [==============================] - 92s 6ms/step - loss: 0.5230 - accuracy: 0.7340\n",
            "Epoch 3/100\n",
            "15000/15000 [==============================] - 95s 6ms/step - loss: 0.5130 - accuracy: 0.7405\n",
            "Epoch 4/100\n",
            "15000/15000 [==============================] - 95s 6ms/step - loss: 0.5042 - accuracy: 0.7464\n",
            "Epoch 5/100\n",
            "15000/15000 [==============================] - 92s 6ms/step - loss: 0.5028 - accuracy: 0.7475\n",
            "Epoch 6/100\n",
            "15000/15000 [==============================] - 94s 6ms/step - loss: 0.4980 - accuracy: 0.7502\n",
            "Epoch 7/100\n",
            "15000/15000 [==============================] - 93s 6ms/step - loss: 0.4932 - accuracy: 0.7532\n",
            "Epoch 8/100\n",
            "15000/15000 [==============================] - 93s 6ms/step - loss: 0.4884 - accuracy: 0.7565\n",
            "Epoch 9/100\n",
            "15000/15000 [==============================] - 93s 6ms/step - loss: 0.4881 - accuracy: 0.7552\n",
            "Epoch 10/100\n",
            "15000/15000 [==============================] - 93s 6ms/step - loss: 0.4914 - accuracy: 0.7508\n",
            "Epoch 11/100\n",
            "15000/15000 [==============================] - 92s 6ms/step - loss: 0.4956 - accuracy: 0.7504\n",
            "Epoch 12/100\n",
            "15000/15000 [==============================] - 91s 6ms/step - loss: 0.4910 - accuracy: 0.7524\n",
            "Epoch 13/100\n",
            "15000/15000 [==============================] - 92s 6ms/step - loss: 0.4845 - accuracy: 0.7576\n",
            "Epoch 14/100\n",
            "15000/15000 [==============================] - 93s 6ms/step - loss: 0.4821 - accuracy: 0.7588\n",
            "Epoch 15/100\n",
            "15000/15000 [==============================] - 92s 6ms/step - loss: 0.4783 - accuracy: 0.7614\n",
            "Epoch 16/100\n",
            "15000/15000 [==============================] - 92s 6ms/step - loss: 0.4682 - accuracy: 0.7685\n",
            "Epoch 17/100\n",
            "15000/15000 [==============================] - 92s 6ms/step - loss: 0.4781 - accuracy: 0.7592\n",
            "Epoch 18/100\n",
            "15000/15000 [==============================] - 92s 6ms/step - loss: 0.5040 - accuracy: 0.7446\n",
            "Epoch 19/100\n",
            "15000/15000 [==============================] - 95s 6ms/step - loss: 0.5011 - accuracy: 0.7472\n",
            "Epoch 20/100\n",
            "15000/15000 [==============================] - 92s 6ms/step - loss: 0.5080 - accuracy: 0.7497\n",
            "Epoch 21/100\n",
            "15000/15000 [==============================] - 89s 6ms/step - loss: 0.5085 - accuracy: 0.7523\n",
            "Epoch 22/100\n",
            "15000/15000 [==============================] - 90s 6ms/step - loss: 0.5093 - accuracy: 0.7514\n",
            "Epoch 23/100\n",
            "15000/15000 [==============================] - 90s 6ms/step - loss: 0.5377 - accuracy: 0.7358\n",
            "Epoch 24/100\n",
            "15000/15000 [==============================] - 90s 6ms/step - loss: 0.5262 - accuracy: 0.7442\n",
            "Epoch 25/100\n",
            "15000/15000 [==============================] - 89s 6ms/step - loss: 0.5006 - accuracy: 0.7538\n",
            "Epoch 26/100\n",
            "15000/15000 [==============================] - 89s 6ms/step - loss: 0.4992 - accuracy: 0.7580\n",
            "Epoch 27/100\n",
            "15000/15000 [==============================] - 92s 6ms/step - loss: 0.5038 - accuracy: 0.7546\n",
            "Epoch 28/100\n",
            "15000/15000 [==============================] - 90s 6ms/step - loss: 0.5254 - accuracy: 0.7438\n",
            "Epoch 29/100\n",
            "15000/15000 [==============================] - 90s 6ms/step - loss: 0.5054 - accuracy: 0.7544\n",
            "Epoch 30/100\n",
            "15000/15000 [==============================] - 94s 6ms/step - loss: 0.5621 - accuracy: 0.7043\n",
            "Epoch 31/100\n",
            "15000/15000 [==============================] - 91s 6ms/step - loss: 0.6234 - accuracy: 0.6637\n",
            "Epoch 32/100\n",
            "15000/15000 [==============================] - 93s 6ms/step - loss: 0.6408 - accuracy: 0.6312\n",
            "Epoch 33/100\n",
            "15000/15000 [==============================] - 91s 6ms/step - loss: 0.6489 - accuracy: 0.6144\n",
            "Epoch 34/100\n",
            "15000/15000 [==============================] - 91s 6ms/step - loss: 0.6488 - accuracy: 0.6144\n",
            "Epoch 35/100\n",
            "15000/15000 [==============================] - 92s 6ms/step - loss: 0.6488 - accuracy: 0.6145\n",
            "Epoch 36/100\n",
            "15000/15000 [==============================] - 91s 6ms/step - loss: 0.6415 - accuracy: 0.6356\n",
            "Epoch 37/100\n",
            "15000/15000 [==============================] - 93s 6ms/step - loss: 0.6369 - accuracy: 0.6477\n",
            "Epoch 38/100\n",
            "15000/15000 [==============================] - 91s 6ms/step - loss: 0.6371 - accuracy: 0.6489\n",
            "Epoch 39/100\n",
            "15000/15000 [==============================] - 91s 6ms/step - loss: 0.6375 - accuracy: 0.6593\n",
            "Epoch 40/100\n",
            "15000/15000 [==============================] - 92s 6ms/step - loss: 0.6374 - accuracy: 0.6593\n",
            "Epoch 41/100\n",
            "15000/15000 [==============================] - 90s 6ms/step - loss: 0.6481 - accuracy: 0.6358\n",
            "Epoch 42/100\n",
            "15000/15000 [==============================] - 92s 6ms/step - loss: 0.6915 - accuracy: 0.5288\n",
            "Epoch 43/100\n",
            "15000/15000 [==============================] - 91s 6ms/step - loss: 0.6915 - accuracy: 0.5288\n",
            "Epoch 44/100\n",
            "15000/15000 [==============================] - 91s 6ms/step - loss: 0.6915 - accuracy: 0.5288\n",
            "Epoch 45/100\n",
            "15000/15000 [==============================] - 92s 6ms/step - loss: 0.6915 - accuracy: 0.5288\n",
            "Epoch 46/100\n",
            "15000/15000 [==============================] - 92s 6ms/step - loss: 0.6915 - accuracy: 0.5288\n",
            "Epoch 47/100\n",
            "15000/15000 [==============================] - 91s 6ms/step - loss: 0.6915 - accuracy: 0.5288\n",
            "Epoch 48/100\n",
            "15000/15000 [==============================] - 90s 6ms/step - loss: 0.6915 - accuracy: 0.5288\n",
            "Epoch 49/100\n",
            "15000/15000 [==============================] - 92s 6ms/step - loss: 0.6915 - accuracy: 0.5288\n",
            "Epoch 50/100\n",
            "15000/15000 [==============================] - 90s 6ms/step - loss: 0.6915 - accuracy: 0.5288\n",
            "Epoch 51/100\n",
            "15000/15000 [==============================] - 90s 6ms/step - loss: 0.6915 - accuracy: 0.5288\n",
            "Epoch 52/100\n",
            "15000/15000 [==============================] - 92s 6ms/step - loss: 0.6915 - accuracy: 0.5288\n",
            "Epoch 53/100\n",
            "15000/15000 [==============================] - 91s 6ms/step - loss: 0.6915 - accuracy: 0.5288\n",
            "Epoch 54/100\n",
            "15000/15000 [==============================] - 92s 6ms/step - loss: 0.6915 - accuracy: 0.5288\n",
            "Epoch 55/100\n",
            "15000/15000 [==============================] - 90s 6ms/step - loss: 0.6915 - accuracy: 0.5288\n",
            "Epoch 56/100\n",
            "15000/15000 [==============================] - 92s 6ms/step - loss: 0.6915 - accuracy: 0.5288\n",
            "Epoch 57/100\n",
            " 7763/15000 [==============>...............] - ETA: 45s - loss: 0.6914 - accuracy: 0.5296"
          ]
        },
        {
          "ename": "KeyboardInterrupt",
          "evalue": "ignored",
          "output_type": "error",
          "traceback": [
            "\u001b[0;31m---------------------------------------------------------------------------\u001b[0m",
            "\u001b[0;31mKeyboardInterrupt\u001b[0m                         Traceback (most recent call last)",
            "\u001b[0;32m<ipython-input-30-a61be6cdcd24>\u001b[0m in \u001b[0;36m<cell line: 29>\u001b[0;34m()\u001b[0m\n\u001b[1;32m     27\u001b[0m               metrics=['accuracy'])\n\u001b[1;32m     28\u001b[0m \u001b[0;34m\u001b[0m\u001b[0m\n\u001b[0;32m---> 29\u001b[0;31m \u001b[0mmodel\u001b[0m\u001b[0;34m.\u001b[0m\u001b[0mfit\u001b[0m\u001b[0;34m(\u001b[0m\u001b[0mX_train\u001b[0m\u001b[0;34m,\u001b[0m \u001b[0my_train\u001b[0m\u001b[0;34m,\u001b[0m \u001b[0mepochs\u001b[0m\u001b[0;34m=\u001b[0m\u001b[0;36m100\u001b[0m\u001b[0;34m)\u001b[0m\u001b[0;34m\u001b[0m\u001b[0;34m\u001b[0m\u001b[0m\n\u001b[0m\u001b[1;32m     30\u001b[0m \u001b[0mmodel\u001b[0m\u001b[0;34m.\u001b[0m\u001b[0mevaluate\u001b[0m\u001b[0;34m(\u001b[0m\u001b[0mX_test\u001b[0m\u001b[0;34m,\u001b[0m \u001b[0my_test\u001b[0m\u001b[0;34m)\u001b[0m\u001b[0;34m\u001b[0m\u001b[0;34m\u001b[0m\u001b[0m\n",
            "\u001b[0;32m/usr/local/lib/python3.9/dist-packages/keras/utils/traceback_utils.py\u001b[0m in \u001b[0;36merror_handler\u001b[0;34m(*args, **kwargs)\u001b[0m\n\u001b[1;32m     63\u001b[0m         \u001b[0mfiltered_tb\u001b[0m \u001b[0;34m=\u001b[0m \u001b[0;32mNone\u001b[0m\u001b[0;34m\u001b[0m\u001b[0;34m\u001b[0m\u001b[0m\n\u001b[1;32m     64\u001b[0m         \u001b[0;32mtry\u001b[0m\u001b[0;34m:\u001b[0m\u001b[0;34m\u001b[0m\u001b[0;34m\u001b[0m\u001b[0m\n\u001b[0;32m---> 65\u001b[0;31m             \u001b[0;32mreturn\u001b[0m \u001b[0mfn\u001b[0m\u001b[0;34m(\u001b[0m\u001b[0;34m*\u001b[0m\u001b[0margs\u001b[0m\u001b[0;34m,\u001b[0m \u001b[0;34m**\u001b[0m\u001b[0mkwargs\u001b[0m\u001b[0;34m)\u001b[0m\u001b[0;34m\u001b[0m\u001b[0;34m\u001b[0m\u001b[0m\n\u001b[0m\u001b[1;32m     66\u001b[0m         \u001b[0;32mexcept\u001b[0m \u001b[0mException\u001b[0m \u001b[0;32mas\u001b[0m \u001b[0me\u001b[0m\u001b[0;34m:\u001b[0m\u001b[0;34m\u001b[0m\u001b[0;34m\u001b[0m\u001b[0m\n\u001b[1;32m     67\u001b[0m             \u001b[0mfiltered_tb\u001b[0m \u001b[0;34m=\u001b[0m \u001b[0m_process_traceback_frames\u001b[0m\u001b[0;34m(\u001b[0m\u001b[0me\u001b[0m\u001b[0;34m.\u001b[0m\u001b[0m__traceback__\u001b[0m\u001b[0;34m)\u001b[0m\u001b[0;34m\u001b[0m\u001b[0;34m\u001b[0m\u001b[0m\n",
            "\u001b[0;32m/usr/local/lib/python3.9/dist-packages/keras/engine/training.py\u001b[0m in \u001b[0;36mfit\u001b[0;34m(self, x, y, batch_size, epochs, verbose, callbacks, validation_split, validation_data, shuffle, class_weight, sample_weight, initial_epoch, steps_per_epoch, validation_steps, validation_batch_size, validation_freq, max_queue_size, workers, use_multiprocessing)\u001b[0m\n\u001b[1;32m   1648\u001b[0m                         ):\n\u001b[1;32m   1649\u001b[0m                             \u001b[0mcallbacks\u001b[0m\u001b[0;34m.\u001b[0m\u001b[0mon_train_batch_begin\u001b[0m\u001b[0;34m(\u001b[0m\u001b[0mstep\u001b[0m\u001b[0;34m)\u001b[0m\u001b[0;34m\u001b[0m\u001b[0;34m\u001b[0m\u001b[0m\n\u001b[0;32m-> 1650\u001b[0;31m                             \u001b[0mtmp_logs\u001b[0m \u001b[0;34m=\u001b[0m \u001b[0mself\u001b[0m\u001b[0;34m.\u001b[0m\u001b[0mtrain_function\u001b[0m\u001b[0;34m(\u001b[0m\u001b[0miterator\u001b[0m\u001b[0;34m)\u001b[0m\u001b[0;34m\u001b[0m\u001b[0;34m\u001b[0m\u001b[0m\n\u001b[0m\u001b[1;32m   1651\u001b[0m                             \u001b[0;32mif\u001b[0m \u001b[0mdata_handler\u001b[0m\u001b[0;34m.\u001b[0m\u001b[0mshould_sync\u001b[0m\u001b[0;34m:\u001b[0m\u001b[0;34m\u001b[0m\u001b[0;34m\u001b[0m\u001b[0m\n\u001b[1;32m   1652\u001b[0m                                 \u001b[0mcontext\u001b[0m\u001b[0;34m.\u001b[0m\u001b[0masync_wait\u001b[0m\u001b[0;34m(\u001b[0m\u001b[0;34m)\u001b[0m\u001b[0;34m\u001b[0m\u001b[0;34m\u001b[0m\u001b[0m\n",
            "\u001b[0;32m/usr/local/lib/python3.9/dist-packages/tensorflow/python/util/traceback_utils.py\u001b[0m in \u001b[0;36merror_handler\u001b[0;34m(*args, **kwargs)\u001b[0m\n\u001b[1;32m    148\u001b[0m     \u001b[0mfiltered_tb\u001b[0m \u001b[0;34m=\u001b[0m \u001b[0;32mNone\u001b[0m\u001b[0;34m\u001b[0m\u001b[0;34m\u001b[0m\u001b[0m\n\u001b[1;32m    149\u001b[0m     \u001b[0;32mtry\u001b[0m\u001b[0;34m:\u001b[0m\u001b[0;34m\u001b[0m\u001b[0;34m\u001b[0m\u001b[0m\n\u001b[0;32m--> 150\u001b[0;31m       \u001b[0;32mreturn\u001b[0m \u001b[0mfn\u001b[0m\u001b[0;34m(\u001b[0m\u001b[0;34m*\u001b[0m\u001b[0margs\u001b[0m\u001b[0;34m,\u001b[0m \u001b[0;34m**\u001b[0m\u001b[0mkwargs\u001b[0m\u001b[0;34m)\u001b[0m\u001b[0;34m\u001b[0m\u001b[0;34m\u001b[0m\u001b[0m\n\u001b[0m\u001b[1;32m    151\u001b[0m     \u001b[0;32mexcept\u001b[0m \u001b[0mException\u001b[0m \u001b[0;32mas\u001b[0m \u001b[0me\u001b[0m\u001b[0;34m:\u001b[0m\u001b[0;34m\u001b[0m\u001b[0;34m\u001b[0m\u001b[0m\n\u001b[1;32m    152\u001b[0m       \u001b[0mfiltered_tb\u001b[0m \u001b[0;34m=\u001b[0m \u001b[0m_process_traceback_frames\u001b[0m\u001b[0;34m(\u001b[0m\u001b[0me\u001b[0m\u001b[0;34m.\u001b[0m\u001b[0m__traceback__\u001b[0m\u001b[0;34m)\u001b[0m\u001b[0;34m\u001b[0m\u001b[0;34m\u001b[0m\u001b[0m\n",
            "\u001b[0;32m/usr/local/lib/python3.9/dist-packages/tensorflow/python/eager/polymorphic_function/polymorphic_function.py\u001b[0m in \u001b[0;36m__call__\u001b[0;34m(self, *args, **kwds)\u001b[0m\n\u001b[1;32m    878\u001b[0m \u001b[0;34m\u001b[0m\u001b[0m\n\u001b[1;32m    879\u001b[0m       \u001b[0;32mwith\u001b[0m \u001b[0mOptionalXlaContext\u001b[0m\u001b[0;34m(\u001b[0m\u001b[0mself\u001b[0m\u001b[0;34m.\u001b[0m\u001b[0m_jit_compile\u001b[0m\u001b[0;34m)\u001b[0m\u001b[0;34m:\u001b[0m\u001b[0;34m\u001b[0m\u001b[0;34m\u001b[0m\u001b[0m\n\u001b[0;32m--> 880\u001b[0;31m         \u001b[0mresult\u001b[0m \u001b[0;34m=\u001b[0m \u001b[0mself\u001b[0m\u001b[0;34m.\u001b[0m\u001b[0m_call\u001b[0m\u001b[0;34m(\u001b[0m\u001b[0;34m*\u001b[0m\u001b[0margs\u001b[0m\u001b[0;34m,\u001b[0m \u001b[0;34m**\u001b[0m\u001b[0mkwds\u001b[0m\u001b[0;34m)\u001b[0m\u001b[0;34m\u001b[0m\u001b[0;34m\u001b[0m\u001b[0m\n\u001b[0m\u001b[1;32m    881\u001b[0m \u001b[0;34m\u001b[0m\u001b[0m\n\u001b[1;32m    882\u001b[0m       \u001b[0mnew_tracing_count\u001b[0m \u001b[0;34m=\u001b[0m \u001b[0mself\u001b[0m\u001b[0;34m.\u001b[0m\u001b[0mexperimental_get_tracing_count\u001b[0m\u001b[0;34m(\u001b[0m\u001b[0;34m)\u001b[0m\u001b[0;34m\u001b[0m\u001b[0;34m\u001b[0m\u001b[0m\n",
            "\u001b[0;32m/usr/local/lib/python3.9/dist-packages/tensorflow/python/eager/polymorphic_function/polymorphic_function.py\u001b[0m in \u001b[0;36m_call\u001b[0;34m(self, *args, **kwds)\u001b[0m\n\u001b[1;32m    910\u001b[0m       \u001b[0;31m# In this case we have created variables on the first call, so we run the\u001b[0m\u001b[0;34m\u001b[0m\u001b[0;34m\u001b[0m\u001b[0m\n\u001b[1;32m    911\u001b[0m       \u001b[0;31m# defunned version which is guaranteed to never create variables.\u001b[0m\u001b[0;34m\u001b[0m\u001b[0;34m\u001b[0m\u001b[0m\n\u001b[0;32m--> 912\u001b[0;31m       \u001b[0;32mreturn\u001b[0m \u001b[0mself\u001b[0m\u001b[0;34m.\u001b[0m\u001b[0m_no_variable_creation_fn\u001b[0m\u001b[0;34m(\u001b[0m\u001b[0;34m*\u001b[0m\u001b[0margs\u001b[0m\u001b[0;34m,\u001b[0m \u001b[0;34m**\u001b[0m\u001b[0mkwds\u001b[0m\u001b[0;34m)\u001b[0m  \u001b[0;31m# pylint: disable=not-callable\u001b[0m\u001b[0;34m\u001b[0m\u001b[0;34m\u001b[0m\u001b[0m\n\u001b[0m\u001b[1;32m    913\u001b[0m     \u001b[0;32melif\u001b[0m \u001b[0mself\u001b[0m\u001b[0;34m.\u001b[0m\u001b[0m_variable_creation_fn\u001b[0m \u001b[0;32mis\u001b[0m \u001b[0;32mnot\u001b[0m \u001b[0;32mNone\u001b[0m\u001b[0;34m:\u001b[0m\u001b[0;34m\u001b[0m\u001b[0;34m\u001b[0m\u001b[0m\n\u001b[1;32m    914\u001b[0m       \u001b[0;31m# Release the lock early so that multiple threads can perform the call\u001b[0m\u001b[0;34m\u001b[0m\u001b[0;34m\u001b[0m\u001b[0m\n",
            "\u001b[0;32m/usr/local/lib/python3.9/dist-packages/tensorflow/python/eager/polymorphic_function/tracing_compiler.py\u001b[0m in \u001b[0;36m__call__\u001b[0;34m(self, *args, **kwargs)\u001b[0m\n\u001b[1;32m    132\u001b[0m       (concrete_function,\n\u001b[1;32m    133\u001b[0m        filtered_flat_args) = self._maybe_define_function(args, kwargs)\n\u001b[0;32m--> 134\u001b[0;31m     return concrete_function._call_flat(\n\u001b[0m\u001b[1;32m    135\u001b[0m         filtered_flat_args, captured_inputs=concrete_function.captured_inputs)  # pylint: disable=protected-access\n\u001b[1;32m    136\u001b[0m \u001b[0;34m\u001b[0m\u001b[0m\n",
            "\u001b[0;32m/usr/local/lib/python3.9/dist-packages/tensorflow/python/eager/polymorphic_function/monomorphic_function.py\u001b[0m in \u001b[0;36m_call_flat\u001b[0;34m(self, args, captured_inputs, cancellation_manager)\u001b[0m\n\u001b[1;32m   1743\u001b[0m         and executing_eagerly):\n\u001b[1;32m   1744\u001b[0m       \u001b[0;31m# No tape is watching; skip to running the function.\u001b[0m\u001b[0;34m\u001b[0m\u001b[0;34m\u001b[0m\u001b[0m\n\u001b[0;32m-> 1745\u001b[0;31m       return self._build_call_outputs(self._inference_function.call(\n\u001b[0m\u001b[1;32m   1746\u001b[0m           ctx, args, cancellation_manager=cancellation_manager))\n\u001b[1;32m   1747\u001b[0m     forward_backward = self._select_forward_and_backward_functions(\n",
            "\u001b[0;32m/usr/local/lib/python3.9/dist-packages/tensorflow/python/eager/polymorphic_function/monomorphic_function.py\u001b[0m in \u001b[0;36mcall\u001b[0;34m(self, ctx, args, cancellation_manager)\u001b[0m\n\u001b[1;32m    376\u001b[0m       \u001b[0;32mwith\u001b[0m \u001b[0m_InterpolateFunctionError\u001b[0m\u001b[0;34m(\u001b[0m\u001b[0mself\u001b[0m\u001b[0;34m)\u001b[0m\u001b[0;34m:\u001b[0m\u001b[0;34m\u001b[0m\u001b[0;34m\u001b[0m\u001b[0m\n\u001b[1;32m    377\u001b[0m         \u001b[0;32mif\u001b[0m \u001b[0mcancellation_manager\u001b[0m \u001b[0;32mis\u001b[0m \u001b[0;32mNone\u001b[0m\u001b[0;34m:\u001b[0m\u001b[0;34m\u001b[0m\u001b[0;34m\u001b[0m\u001b[0m\n\u001b[0;32m--> 378\u001b[0;31m           outputs = execute.execute(\n\u001b[0m\u001b[1;32m    379\u001b[0m               \u001b[0mstr\u001b[0m\u001b[0;34m(\u001b[0m\u001b[0mself\u001b[0m\u001b[0;34m.\u001b[0m\u001b[0msignature\u001b[0m\u001b[0;34m.\u001b[0m\u001b[0mname\u001b[0m\u001b[0;34m)\u001b[0m\u001b[0;34m,\u001b[0m\u001b[0;34m\u001b[0m\u001b[0;34m\u001b[0m\u001b[0m\n\u001b[1;32m    380\u001b[0m               \u001b[0mnum_outputs\u001b[0m\u001b[0;34m=\u001b[0m\u001b[0mself\u001b[0m\u001b[0;34m.\u001b[0m\u001b[0m_num_outputs\u001b[0m\u001b[0;34m,\u001b[0m\u001b[0;34m\u001b[0m\u001b[0;34m\u001b[0m\u001b[0m\n",
            "\u001b[0;32m/usr/local/lib/python3.9/dist-packages/tensorflow/python/eager/execute.py\u001b[0m in \u001b[0;36mquick_execute\u001b[0;34m(op_name, num_outputs, inputs, attrs, ctx, name)\u001b[0m\n\u001b[1;32m     50\u001b[0m   \u001b[0;32mtry\u001b[0m\u001b[0;34m:\u001b[0m\u001b[0;34m\u001b[0m\u001b[0;34m\u001b[0m\u001b[0m\n\u001b[1;32m     51\u001b[0m     \u001b[0mctx\u001b[0m\u001b[0;34m.\u001b[0m\u001b[0mensure_initialized\u001b[0m\u001b[0;34m(\u001b[0m\u001b[0;34m)\u001b[0m\u001b[0;34m\u001b[0m\u001b[0;34m\u001b[0m\u001b[0m\n\u001b[0;32m---> 52\u001b[0;31m     tensors = pywrap_tfe.TFE_Py_Execute(ctx._handle, device_name, op_name,\n\u001b[0m\u001b[1;32m     53\u001b[0m                                         inputs, attrs, num_outputs)\n\u001b[1;32m     54\u001b[0m   \u001b[0;32mexcept\u001b[0m \u001b[0mcore\u001b[0m\u001b[0;34m.\u001b[0m\u001b[0m_NotOkStatusException\u001b[0m \u001b[0;32mas\u001b[0m \u001b[0me\u001b[0m\u001b[0;34m:\u001b[0m\u001b[0;34m\u001b[0m\u001b[0;34m\u001b[0m\u001b[0m\n",
            "\u001b[0;31mKeyboardInterrupt\u001b[0m: "
          ]
        }
      ],
      "source": [
        "import tensorflow as tf\n",
        "mnist = tf.keras.datasets.mnist\n",
        "# Check if a GPU is available\n",
        "if not tf.test.gpu_device_name():\n",
        "    print('GPU device not found')\n",
        "else:\n",
        "    print('GPU device found:', tf.test.gpu_device_name())\n",
        "\n",
        "\n",
        "model = tf.keras.models.Sequential([\n",
        "  tf.keras.layers.Dense(2500, activation='relu'),\n",
        "  tf.keras.layers.Dense(1500, activation='relu'),\n",
        "  tf.keras.layers.Dense(1000, activation='relu'),\n",
        "  tf.keras.layers.Dense(500, activation='relu'),\n",
        "  tf.keras.layers.Dense(250, activation='relu'),\n",
        "  tf.keras.layers.Dense(100, activation='relu'),\n",
        "  tf.keras.layers.Dense(50, activation='relu'),\n",
        "\n",
        "  tf.keras.layers.Dense(25, activation='relu'),\n",
        "  tf.keras.layers.Dense(10, activation='relu'),\n",
        " \n",
        "  tf.keras.layers.Dense(1, activation='sigmoid')\n",
        "])\n",
        "\n",
        "model.compile(optimizer='adam',\n",
        "              loss='binary_crossentropy',\n",
        "              metrics=['accuracy'])\n",
        "\n",
        "model.fit(X_train, y_train, epochs=100)\n",
        "model.evaluate(X_test, y_test)"
      ]
    },
    {
      "cell_type": "code",
      "execution_count": null,
      "metadata": {
        "colab": {
          "base_uri": "https://localhost:8080/"
        },
        "id": "5_hVew_1Cxzs",
        "outputId": "93d23a7b-f81a-4008-891e-6caebb680752"
      },
      "outputs": [
        {
          "data": {
            "text/plain": [
              "label    0.528757\n",
              "dtype: float64"
            ]
          },
          "execution_count": 32,
          "metadata": {},
          "output_type": "execute_result"
        }
      ],
      "source": [
        "y_train.mean()"
      ]
    },
    {
      "cell_type": "code",
      "execution_count": null,
      "metadata": {
        "colab": {
          "base_uri": "https://localhost:8080/"
        },
        "id": "UhD6QCuMisfo",
        "outputId": "a1df9534-fb7a-4008-93c2-5c16358ee9e7"
      },
      "outputs": [
        {
          "name": "stdout",
          "output_type": "stream",
          "text": [
            "Epoch 1/100\n",
            "15000/15000 [==============================] - 100s 6ms/step - loss: 0.5627 - accuracy: 0.7062\n",
            "Epoch 2/100\n",
            "15000/15000 [==============================] - 95s 6ms/step - loss: 0.5317 - accuracy: 0.7286\n",
            "Epoch 3/100\n",
            "15000/15000 [==============================] - 92s 6ms/step - loss: 0.5196 - accuracy: 0.7370\n",
            "Epoch 4/100\n",
            "15000/15000 [==============================] - 92s 6ms/step - loss: 0.5123 - accuracy: 0.7415\n",
            "Epoch 5/100\n",
            "15000/15000 [==============================] - 93s 6ms/step - loss: 0.5078 - accuracy: 0.7455\n",
            "Epoch 6/100\n",
            "15000/15000 [==============================] - 89s 6ms/step - loss: 0.5028 - accuracy: 0.7488\n",
            "Epoch 7/100\n",
            "15000/15000 [==============================] - 92s 6ms/step - loss: 0.4993 - accuracy: 0.7508\n",
            "Epoch 8/100\n",
            "15000/15000 [==============================] - 91s 6ms/step - loss: 0.4965 - accuracy: 0.7525\n",
            "Epoch 9/100\n",
            "15000/15000 [==============================] - 89s 6ms/step - loss: 0.4943 - accuracy: 0.7538\n",
            "Epoch 10/100\n",
            "15000/15000 [==============================] - 97s 6ms/step - loss: 0.4985 - accuracy: 0.7509\n",
            "Epoch 11/100\n",
            "15000/15000 [==============================] - 92s 6ms/step - loss: 0.4956 - accuracy: 0.7534\n",
            "Epoch 12/100\n",
            "15000/15000 [==============================] - 91s 6ms/step - loss: 0.4919 - accuracy: 0.7551\n",
            "Epoch 13/100\n",
            "15000/15000 [==============================] - 90s 6ms/step - loss: 0.4867 - accuracy: 0.7585\n",
            "Epoch 14/100\n",
            "15000/15000 [==============================] - 95s 6ms/step - loss: 0.4855 - accuracy: 0.7593\n",
            "Epoch 15/100\n",
            "15000/15000 [==============================] - 90s 6ms/step - loss: 0.4846 - accuracy: 0.7603\n",
            "Epoch 16/100\n",
            "15000/15000 [==============================] - 94s 6ms/step - loss: 0.4838 - accuracy: 0.7602\n",
            "Epoch 17/100\n",
            "15000/15000 [==============================] - 124s 8ms/step - loss: 0.4831 - accuracy: 0.7607\n",
            "Epoch 18/100\n",
            "15000/15000 [==============================] - 97s 6ms/step - loss: 0.4832 - accuracy: 0.7611\n",
            "Epoch 19/100\n",
            "15000/15000 [==============================] - 92s 6ms/step - loss: 0.4800 - accuracy: 0.7630\n",
            "Epoch 20/100\n",
            "15000/15000 [==============================] - 93s 6ms/step - loss: 0.4782 - accuracy: 0.7646\n",
            "Epoch 21/100\n",
            "15000/15000 [==============================] - 91s 6ms/step - loss: 0.4763 - accuracy: 0.7656\n",
            "Epoch 22/100\n",
            "15000/15000 [==============================] - 93s 6ms/step - loss: 0.4817 - accuracy: 0.7621\n",
            "Epoch 23/100\n",
            "15000/15000 [==============================] - 90s 6ms/step - loss: 0.4794 - accuracy: 0.7638\n",
            "Epoch 24/100\n",
            "15000/15000 [==============================] - 90s 6ms/step - loss: 0.4743 - accuracy: 0.7668\n",
            "Epoch 25/100\n",
            "15000/15000 [==============================] - 92s 6ms/step - loss: 0.4745 - accuracy: 0.7673\n",
            "Epoch 26/100\n",
            "15000/15000 [==============================] - 89s 6ms/step - loss: 0.4805 - accuracy: 0.7633\n",
            "Epoch 27/100\n",
            "15000/15000 [==============================] - 91s 6ms/step - loss: 0.4724 - accuracy: 0.7681\n",
            "Epoch 28/100\n",
            "15000/15000 [==============================] - 90s 6ms/step - loss: 0.4734 - accuracy: 0.7674\n",
            "Epoch 29/100\n",
            "15000/15000 [==============================] - 90s 6ms/step - loss: 0.4788 - accuracy: 0.7643\n",
            "Epoch 30/100\n",
            "15000/15000 [==============================] - 90s 6ms/step - loss: 0.4752 - accuracy: 0.7666\n",
            "Epoch 31/100\n",
            "15000/15000 [==============================] - 91s 6ms/step - loss: 0.4780 - accuracy: 0.7649\n",
            "Epoch 32/100\n",
            "15000/15000 [==============================] - 91s 6ms/step - loss: 0.4727 - accuracy: 0.7683\n",
            "Epoch 33/100\n",
            "15000/15000 [==============================] - 89s 6ms/step - loss: 0.4722 - accuracy: 0.7691\n",
            "Epoch 34/100\n",
            "15000/15000 [==============================] - 92s 6ms/step - loss: 0.4698 - accuracy: 0.7701\n",
            "Epoch 35/100\n",
            "15000/15000 [==============================] - 90s 6ms/step - loss: 0.4705 - accuracy: 0.7704\n",
            "Epoch 36/100\n",
            "15000/15000 [==============================] - 90s 6ms/step - loss: 0.4668 - accuracy: 0.7732\n",
            "Epoch 37/100\n",
            "15000/15000 [==============================] - 90s 6ms/step - loss: 0.4691 - accuracy: 0.7720\n",
            "Epoch 38/100\n",
            "15000/15000 [==============================] - 90s 6ms/step - loss: 0.4805 - accuracy: 0.7678\n",
            "Epoch 39/100\n",
            "15000/15000 [==============================] - 90s 6ms/step - loss: 0.4874 - accuracy: 0.7679\n",
            "Epoch 40/100\n",
            "15000/15000 [==============================] - 92s 6ms/step - loss: 0.5067 - accuracy: 0.7597\n",
            "Epoch 41/100\n",
            "15000/15000 [==============================] - 89s 6ms/step - loss: 0.5229 - accuracy: 0.7533\n",
            "Epoch 42/100\n",
            "15000/15000 [==============================] - 91s 6ms/step - loss: 0.5136 - accuracy: 0.7521\n",
            "Epoch 43/100\n",
            "15000/15000 [==============================] - 90s 6ms/step - loss: 0.5338 - accuracy: 0.7469\n",
            "Epoch 44/100\n",
            "15000/15000 [==============================] - 89s 6ms/step - loss: 0.5359 - accuracy: 0.7404\n",
            "Epoch 45/100\n",
            "15000/15000 [==============================] - 92s 6ms/step - loss: 0.5089 - accuracy: 0.7554\n",
            "Epoch 46/100\n",
            "15000/15000 [==============================] - 88s 6ms/step - loss: 0.5183 - accuracy: 0.7527\n",
            "Epoch 47/100\n",
            "15000/15000 [==============================] - 90s 6ms/step - loss: 0.4972 - accuracy: 0.7611\n",
            "Epoch 48/100\n",
            "15000/15000 [==============================] - 90s 6ms/step - loss: 0.4899 - accuracy: 0.7642\n",
            "Epoch 49/100\n",
            "15000/15000 [==============================] - 90s 6ms/step - loss: 0.4914 - accuracy: 0.7675\n",
            "Epoch 50/100\n",
            "15000/15000 [==============================] - 89s 6ms/step - loss: 0.4912 - accuracy: 0.7699\n",
            "Epoch 51/100\n",
            "15000/15000 [==============================] - 91s 6ms/step - loss: 0.4845 - accuracy: 0.7716\n",
            "Epoch 52/100\n",
            "15000/15000 [==============================] - 89s 6ms/step - loss: 0.4921 - accuracy: 0.7704\n",
            "Epoch 53/100\n",
            "15000/15000 [==============================] - 90s 6ms/step - loss: 0.5019 - accuracy: 0.7677\n",
            "Epoch 54/100\n",
            "15000/15000 [==============================] - 90s 6ms/step - loss: 0.4937 - accuracy: 0.7696\n",
            "Epoch 55/100\n",
            "15000/15000 [==============================] - 90s 6ms/step - loss: 0.4908 - accuracy: 0.7723\n",
            "Epoch 56/100\n",
            "15000/15000 [==============================] - 88s 6ms/step - loss: 0.4839 - accuracy: 0.7752\n",
            "Epoch 57/100\n",
            "15000/15000 [==============================] - 92s 6ms/step - loss: 0.4813 - accuracy: 0.7771\n",
            "Epoch 58/100\n",
            "15000/15000 [==============================] - 89s 6ms/step - loss: 0.4874 - accuracy: 0.7772\n",
            "Epoch 59/100\n",
            "15000/15000 [==============================] - 93s 6ms/step - loss: 0.4808 - accuracy: 0.7768\n",
            "Epoch 60/100\n",
            "15000/15000 [==============================] - 90s 6ms/step - loss: 0.4908 - accuracy: 0.7734\n",
            "Epoch 61/100\n",
            "15000/15000 [==============================] - 90s 6ms/step - loss: 0.4773 - accuracy: 0.7785\n",
            "Epoch 62/100\n",
            "15000/15000 [==============================] - 92s 6ms/step - loss: 0.4981 - accuracy: 0.7729\n",
            "Epoch 63/100\n",
            "15000/15000 [==============================] - 89s 6ms/step - loss: 0.5261 - accuracy: 0.7518\n",
            "Epoch 64/100\n",
            "15000/15000 [==============================] - 91s 6ms/step - loss: 0.5208 - accuracy: 0.7599\n",
            "Epoch 65/100\n",
            "15000/15000 [==============================] - 89s 6ms/step - loss: 0.5352 - accuracy: 0.7468\n",
            "Epoch 66/100\n",
            "15000/15000 [==============================] - 91s 6ms/step - loss: 0.5287 - accuracy: 0.7513\n",
            "Epoch 67/100\n",
            "15000/15000 [==============================] - 89s 6ms/step - loss: 0.5274 - accuracy: 0.7491\n",
            "Epoch 68/100\n",
            "15000/15000 [==============================] - 90s 6ms/step - loss: 0.5171 - accuracy: 0.7602\n",
            "Epoch 69/100\n",
            "15000/15000 [==============================] - 87s 6ms/step - loss: 0.5227 - accuracy: 0.7554\n",
            "Epoch 70/100\n",
            "15000/15000 [==============================] - 90s 6ms/step - loss: 0.5041 - accuracy: 0.7593\n",
            "Epoch 71/100\n",
            "15000/15000 [==============================] - 88s 6ms/step - loss: 0.5099 - accuracy: 0.7614\n",
            "Epoch 72/100\n",
            "15000/15000 [==============================] - 90s 6ms/step - loss: 0.5203 - accuracy: 0.7583\n",
            "Epoch 73/100\n",
            "15000/15000 [==============================] - 91s 6ms/step - loss: 0.5043 - accuracy: 0.7640\n",
            "Epoch 74/100\n",
            "15000/15000 [==============================] - 89s 6ms/step - loss: 0.5009 - accuracy: 0.7634\n",
            "Epoch 75/100\n",
            "15000/15000 [==============================] - 91s 6ms/step - loss: 0.4923 - accuracy: 0.7682\n",
            "Epoch 76/100\n",
            "15000/15000 [==============================] - 89s 6ms/step - loss: 0.4852 - accuracy: 0.7720\n",
            "Epoch 77/100\n",
            "15000/15000 [==============================] - 90s 6ms/step - loss: 0.4851 - accuracy: 0.7735\n",
            "Epoch 78/100\n",
            "15000/15000 [==============================] - 90s 6ms/step - loss: 0.4815 - accuracy: 0.7748\n",
            "Epoch 79/100\n",
            "15000/15000 [==============================] - 91s 6ms/step - loss: 0.4889 - accuracy: 0.7741\n",
            "Epoch 80/100\n",
            "15000/15000 [==============================] - 90s 6ms/step - loss: 0.4917 - accuracy: 0.7746\n",
            "Epoch 81/100\n",
            "15000/15000 [==============================] - 90s 6ms/step - loss: 0.4875 - accuracy: 0.7765\n",
            "Epoch 82/100\n",
            "15000/15000 [==============================] - 90s 6ms/step - loss: 0.4942 - accuracy: 0.7734\n",
            "Epoch 83/100\n",
            "15000/15000 [==============================] - 90s 6ms/step - loss: 0.4952 - accuracy: 0.7735\n",
            "Epoch 84/100\n",
            "15000/15000 [==============================] - 89s 6ms/step - loss: 0.4881 - accuracy: 0.7745\n",
            "Epoch 85/100\n",
            "15000/15000 [==============================] - 90s 6ms/step - loss: 0.4875 - accuracy: 0.7755\n",
            "Epoch 86/100\n",
            "15000/15000 [==============================] - 90s 6ms/step - loss: 0.4839 - accuracy: 0.7775\n",
            "Epoch 87/100\n",
            "15000/15000 [==============================] - 89s 6ms/step - loss: 0.4883 - accuracy: 0.7751\n",
            "Epoch 88/100\n",
            "15000/15000 [==============================] - 90s 6ms/step - loss: 0.5005 - accuracy: 0.7708\n",
            "Epoch 89/100\n",
            "15000/15000 [==============================] - 90s 6ms/step - loss: 0.4979 - accuracy: 0.7739\n",
            "Epoch 90/100\n",
            "15000/15000 [==============================] - 90s 6ms/step - loss: 0.4973 - accuracy: 0.7720\n",
            "Epoch 91/100\n",
            "15000/15000 [==============================] - 90s 6ms/step - loss: 0.4872 - accuracy: 0.7768\n",
            "Epoch 92/100\n",
            "15000/15000 [==============================] - 89s 6ms/step - loss: 0.4858 - accuracy: 0.7784\n",
            "Epoch 93/100\n",
            "15000/15000 [==============================] - 90s 6ms/step - loss: 0.4936 - accuracy: 0.7763\n",
            "Epoch 94/100\n",
            "15000/15000 [==============================] - 89s 6ms/step - loss: 0.4994 - accuracy: 0.7748\n",
            "Epoch 95/100\n",
            "15000/15000 [==============================] - 89s 6ms/step - loss: 0.4992 - accuracy: 0.7752\n",
            "Epoch 96/100\n",
            "15000/15000 [==============================] - 92s 6ms/step - loss: 0.4856 - accuracy: 0.7797\n",
            "Epoch 97/100\n",
            "15000/15000 [==============================] - 90s 6ms/step - loss: 0.4851 - accuracy: 0.7805\n",
            "Epoch 98/100\n",
            "15000/15000 [==============================] - 91s 6ms/step - loss: 0.4915 - accuracy: 0.7791\n",
            "Epoch 99/100\n",
            "15000/15000 [==============================] - 90s 6ms/step - loss: 0.5004 - accuracy: 0.7761\n",
            "Epoch 100/100\n",
            "15000/15000 [==============================] - 89s 6ms/step - loss: 0.4917 - accuracy: 0.7791\n",
            "3750/3750 [==============================] - 10s 3ms/step - loss: 0.5512 - accuracy: 0.7457\n"
          ]
        },
        {
          "data": {
            "text/plain": [
              "[0.5511807799339294, 0.7456833124160767]"
            ]
          },
          "execution_count": 31,
          "metadata": {},
          "output_type": "execute_result"
        }
      ],
      "source": [
        "import tensorflow as tf\n",
        "mnist = tf.keras.datasets.mnist\n",
        "# Check if a GPU is available\n",
        "if not tf.test.gpu_device_name():\n",
        "    print('GPU device not found')\n",
        "else:\n",
        "    print('GPU device found:', tf.test.gpu_device_name())\n",
        "\n",
        "\n",
        "model = tf.keras.models.Sequential([\n",
        "  tf.keras.layers.Dense(128, activation='relu'),\n",
        "  tf.keras.layers.Dense(128, activation='relu'),\n",
        "  tf.keras.layers.Dense(128, activation='relu'),\n",
        "  tf.keras.layers.Dense(128, activation='relu'),\n",
        "  tf.keras.layers.Dense(128, activation='relu'),\n",
        "  tf.keras.layers.Dense(128, activation='relu'),\n",
        "  tf.keras.layers.Dense(128, activation='relu'),\n",
        "  tf.keras.layers.Dense(128, activation='relu'),\n",
        "  tf.keras.layers.Dense(128, activation='relu'),\n",
        "  tf.keras.layers.Dense(128, activation='relu'),\n",
        "  tf.keras.layers.Dense(128, activation='relu'),\n",
        "  tf.keras.layers.Dense(128, activation='relu'),\n",
        "  tf.keras.layers.Dense(128, activation='relu'),\n",
        "  tf.keras.layers.Dense(128, activation='relu'),\n",
        "  tf.keras.layers.Dense(1, activation='sigmoid')\n",
        "])\n",
        "\n",
        "model.compile(optimizer='adam',\n",
        "              loss='binary_crossentropy',\n",
        "              metrics=['accuracy'])\n",
        "\n",
        "model.fit(X_train, y_train, epochs=100)\n",
        "model.evaluate(X_test, y_test)"
      ]
    },
    {
      "cell_type": "code",
      "execution_count": null,
      "metadata": {
        "colab": {
          "base_uri": "https://localhost:8080/"
        },
        "id": "PoSEWVvAjXGp",
        "outputId": "b770bdfa-de04-4bb9-facd-1bf7463dc0c1"
      },
      "outputs": [
        {
          "name": "stdout",
          "output_type": "stream",
          "text": [
            "Epoch 1/65\n",
            "5625/5625 [==============================] - 101s 16ms/step - loss: 0.5984 - accuracy: 0.6689 - val_loss: 0.5671 - val_accuracy: 0.7092\n",
            "Epoch 2/65\n",
            "5625/5625 [==============================] - 93s 17ms/step - loss: 0.5535 - accuracy: 0.7145 - val_loss: 0.5504 - val_accuracy: 0.7181\n",
            "Epoch 3/65\n",
            "5625/5625 [==============================] - 82s 15ms/step - loss: 0.5391 - accuracy: 0.7240 - val_loss: 0.5369 - val_accuracy: 0.7241\n",
            "Epoch 4/65\n",
            "5625/5625 [==============================] - 83s 15ms/step - loss: 0.5289 - accuracy: 0.7315 - val_loss: 0.5346 - val_accuracy: 0.7245\n",
            "Epoch 5/65\n",
            "5625/5625 [==============================] - 90s 16ms/step - loss: 0.5213 - accuracy: 0.7361 - val_loss: 0.5284 - val_accuracy: 0.7281\n",
            "Epoch 6/65\n",
            "5625/5625 [==============================] - 81s 14ms/step - loss: 0.5146 - accuracy: 0.7408 - val_loss: 0.5301 - val_accuracy: 0.7330\n",
            "Epoch 7/65\n",
            "5625/5625 [==============================] - 90s 16ms/step - loss: 0.5090 - accuracy: 0.7444 - val_loss: 0.5228 - val_accuracy: 0.7342\n",
            "Epoch 8/65\n",
            "5625/5625 [==============================] - 90s 16ms/step - loss: 0.5046 - accuracy: 0.7481 - val_loss: 0.5221 - val_accuracy: 0.7348\n",
            "Epoch 9/65\n",
            "5625/5625 [==============================] - 89s 16ms/step - loss: 0.5000 - accuracy: 0.7505 - val_loss: 0.5213 - val_accuracy: 0.7362\n",
            "Epoch 10/65\n",
            "5625/5625 [==============================] - 91s 16ms/step - loss: 0.4954 - accuracy: 0.7546 - val_loss: 0.5212 - val_accuracy: 0.7323\n",
            "Epoch 11/65\n",
            "5625/5625 [==============================] - 91s 16ms/step - loss: 0.4917 - accuracy: 0.7564 - val_loss: 0.5199 - val_accuracy: 0.7377\n",
            "Epoch 12/65\n",
            "5625/5625 [==============================] - 82s 15ms/step - loss: 0.4860 - accuracy: 0.7607 - val_loss: 0.5224 - val_accuracy: 0.7368\n",
            "Epoch 13/65\n",
            "5625/5625 [==============================] - 88s 16ms/step - loss: 0.4807 - accuracy: 0.7625 - val_loss: 0.5244 - val_accuracy: 0.7358\n",
            "Epoch 14/65\n",
            "5625/5625 [==============================] - 81s 14ms/step - loss: 0.4765 - accuracy: 0.7663 - val_loss: 0.5255 - val_accuracy: 0.7355\n",
            "Epoch 15/65\n",
            "5625/5625 [==============================] - 89s 16ms/step - loss: 0.4722 - accuracy: 0.7685 - val_loss: 0.5276 - val_accuracy: 0.7345\n",
            "Epoch 16/65\n",
            "5625/5625 [==============================] - 88s 16ms/step - loss: 0.4678 - accuracy: 0.7720 - val_loss: 0.5296 - val_accuracy: 0.7358\n",
            "Epoch 17/65\n",
            "5625/5625 [==============================] - 81s 14ms/step - loss: 0.4641 - accuracy: 0.7744 - val_loss: 0.5266 - val_accuracy: 0.7335\n",
            "Epoch 18/65\n",
            "5625/5625 [==============================] - 90s 16ms/step - loss: 0.4626 - accuracy: 0.7753 - val_loss: 0.5283 - val_accuracy: 0.7331\n",
            "Epoch 19/65\n",
            "5625/5625 [==============================] - 89s 16ms/step - loss: 0.4531 - accuracy: 0.7813 - val_loss: 0.5386 - val_accuracy: 0.7329\n",
            "Epoch 20/65\n",
            "5625/5625 [==============================] - 81s 14ms/step - loss: 0.4516 - accuracy: 0.7822 - val_loss: 0.5459 - val_accuracy: 0.7313\n",
            "Epoch 21/65\n",
            "5625/5625 [==============================] - 81s 14ms/step - loss: 0.4461 - accuracy: 0.7855 - val_loss: 0.5553 - val_accuracy: 0.7283\n",
            "Epoch 22/65\n",
            "5625/5625 [==============================] - 88s 16ms/step - loss: 0.4420 - accuracy: 0.7881 - val_loss: 0.5446 - val_accuracy: 0.7306\n",
            "Epoch 23/65\n",
            "5625/5625 [==============================] - 89s 16ms/step - loss: 0.4363 - accuracy: 0.7912 - val_loss: 0.5518 - val_accuracy: 0.7274\n",
            "Epoch 24/65\n",
            "5625/5625 [==============================] - 88s 16ms/step - loss: 0.4358 - accuracy: 0.7913 - val_loss: 0.5687 - val_accuracy: 0.7307\n",
            "Epoch 25/65\n",
            "5625/5625 [==============================] - 89s 16ms/step - loss: 0.4310 - accuracy: 0.7944 - val_loss: 0.5545 - val_accuracy: 0.7294\n",
            "Epoch 26/65\n",
            "5625/5625 [==============================] - 88s 16ms/step - loss: 0.4747 - accuracy: 0.7752 - val_loss: 0.5940 - val_accuracy: 0.6922\n",
            "Epoch 27/65\n",
            "5625/5625 [==============================] - 80s 14ms/step - loss: 0.6919 - accuracy: 0.5289 - val_loss: 0.6930 - val_accuracy: 0.5293\n",
            "Epoch 28/65\n",
            "5625/5625 [==============================] - 79s 14ms/step - loss: 0.6917 - accuracy: 0.5293 - val_loss: 0.6915 - val_accuracy: 0.5293\n",
            "Epoch 29/65\n",
            "5625/5625 [==============================] - 88s 16ms/step - loss: 0.6916 - accuracy: 0.5293 - val_loss: 0.6915 - val_accuracy: 0.5293\n",
            "Epoch 30/65\n",
            "5625/5625 [==============================] - 80s 14ms/step - loss: 0.6916 - accuracy: 0.5293 - val_loss: 0.6915 - val_accuracy: 0.5293\n",
            "Epoch 31/65\n",
            "5625/5625 [==============================] - 82s 15ms/step - loss: 0.6916 - accuracy: 0.5293 - val_loss: 0.6917 - val_accuracy: 0.5293\n",
            "Epoch 32/65\n",
            "5625/5625 [==============================] - 80s 14ms/step - loss: 0.6916 - accuracy: 0.5293 - val_loss: 0.6915 - val_accuracy: 0.5293\n",
            "Epoch 33/65\n",
            "5625/5625 [==============================] - 88s 16ms/step - loss: 0.6915 - accuracy: 0.5293 - val_loss: 0.6917 - val_accuracy: 0.5293\n",
            "Epoch 34/65\n",
            "5625/5625 [==============================] - 87s 16ms/step - loss: 0.6915 - accuracy: 0.5293 - val_loss: 0.6914 - val_accuracy: 0.5293\n",
            "Epoch 35/65\n",
            "5625/5625 [==============================] - 88s 16ms/step - loss: 0.6915 - accuracy: 0.5293 - val_loss: 0.6914 - val_accuracy: 0.5293\n",
            "Epoch 36/65\n",
            "5625/5625 [==============================] - 88s 16ms/step - loss: 0.6915 - accuracy: 0.5293 - val_loss: 0.6917 - val_accuracy: 0.5293\n",
            "Epoch 37/65\n",
            "5625/5625 [==============================] - 81s 14ms/step - loss: 0.6915 - accuracy: 0.5293 - val_loss: 0.6921 - val_accuracy: 0.5293\n",
            "Epoch 38/65\n",
            "5625/5625 [==============================] - 89s 16ms/step - loss: 0.6916 - accuracy: 0.5293 - val_loss: 0.6915 - val_accuracy: 0.5293\n",
            "Epoch 39/65\n",
            "5625/5625 [==============================] - 89s 16ms/step - loss: 0.6915 - accuracy: 0.5293 - val_loss: 0.6916 - val_accuracy: 0.5293\n",
            "Epoch 40/65\n",
            "5625/5625 [==============================] - 82s 15ms/step - loss: 0.6915 - accuracy: 0.5293 - val_loss: 0.6917 - val_accuracy: 0.5293\n",
            "Epoch 41/65\n",
            "5625/5625 [==============================] - 87s 16ms/step - loss: 0.6915 - accuracy: 0.5293 - val_loss: 0.6915 - val_accuracy: 0.5293\n",
            "Epoch 42/65\n",
            "5625/5625 [==============================] - 79s 14ms/step - loss: 0.6915 - accuracy: 0.5293 - val_loss: 0.6914 - val_accuracy: 0.5293\n",
            "Epoch 43/65\n",
            "5625/5625 [==============================] - 89s 16ms/step - loss: 0.6915 - accuracy: 0.5293 - val_loss: 0.6915 - val_accuracy: 0.5293\n",
            "Epoch 44/65\n",
            "5625/5625 [==============================] - 87s 16ms/step - loss: 0.6915 - accuracy: 0.5293 - val_loss: 0.6915 - val_accuracy: 0.5293\n",
            "Epoch 45/65\n",
            "5625/5625 [==============================] - 80s 14ms/step - loss: 0.6915 - accuracy: 0.5293 - val_loss: 0.6915 - val_accuracy: 0.5293\n",
            "Epoch 46/65\n",
            "5625/5625 [==============================] - 88s 16ms/step - loss: 0.6915 - accuracy: 0.5293 - val_loss: 0.6914 - val_accuracy: 0.5293\n",
            "Epoch 47/65\n",
            "5625/5625 [==============================] - 87s 15ms/step - loss: 0.6915 - accuracy: 0.5293 - val_loss: 0.6916 - val_accuracy: 0.5293\n",
            "Epoch 48/65\n",
            "5625/5625 [==============================] - 80s 14ms/step - loss: 0.6915 - accuracy: 0.5293 - val_loss: 0.6914 - val_accuracy: 0.5293\n",
            "Epoch 49/65\n",
            "5625/5625 [==============================] - 89s 16ms/step - loss: 0.6915 - accuracy: 0.5293 - val_loss: 0.6916 - val_accuracy: 0.5293\n",
            "Epoch 50/65\n",
            "5625/5625 [==============================] - 88s 16ms/step - loss: 0.6915 - accuracy: 0.5293 - val_loss: 0.6914 - val_accuracy: 0.5293\n",
            "Epoch 51/65\n",
            "5625/5625 [==============================] - 80s 14ms/step - loss: 0.6915 - accuracy: 0.5293 - val_loss: 0.6915 - val_accuracy: 0.5293\n",
            "Epoch 52/65\n",
            "5625/5625 [==============================] - 80s 14ms/step - loss: 0.6915 - accuracy: 0.5293 - val_loss: 0.6914 - val_accuracy: 0.5293\n",
            "Epoch 53/65\n",
            "5625/5625 [==============================] - 79s 14ms/step - loss: 0.6915 - accuracy: 0.5293 - val_loss: 0.6914 - val_accuracy: 0.5293\n",
            "Epoch 54/65\n",
            "5625/5625 [==============================] - 87s 16ms/step - loss: 0.6915 - accuracy: 0.5293 - val_loss: 0.6915 - val_accuracy: 0.5293\n",
            "Epoch 55/65\n",
            "5625/5625 [==============================] - 87s 15ms/step - loss: 0.6915 - accuracy: 0.5293 - val_loss: 0.6915 - val_accuracy: 0.5293\n",
            "Epoch 56/65\n",
            "5625/5625 [==============================] - 89s 16ms/step - loss: 0.6915 - accuracy: 0.5293 - val_loss: 0.6915 - val_accuracy: 0.5293\n",
            "Epoch 57/65\n",
            "5625/5625 [==============================] - 87s 15ms/step - loss: 0.6915 - accuracy: 0.5293 - val_loss: 0.6915 - val_accuracy: 0.5293\n",
            "Epoch 58/65\n",
            "5625/5625 [==============================] - 89s 16ms/step - loss: 0.6915 - accuracy: 0.5293 - val_loss: 0.6915 - val_accuracy: 0.5293\n",
            "Epoch 59/65\n",
            "5625/5625 [==============================] - 88s 16ms/step - loss: 0.6915 - accuracy: 0.5293 - val_loss: 0.6915 - val_accuracy: 0.5293\n",
            "Epoch 60/65\n",
            "5625/5625 [==============================] - 89s 16ms/step - loss: 0.6915 - accuracy: 0.5293 - val_loss: 0.6915 - val_accuracy: 0.5293\n",
            "Epoch 61/65\n",
            "5625/5625 [==============================] - 89s 16ms/step - loss: 0.6915 - accuracy: 0.5293 - val_loss: 0.6915 - val_accuracy: 0.5293\n",
            "Epoch 62/65\n",
            "5625/5625 [==============================] - 88s 16ms/step - loss: 0.6915 - accuracy: 0.5293 - val_loss: 0.6914 - val_accuracy: 0.5293\n",
            "Epoch 63/65\n",
            "5625/5625 [==============================] - 81s 14ms/step - loss: 0.6915 - accuracy: 0.5293 - val_loss: 0.6915 - val_accuracy: 0.5293\n",
            "Epoch 64/65\n",
            "5625/5625 [==============================] - 89s 16ms/step - loss: 0.6915 - accuracy: 0.5293 - val_loss: 0.6916 - val_accuracy: 0.5293\n",
            "Epoch 65/65\n",
            "5625/5625 [==============================] - 81s 14ms/step - loss: 0.6915 - accuracy: 0.5293 - val_loss: 0.6915 - val_accuracy: 0.5293\n"
          ]
        },
        {
          "data": {
            "text/plain": [
              "<keras.callbacks.History at 0x7faecc0acf10>"
            ]
          },
          "execution_count": 32,
          "metadata": {},
          "output_type": "execute_result"
        }
      ],
      "source": [
        "import tensorflow as tf\n",
        "\n",
        "\n",
        "model = tf.keras.models.Sequential([\n",
        "  tf.keras.layers.Dense(250, activation='relu'),\n",
        "  tf.keras.layers.Dense(200, activation='relu'),\n",
        "  tf.keras.layers.Dense(190, activation='relu'),\n",
        "  tf.keras.layers.Dense(180, activation='relu'),\n",
        "  tf.keras.layers.Dense(170, activation='relu'),\n",
        "  tf.keras.layers.Dense(194, activation='relu'),\n",
        "  tf.keras.layers.Dense(294, activation='relu'),\n",
        "  tf.keras.layers.Dense(200, activation='relu'),\n",
        "  tf.keras.layers.Dense(196, activation='relu'),\n",
        "  tf.keras.layers.Dense(175, activation='relu'),\n",
        "  tf.keras.layers.Dense(109, activation='relu'),\n",
        "  tf.keras.layers.Dense(128, activation='relu'),\n",
        "  tf.keras.layers.Dense(107, activation='relu'),\n",
        "  tf.keras.layers.Dense(90, activation='relu'),\n",
        "  tf.keras.layers.Dense(80, activation='relu'),\n",
        "  tf.keras.layers.Dense(70, activation='relu'),\n",
        "  tf.keras.layers.Dense(60, activation='relu'),\n",
        "  tf.keras.layers.Dense(40, activation='relu'),\n",
        "  tf.keras.layers.Dense(94, activation='relu'),\n",
        "  tf.keras.layers.Dense(30, activation='relu'),\n",
        "  tf.keras.layers.Dense(38, activation='relu'),\n",
        "  tf.keras.layers.Dense(100, activation='relu'),\n",
        "  tf.keras.layers.Dense(20, activation='relu'),\n",
        "  tf.keras.layers.Dense(10, activation='relu'),\n",
        "  tf.keras.layers.Dense(1, activation='sigmoid')\n",
        "])\n",
        "\n",
        "model.compile(optimizer='adam',\n",
        "              loss='binary_crossentropy',\n",
        "              metrics=['accuracy'])\n",
        "\n",
        "checkpoint_filepath = '/content/checkpoint.txt'\n",
        "model_checkpoint_callback = tf.keras.callbacks.ModelCheckpoint(\n",
        "    filepath=checkpoint_filepath,\n",
        "    save_weights_only=True,\n",
        "    monitor='val_accuracy',\n",
        "    mode='max',\n",
        "    save_best_only=True)\n",
        "\n",
        "\n",
        "model.fit(X_train, y_train, epochs=65,validation_data=(X_test, y_test),callbacks=[model_checkpoint_callback])"
      ]
    },
    {
      "cell_type": "code",
      "execution_count": null,
      "metadata": {
        "colab": {
          "base_uri": "https://localhost:8080/"
        },
        "id": "JBWBbhnal5Ps",
        "outputId": "552ea833-8f89-409b-9892-e44e4e3938d6"
      },
      "outputs": [
        {
          "name": "stdout",
          "output_type": "stream",
          "text": [
            "13125/13125 [==============================] - 42s 3ms/step - loss: 0.6915 - accuracy: 0.5293\n"
          ]
        },
        {
          "data": {
            "text/plain": [
              "[0.6914945840835571, 0.5292763113975525]"
            ]
          },
          "execution_count": 33,
          "metadata": {},
          "output_type": "execute_result"
        }
      ],
      "source": [
        "model.evaluate(X_test, y_test)"
      ]
    },
    {
      "cell_type": "code",
      "execution_count": null,
      "metadata": {
        "colab": {
          "base_uri": "https://localhost:8080/"
        },
        "id": "cLgKprI2mOgm",
        "outputId": "38445656-5810-440c-adc3-b1aadea3248c"
      },
      "outputs": [
        {
          "output_type": "stream",
          "name": "stdout",
          "text": [
            "Epoch 1/25\n",
            "5625/5625 [==============================] - 87s 14ms/step - loss: 0.5783 - accuracy: 0.6925 - val_loss: 0.5527 - val_accuracy: 0.7120\n",
            "Epoch 2/25\n",
            "5625/5625 [==============================] - 78s 14ms/step - loss: 0.5433 - accuracy: 0.7196 - val_loss: 0.5379 - val_accuracy: 0.7239\n",
            "Epoch 3/25\n",
            "5625/5625 [==============================] - 78s 14ms/step - loss: 0.5302 - accuracy: 0.7295 - val_loss: 0.5324 - val_accuracy: 0.7281\n",
            "Epoch 4/25\n",
            "5625/5625 [==============================] - 68s 12ms/step - loss: 0.5212 - accuracy: 0.7351 - val_loss: 0.5358 - val_accuracy: 0.7240\n",
            "Epoch 5/25\n",
            "5625/5625 [==============================] - 67s 12ms/step - loss: 0.5133 - accuracy: 0.7406 - val_loss: 0.5220 - val_accuracy: 0.7348\n",
            "Epoch 6/25\n",
            "5625/5625 [==============================] - 78s 14ms/step - loss: 0.5061 - accuracy: 0.7458 - val_loss: 0.5228 - val_accuracy: 0.7339\n",
            "Epoch 7/25\n",
            "5625/5625 [==============================] - 78s 14ms/step - loss: 0.4999 - accuracy: 0.7496 - val_loss: 0.5251 - val_accuracy: 0.7365\n",
            "Epoch 8/25\n",
            "5625/5625 [==============================] - 78s 14ms/step - loss: 0.4945 - accuracy: 0.7538 - val_loss: 0.5197 - val_accuracy: 0.7363\n",
            "Epoch 9/25\n",
            "5625/5625 [==============================] - 78s 14ms/step - loss: 0.4882 - accuracy: 0.7575 - val_loss: 0.5288 - val_accuracy: 0.7352\n",
            "Epoch 10/25\n",
            "5625/5625 [==============================] - 67s 12ms/step - loss: 0.4818 - accuracy: 0.7626 - val_loss: 0.5230 - val_accuracy: 0.7363\n",
            "Epoch 11/25\n",
            "5625/5625 [==============================] - 78s 14ms/step - loss: 0.4768 - accuracy: 0.7660 - val_loss: 0.5283 - val_accuracy: 0.7353\n",
            "Epoch 12/25\n",
            "5625/5625 [==============================] - 66s 12ms/step - loss: 0.4707 - accuracy: 0.7700 - val_loss: 0.5255 - val_accuracy: 0.7349\n",
            "Epoch 13/25\n",
            "5625/5625 [==============================] - 66s 12ms/step - loss: 0.4669 - accuracy: 0.7726 - val_loss: 0.5271 - val_accuracy: 0.7341\n",
            "Epoch 14/25\n",
            "5625/5625 [==============================] - 77s 14ms/step - loss: 0.4627 - accuracy: 0.7751 - val_loss: 0.5358 - val_accuracy: 0.7330\n",
            "Epoch 15/25\n",
            "5625/5625 [==============================] - 78s 14ms/step - loss: 0.4567 - accuracy: 0.7789 - val_loss: 0.5357 - val_accuracy: 0.7317\n",
            "Epoch 16/25\n",
            "5625/5625 [==============================] - 67s 12ms/step - loss: 0.4496 - accuracy: 0.7828 - val_loss: 0.5493 - val_accuracy: 0.7311\n",
            "Epoch 17/25\n",
            "5625/5625 [==============================] - 68s 12ms/step - loss: 0.4433 - accuracy: 0.7870 - val_loss: 0.5402 - val_accuracy: 0.7307\n",
            "Epoch 18/25\n",
            "5625/5625 [==============================] - 79s 14ms/step - loss: 0.4381 - accuracy: 0.7909 - val_loss: 0.5447 - val_accuracy: 0.7316\n",
            "Epoch 19/25\n",
            "5625/5625 [==============================] - 78s 14ms/step - loss: 0.4325 - accuracy: 0.7955 - val_loss: 0.5891 - val_accuracy: 0.7294\n",
            "Epoch 20/25\n",
            "5625/5625 [==============================] - 66s 12ms/step - loss: 0.4277 - accuracy: 0.7975 - val_loss: 0.5495 - val_accuracy: 0.7289\n",
            "Epoch 21/25\n",
            "5625/5625 [==============================] - 78s 14ms/step - loss: 0.4195 - accuracy: 0.8015 - val_loss: 0.5891 - val_accuracy: 0.7238\n",
            "Epoch 22/25\n",
            "5625/5625 [==============================] - 67s 12ms/step - loss: 0.4147 - accuracy: 0.8050 - val_loss: 0.5674 - val_accuracy: 0.7250\n",
            "Epoch 23/25\n",
            "5625/5625 [==============================] - 77s 14ms/step - loss: 0.4085 - accuracy: 0.8084 - val_loss: 0.5673 - val_accuracy: 0.7241\n",
            "Epoch 24/25\n",
            "5625/5625 [==============================] - 66s 12ms/step - loss: 0.4059 - accuracy: 0.8105 - val_loss: 0.5827 - val_accuracy: 0.7217\n",
            "Epoch 25/25\n",
            "5625/5625 [==============================] - 78s 14ms/step - loss: 0.3946 - accuracy: 0.8153 - val_loss: 0.6014 - val_accuracy: 0.7200\n",
            "13125/13125 [==============================] - 38s 3ms/step - loss: 0.6014 - accuracy: 0.7200\n"
          ]
        },
        {
          "output_type": "execute_result",
          "data": {
            "text/plain": [
              "[0.6014427542686462, 0.7199677228927612]"
            ]
          },
          "metadata": {},
          "execution_count": 38
        }
      ],
      "source": [
        "import tensorflow as tf\n",
        "\n",
        "\n",
        "model = tf.keras.models.Sequential([\n",
        "\n",
        "  tf.keras.layers.Dense(400, activation='relu'),\n",
        "  tf.keras.layers.Dense(200, activation='relu'),\n",
        "  tf.keras.layers.Dense(196, activation='relu'),\n",
        "  tf.keras.layers.Dense(175, activation='relu'),\n",
        "  tf.keras.layers.Dense(128, activation='relu'),\n",
        "  tf.keras.layers.Dense(107, activation='relu'),\n",
        "  tf.keras.layers.Dense(90, activation='relu'),\n",
        "  tf.keras.layers.Dense(80, activation='relu'),\n",
        "  tf.keras.layers.Dense(70, activation='relu'),\n",
        "  tf.keras.layers.Dense(60, activation='relu'),\n",
        "  tf.keras.layers.Dense(40, activation='relu'),\n",
        "  tf.keras.layers.Dense(30, activation='relu'),\n",
        "  tf.keras.layers.Dense(38, activation='relu'),\n",
        "  tf.keras.layers.Dense(20, activation='relu'),\n",
        "  tf.keras.layers.Dense(10, activation='relu'),\n",
        "  tf.keras.layers.Dense(1, activation='sigmoid')\n",
        "])\n",
        "\n",
        "model.compile(optimizer='adam',\n",
        "              loss='binary_crossentropy',\n",
        "              metrics=['accuracy'])\n",
        "\n",
        "checkpoint_filepath = '/content/checkpoint1.txt'\n",
        "model_checkpoint_callback = tf.keras.callbacks.ModelCheckpoint(\n",
        "    filepath=checkpoint_filepath,\n",
        "    save_weights_only=True,\n",
        "    monitor='val_accuracy',\n",
        "    mode='max',\n",
        "    save_best_only=True)\n",
        "\n",
        "\n",
        "model.fit(X_train, y_train, epochs=25,validation_data=(X_test, y_test),callbacks=[model_checkpoint_callback])\n",
        "model.evaluate(X_test, y_test)"
      ]
    },
    {
      "cell_type": "code",
      "source": [
        "import tensorflow as tf\n",
        "\n",
        "\n",
        "model = tf.keras.models.Sequential([\n",
        "    \n",
        "  tf.keras.layers.Dense(500, activation='relu'),\n",
        "  tf.keras.layers.Dense(400, activation='relu'),\n",
        "  tf.keras.layers.Dense(200, activation='relu'),\n",
        "  tf.keras.layers.Dense(196, activation='relu'),\n",
        "  tf.keras.layers.Dense(175, activation='relu'),\n",
        "  tf.keras.layers.Dense(128, activation='relu'),\n",
        "  tf.keras.layers.Dense(107, activation='relu'),\n",
        "  tf.keras.layers.Dense(90, activation='relu'),\n",
        "  tf.keras.layers.Dense(80, activation='relu'),\n",
        "  tf.keras.layers.Dense(70, activation='relu'),\n",
        "  tf.keras.layers.Dense(60, activation='relu'),\n",
        "  tf.keras.layers.Dense(40, activation='relu'),\n",
        "  tf.keras.layers.Dense(30, activation='relu'),\n",
        "  tf.keras.layers.Dense(38, activation='relu'),\n",
        "  tf.keras.layers.Dense(20, activation='relu'),\n",
        "  tf.keras.layers.Dense(10, activation='relu'),\n",
        "  tf.keras.layers.Dense(1, activation='sigmoid')\n",
        "])\n",
        "\n",
        "model.compile(optimizer='adam',\n",
        "              loss='binary_crossentropy',\n",
        "              metrics=['accuracy'])\n",
        "\n",
        "checkpoint_filepath = '/content/checkpoint1.txt'\n",
        "model_checkpoint_callback = tf.keras.callbacks.ModelCheckpoint(\n",
        "    filepath=checkpoint_filepath,\n",
        "    save_weights_only=True,\n",
        "    monitor='val_accuracy',\n",
        "    mode='max',\n",
        "    save_best_only=True)\n",
        "\n",
        "\n",
        "model.fit(X_train, y_train, epochs=25,validation_data=(X_test, y_test),callbacks=[model_checkpoint_callback])\n",
        "model.evaluate(X_test, y_test)"
      ],
      "metadata": {
        "colab": {
          "base_uri": "https://localhost:8080/"
        },
        "id": "ya1pmr-q3OZ9",
        "outputId": "7b168f13-e941-473d-9111-22ad69e6805c"
      },
      "execution_count": null,
      "outputs": [
        {
          "output_type": "stream",
          "name": "stdout",
          "text": [
            "Epoch 1/25\n",
            "5625/5625 [==============================] - 87s 14ms/step - loss: 0.5835 - accuracy: 0.6864 - val_loss: 0.5559 - val_accuracy: 0.7100\n",
            "Epoch 2/25\n",
            "5625/5625 [==============================] - 76s 14ms/step - loss: 0.5437 - accuracy: 0.7197 - val_loss: 0.5360 - val_accuracy: 0.7227\n",
            "Epoch 3/25\n",
            "5625/5625 [==============================] - 78s 14ms/step - loss: 0.5305 - accuracy: 0.7293 - val_loss: 0.5321 - val_accuracy: 0.7289\n",
            "Epoch 4/25\n",
            "5625/5625 [==============================] - 78s 14ms/step - loss: 0.5207 - accuracy: 0.7361 - val_loss: 0.5285 - val_accuracy: 0.7312\n",
            "Epoch 5/25\n",
            "5625/5625 [==============================] - 70s 13ms/step - loss: 0.5120 - accuracy: 0.7419 - val_loss: 0.5246 - val_accuracy: 0.7303\n",
            "Epoch 6/25\n",
            "5625/5625 [==============================] - 69s 12ms/step - loss: 0.5039 - accuracy: 0.7481 - val_loss: 0.5220 - val_accuracy: 0.7344\n",
            "Epoch 7/25\n",
            "5625/5625 [==============================] - 70s 12ms/step - loss: 0.4963 - accuracy: 0.7523 - val_loss: 0.5175 - val_accuracy: 0.7377\n",
            "Epoch 8/25\n",
            "5625/5625 [==============================] - 69s 12ms/step - loss: 0.4903 - accuracy: 0.7575 - val_loss: 0.5242 - val_accuracy: 0.7333\n",
            "Epoch 9/25\n",
            "5625/5625 [==============================] - 69s 12ms/step - loss: 0.4826 - accuracy: 0.7608 - val_loss: 0.5185 - val_accuracy: 0.7362\n",
            "Epoch 10/25\n",
            "5625/5625 [==============================] - 69s 12ms/step - loss: 0.4748 - accuracy: 0.7659 - val_loss: 0.5272 - val_accuracy: 0.7307\n",
            "Epoch 11/25\n",
            "5625/5625 [==============================] - 79s 14ms/step - loss: 0.4674 - accuracy: 0.7706 - val_loss: 0.5313 - val_accuracy: 0.7349\n",
            "Epoch 12/25\n",
            "5625/5625 [==============================] - 90s 16ms/step - loss: 0.4567 - accuracy: 0.7782 - val_loss: 0.5345 - val_accuracy: 0.7334\n",
            "Epoch 13/25\n",
            "5625/5625 [==============================] - 90s 16ms/step - loss: 0.4519 - accuracy: 0.7796 - val_loss: 0.5417 - val_accuracy: 0.7304\n",
            "Epoch 14/25\n",
            "5625/5625 [==============================] - 92s 16ms/step - loss: 0.4419 - accuracy: 0.7854 - val_loss: 0.5308 - val_accuracy: 0.7318\n",
            "Epoch 15/25\n",
            "5625/5625 [==============================] - 86s 15ms/step - loss: 0.4366 - accuracy: 0.7879 - val_loss: 0.5405 - val_accuracy: 0.7289\n",
            "Epoch 16/25\n",
            "5625/5625 [==============================] - 79s 14ms/step - loss: 0.4270 - accuracy: 0.7935 - val_loss: 0.5460 - val_accuracy: 0.7280\n",
            "Epoch 17/25\n",
            "5625/5625 [==============================] - 70s 12ms/step - loss: 0.4188 - accuracy: 0.7990 - val_loss: 0.5638 - val_accuracy: 0.7287\n",
            "Epoch 18/25\n",
            "5625/5625 [==============================] - 80s 14ms/step - loss: 0.4103 - accuracy: 0.8038 - val_loss: 0.5859 - val_accuracy: 0.7255\n",
            "Epoch 19/25\n",
            "5625/5625 [==============================] - 79s 14ms/step - loss: 0.4006 - accuracy: 0.8086 - val_loss: 0.5765 - val_accuracy: 0.7243\n",
            "Epoch 20/25\n",
            "5625/5625 [==============================] - 68s 12ms/step - loss: 0.3907 - accuracy: 0.8145 - val_loss: 0.5928 - val_accuracy: 0.7213\n",
            "Epoch 21/25\n",
            "5625/5625 [==============================] - 79s 14ms/step - loss: 0.3801 - accuracy: 0.8199 - val_loss: 0.6370 - val_accuracy: 0.7206\n",
            "Epoch 22/25\n",
            "5625/5625 [==============================] - 79s 14ms/step - loss: 0.3776 - accuracy: 0.8219 - val_loss: 0.6134 - val_accuracy: 0.7215\n",
            "Epoch 23/25\n",
            "5625/5625 [==============================] - 79s 14ms/step - loss: 0.3666 - accuracy: 0.8271 - val_loss: 0.6553 - val_accuracy: 0.7187\n",
            "Epoch 24/25\n",
            "5625/5625 [==============================] - 68s 12ms/step - loss: 0.3550 - accuracy: 0.8340 - val_loss: 0.6161 - val_accuracy: 0.7164\n",
            "Epoch 25/25\n",
            "5625/5625 [==============================] - 79s 14ms/step - loss: 0.3449 - accuracy: 0.8393 - val_loss: 0.6694 - val_accuracy: 0.7155\n",
            "13125/13125 [==============================] - 37s 3ms/step - loss: 0.6694 - accuracy: 0.7155\n"
          ]
        },
        {
          "output_type": "execute_result",
          "data": {
            "text/plain": [
              "[0.66937655210495, 0.7155081629753113]"
            ]
          },
          "metadata": {},
          "execution_count": 40
        }
      ]
    },
    {
      "cell_type": "code",
      "source": [
        "import tensorflow as tf\n",
        "\n",
        "\n",
        "model = tf.keras.models.Sequential([\n",
        "    \n",
        "  tf.keras.layers.Dense(500, activation='relu'),\n",
        "  tf.keras.layers.Dropout(0.3),\n",
        "  tf.keras.layers.Dense(400, activation='relu'),\n",
        "  tf.keras.layers.Dense(200, activation='relu'),\n",
        "  tf.keras.layers.Dense(196, activation='relu'),\n",
        "  tf.keras.layers.Dropout(0.3),\n",
        "  tf.keras.layers.Dense(175, activation='relu'),\n",
        "  tf.keras.layers.Dense(128, activation='relu'),\n",
        "  tf.keras.layers.Dropout(0.3),\n",
        "  tf.keras.layers.Dense(107, activation='relu'),\n",
        "  tf.keras.layers.Dense(90, activation='relu'),\n",
        "  tf.keras.layers.Dropout(0.3),\n",
        "  tf.keras.layers.Dense(80, activation='relu'),\n",
        "  tf.keras.layers.Dense(70, activation='relu'),\n",
        "  tf.keras.layers.Dropout(0.3),\n",
        "  tf.keras.layers.Dense(60, activation='relu'),\n",
        "  tf.keras.layers.Dense(40, activation='relu'),\n",
        "  tf.keras.layers.Dropout(0.3),\n",
        "  tf.keras.layers.Dense(30, activation='relu'),\n",
        "  tf.keras.layers.Dense(38, activation='relu'),\n",
        "  tf.keras.layers.Dropout(0.3),\n",
        "  tf.keras.layers.Dense(20, activation='relu'),\n",
        "  tf.keras.layers.Dense(10, activation='relu'),\n",
        "  tf.keras.layers.Dense(1, activation='sigmoid')\n",
        "])\n",
        "\n",
        "model.compile(optimizer='adam',\n",
        "              loss='binary_crossentropy',\n",
        "              metrics=['accuracy'])\n",
        "\n",
        "checkpoint_filepath = '/content/checkpoint1.txt'\n",
        "model_checkpoint_callback = tf.keras.callbacks.ModelCheckpoint(\n",
        "    filepath=checkpoint_filepath,\n",
        "    save_weights_only=True,\n",
        "    monitor='val_accuracy',\n",
        "    mode='max',\n",
        "    save_best_only=True)\n",
        "\n",
        "\n",
        "model.fit(X_train, y_train, epochs=25,validation_data=(X_test, y_test),callbacks=[model_checkpoint_callback])\n",
        "model.evaluate(X_test, y_test)"
      ],
      "metadata": {
        "colab": {
          "base_uri": "https://localhost:8080/"
        },
        "id": "5il0WFzo6tQ9",
        "outputId": "71c585f4-4478-4874-97ad-1f7d5343a320"
      },
      "execution_count": null,
      "outputs": [
        {
          "output_type": "stream",
          "name": "stdout",
          "text": [
            "Epoch 1/25\n",
            "17438/17438 [==============================] - 138s 8ms/step - loss: 0.5760 - accuracy: 0.6947 - val_loss: 0.5439 - val_accuracy: 0.7198\n",
            "Epoch 2/25\n",
            "17438/17438 [==============================] - 129s 7ms/step - loss: 0.5446 - accuracy: 0.7200 - val_loss: 0.5361 - val_accuracy: 0.7254\n",
            "Epoch 3/25\n",
            "17438/17438 [==============================] - 135s 8ms/step - loss: 0.5360 - accuracy: 0.7262 - val_loss: 0.5417 - val_accuracy: 0.7335\n",
            "Epoch 4/25\n",
            "17438/17438 [==============================] - 128s 7ms/step - loss: 0.5297 - accuracy: 0.7308 - val_loss: 0.5386 - val_accuracy: 0.7271\n",
            "Epoch 5/25\n",
            "17438/17438 [==============================] - 124s 7ms/step - loss: 0.5274 - accuracy: 0.7323 - val_loss: 0.5308 - val_accuracy: 0.7373\n",
            "Epoch 6/25\n",
            "17438/17438 [==============================] - 130s 7ms/step - loss: 0.5291 - accuracy: 0.7296 - val_loss: 0.5599 - val_accuracy: 0.7210\n",
            "Epoch 7/25\n",
            "17438/17438 [==============================] - 128s 7ms/step - loss: 0.5296 - accuracy: 0.7295 - val_loss: 0.5478 - val_accuracy: 0.7243\n",
            "Epoch 8/25\n",
            "17438/17438 [==============================] - 124s 7ms/step - loss: 0.5310 - accuracy: 0.7278 - val_loss: 0.5477 - val_accuracy: 0.7309\n",
            "Epoch 9/25\n",
            "17438/17438 [==============================] - 125s 7ms/step - loss: 0.5301 - accuracy: 0.7292 - val_loss: 0.5542 - val_accuracy: 0.7330\n",
            "Epoch 10/25\n",
            "17438/17438 [==============================] - 124s 7ms/step - loss: 0.5315 - accuracy: 0.7277 - val_loss: 0.5638 - val_accuracy: 0.7247\n",
            "Epoch 11/25\n",
            "17438/17438 [==============================] - 123s 7ms/step - loss: 0.5325 - accuracy: 0.7257 - val_loss: 0.5493 - val_accuracy: 0.7283\n",
            "Epoch 12/25\n",
            "17438/17438 [==============================] - 125s 7ms/step - loss: 0.5344 - accuracy: 0.7253 - val_loss: 0.5457 - val_accuracy: 0.7275\n",
            "Epoch 13/25\n",
            "17438/17438 [==============================] - 126s 7ms/step - loss: 0.5349 - accuracy: 0.7263 - val_loss: 0.5569 - val_accuracy: 0.6973\n",
            "Epoch 14/25\n",
            "17438/17438 [==============================] - 125s 7ms/step - loss: 0.5399 - accuracy: 0.7203 - val_loss: 0.5502 - val_accuracy: 0.7250\n",
            "Epoch 15/25\n",
            "17438/17438 [==============================] - 129s 7ms/step - loss: 0.5409 - accuracy: 0.7212 - val_loss: 0.5594 - val_accuracy: 0.6965\n",
            "Epoch 16/25\n",
            "17438/17438 [==============================] - 125s 7ms/step - loss: 0.5402 - accuracy: 0.7197 - val_loss: 0.5602 - val_accuracy: 0.7266\n",
            "Epoch 17/25\n",
            "17438/17438 [==============================] - 126s 7ms/step - loss: 0.5448 - accuracy: 0.7155 - val_loss: 0.5618 - val_accuracy: 0.7132\n",
            "Epoch 18/25\n",
            "17438/17438 [==============================] - 123s 7ms/step - loss: 0.5448 - accuracy: 0.7165 - val_loss: 0.5803 - val_accuracy: 0.6921\n",
            "Epoch 19/25\n",
            "17438/17438 [==============================] - 123s 7ms/step - loss: 0.5422 - accuracy: 0.7224 - val_loss: 0.5567 - val_accuracy: 0.7104\n",
            "Epoch 20/25\n",
            "17438/17438 [==============================] - 126s 7ms/step - loss: 0.5465 - accuracy: 0.7188 - val_loss: 0.5989 - val_accuracy: 0.6977\n",
            "Epoch 21/25\n",
            "17438/17438 [==============================] - 126s 7ms/step - loss: 0.5373 - accuracy: 0.7288 - val_loss: 0.5601 - val_accuracy: 0.7193\n",
            "Epoch 22/25\n",
            "17438/17438 [==============================] - 126s 7ms/step - loss: 0.5550 - accuracy: 0.7274 - val_loss: 0.5560 - val_accuracy: 0.7196\n",
            "Epoch 23/25\n",
            "17438/17438 [==============================] - 123s 7ms/step - loss: 0.5509 - accuracy: 0.7305 - val_loss: 0.5752 - val_accuracy: 0.7263\n",
            "Epoch 24/25\n",
            "17438/17438 [==============================] - 124s 7ms/step - loss: 0.6362 - accuracy: 0.6558 - val_loss: 0.5978 - val_accuracy: 0.7010\n",
            "Epoch 25/25\n",
            "17438/17438 [==============================] - 123s 7ms/step - loss: 0.8873 - accuracy: 0.6798 - val_loss: 0.6000 - val_accuracy: 0.7114\n",
            "1313/1313 [==============================] - 3s 3ms/step - loss: 0.6000 - accuracy: 0.7114\n"
          ]
        },
        {
          "output_type": "execute_result",
          "data": {
            "text/plain": [
              "[0.6000381112098694, 0.7114285826683044]"
            ]
          },
          "metadata": {},
          "execution_count": 26
        }
      ]
    },
    {
      "cell_type": "code",
      "source": [
        "import tensorflow as tf\n",
        "\n",
        "\n",
        "model = tf.keras.models.Sequential([\n",
        "    \n",
        "  tf.keras.layers.Dense(800, activation='relu'),  \n",
        "  tf.keras.layers.Dense(700, activation='relu'),\n",
        "  tf.keras.layers.Dense(600, activation='relu'),\n",
        "  tf.keras.layers.Dense(500, activation='relu'),\n",
        "  tf.keras.layers.Dropout(0.3),\n",
        "  tf.keras.layers.Dense(400, activation='relu'),\n",
        "  tf.keras.layers.Dense(300, activation='relu'),\n",
        "  tf.keras.layers.Dense(200, activation='relu'),\n",
        "  tf.keras.layers.Dense(196, activation='relu'),\n",
        "  tf.keras.layers.Dropout(0.3),\n",
        "  tf.keras.layers.Dense(175, activation='relu'),\n",
        "  tf.keras.layers.Dense(128, activation='relu'),\n",
        "  tf.keras.layers.Dropout(0.3),\n",
        "  tf.keras.layers.Dense(107, activation='relu'),\n",
        "  tf.keras.layers.Dense(90, activation='relu'),\n",
        "  tf.keras.layers.Dropout(0.3),\n",
        "  tf.keras.layers.Dense(80, activation='relu'),\n",
        "  tf.keras.layers.Dense(75, activation='relu'),\n",
        "  tf.keras.layers.Dense(70, activation='relu'),\n",
        "  tf.keras.layers.Dropout(0.3),\n",
        "  tf.keras.layers.Dense(60, activation='relu'),\n",
        "  tf.keras.layers.Dense(50, activation='relu'),\n",
        "  tf.keras.layers.Dense(40, activation='relu'),\n",
        "  tf.keras.layers.Dropout(0.3),\n",
        "  tf.keras.layers.Dense(30, activation='relu'),\n",
        "  tf.keras.layers.Dense(38, activation='relu'),\n",
        "  tf.keras.layers.Dropout(0.3),\n",
        "  tf.keras.layers.Dense(20, activation='relu'),\n",
        "  tf.keras.layers.Dense(10, activation='relu'),\n",
        "  tf.keras.layers.Dense(1, activation='sigmoid')\n",
        "])\n",
        "\n",
        "model.compile(optimizer='adam',\n",
        "              loss='binary_crossentropy',\n",
        "              metrics=['accuracy'])\n",
        "\n",
        "checkpoint_filepath = '/content/checkpoint1.txt'\n",
        "model_checkpoint_callback = tf.keras.callbacks.ModelCheckpoint(\n",
        "    filepath=checkpoint_filepath,\n",
        "    save_weights_only=True,\n",
        "    monitor='val_accuracy',\n",
        "    mode='max',\n",
        "    save_best_only=True)\n",
        "\n",
        "\n",
        "model.fit(X_train, y_train, epochs=25,validation_data=(X_test, y_test),callbacks=[model_checkpoint_callback])\n",
        "model.evaluate(X_test, y_test)"
      ],
      "metadata": {
        "colab": {
          "base_uri": "https://localhost:8080/"
        },
        "id": "g2Ph8BtDyFIE",
        "outputId": "335c72ee-92de-42d8-9f2e-a24aa04694cc"
      },
      "execution_count": null,
      "outputs": [
        {
          "output_type": "stream",
          "name": "stdout",
          "text": [
            "Epoch 1/25\n",
            "17438/17438 [==============================] - 165s 9ms/step - loss: 0.5805 - accuracy: 0.6940 - val_loss: 0.5728 - val_accuracy: 0.7049\n",
            "Epoch 2/25\n",
            "17438/17438 [==============================] - 158s 9ms/step - loss: 0.5407 - accuracy: 0.7241 - val_loss: 0.5473 - val_accuracy: 0.7236\n",
            "Epoch 3/25\n",
            "17438/17438 [==============================] - 155s 9ms/step - loss: 0.5296 - accuracy: 0.7310 - val_loss: 0.5282 - val_accuracy: 0.7317\n",
            "Epoch 4/25\n",
            "17438/17438 [==============================] - 152s 9ms/step - loss: 0.5225 - accuracy: 0.7355 - val_loss: 0.5408 - val_accuracy: 0.7168\n",
            "Epoch 5/25\n",
            "17438/17438 [==============================] - 153s 9ms/step - loss: 0.5183 - accuracy: 0.7378 - val_loss: 0.5373 - val_accuracy: 0.7352\n",
            "Epoch 6/25\n",
            "17438/17438 [==============================] - 152s 9ms/step - loss: 0.5143 - accuracy: 0.7402 - val_loss: 0.5376 - val_accuracy: 0.7273\n",
            "Epoch 7/25\n",
            "17438/17438 [==============================] - 154s 9ms/step - loss: 0.5142 - accuracy: 0.7417 - val_loss: 0.5388 - val_accuracy: 0.7337\n",
            "Epoch 8/25\n",
            "17438/17438 [==============================] - 153s 9ms/step - loss: 0.5136 - accuracy: 0.7423 - val_loss: 0.5322 - val_accuracy: 0.7279\n",
            "Epoch 9/25\n",
            "17438/17438 [==============================] - 153s 9ms/step - loss: 0.5202 - accuracy: 0.7385 - val_loss: 0.5752 - val_accuracy: 0.6974\n",
            "Epoch 10/25\n",
            "17438/17438 [==============================] - 154s 9ms/step - loss: 0.5250 - accuracy: 0.7409 - val_loss: 0.5652 - val_accuracy: 0.7180\n",
            "Epoch 11/25\n",
            "17438/17438 [==============================] - 156s 9ms/step - loss: 0.5423 - accuracy: 0.7342 - val_loss: 0.5619 - val_accuracy: 0.7230\n",
            "Epoch 12/25\n",
            "17438/17438 [==============================] - 152s 9ms/step - loss: 0.5511 - accuracy: 0.7289 - val_loss: 0.5756 - val_accuracy: 0.7003\n",
            "Epoch 13/25\n",
            "17438/17438 [==============================] - 150s 9ms/step - loss: 0.5339 - accuracy: 0.7384 - val_loss: 0.5672 - val_accuracy: 0.7125\n",
            "Epoch 14/25\n",
            "17438/17438 [==============================] - 150s 9ms/step - loss: 0.5744 - accuracy: 0.7141 - val_loss: 0.5789 - val_accuracy: 0.7122\n",
            "Epoch 15/25\n",
            "17438/17438 [==============================] - 152s 9ms/step - loss: 0.5988 - accuracy: 0.6593 - val_loss: 0.6922 - val_accuracy: 0.5333\n",
            "Epoch 16/25\n",
            "17438/17438 [==============================] - 152s 9ms/step - loss: 0.6925 - accuracy: 0.5408 - val_loss: 0.6755 - val_accuracy: 0.5333\n",
            "Epoch 17/25\n",
            "17438/17438 [==============================] - 150s 9ms/step - loss: 0.6942 - accuracy: 0.5273 - val_loss: 0.6911 - val_accuracy: 0.5333\n",
            "Epoch 18/25\n",
            "17438/17438 [==============================] - 152s 9ms/step - loss: 0.6925 - accuracy: 0.5287 - val_loss: 0.6907 - val_accuracy: 0.5333\n",
            "Epoch 19/25\n",
            "17438/17438 [==============================] - 150s 9ms/step - loss: 0.6918 - accuracy: 0.5290 - val_loss: 0.6917 - val_accuracy: 0.5333\n",
            "Epoch 20/25\n",
            "17438/17438 [==============================] - 152s 9ms/step - loss: 0.6921 - accuracy: 0.5290 - val_loss: 0.6911 - val_accuracy: 0.5333\n",
            "Epoch 21/25\n",
            "17438/17438 [==============================] - 150s 9ms/step - loss: 0.6920 - accuracy: 0.5289 - val_loss: 0.6910 - val_accuracy: 0.5333\n",
            "Epoch 22/25\n",
            "17438/17438 [==============================] - 149s 9ms/step - loss: 0.6919 - accuracy: 0.5290 - val_loss: 0.6909 - val_accuracy: 0.5333\n",
            "Epoch 23/25\n",
            "17438/17438 [==============================] - 148s 9ms/step - loss: 0.6976 - accuracy: 0.5289 - val_loss: 0.6909 - val_accuracy: 0.5333\n",
            "Epoch 24/25\n",
            "17438/17438 [==============================] - 149s 9ms/step - loss: 0.6915 - accuracy: 0.5290 - val_loss: 0.6910 - val_accuracy: 0.5333\n",
            "Epoch 25/25\n",
            "17438/17438 [==============================] - 152s 9ms/step - loss: 0.6917 - accuracy: 0.5290 - val_loss: 0.6910 - val_accuracy: 0.5333\n",
            "1313/1313 [==============================] - 4s 3ms/step - loss: 0.6910 - accuracy: 0.5333\n"
          ]
        },
        {
          "output_type": "execute_result",
          "data": {
            "text/plain": [
              "[0.6909752488136292, 0.5332857370376587]"
            ]
          },
          "metadata": {},
          "execution_count": 27
        }
      ]
    },
    {
      "cell_type": "code",
      "source": [
        "import tensorflow as tf\n",
        "\n",
        "\n",
        "model = tf.keras.models.Sequential([\n",
        "    \n",
        "  tf.keras.layers.Dense(800, activation='relu'),  \n",
        "  tf.keras.layers.Dense(700, activation='relu'),\n",
        "  tf.keras.layers.Dense(600, activation='relu'),\n",
        "  tf.keras.layers.Dense(500, activation='relu'),\n",
        "  tf.keras.layers.Dropout(0.3),\n",
        "  tf.keras.layers.Dense(400, activation='relu'),\n",
        "  tf.keras.layers.Dense(300, activation='relu'),\n",
        "  tf.keras.layers.Dropout(0.3),\n",
        "  tf.keras.layers.Dense(107, activation='relu'),\n",
        "  tf.keras.layers.Dense(90, activation='relu'),\n",
        "  tf.keras.layers.Dropout(0.3),\n",
        "  tf.keras.layers.Dense(80, activation='relu'),\n",
        "  tf.keras.layers.Dense(75, activation='relu'),\n",
        "  tf.keras.layers.Dense(70, activation='relu'),\n",
        "  tf.keras.layers.Dropout(0.3),\n",
        "  tf.keras.layers.Dense(60, activation='relu'),\n",
        "  tf.keras.layers.Dense(50, activation='relu'),\n",
        "  tf.keras.layers.Dense(40, activation='relu'),\n",
        "  tf.keras.layers.Dropout(0.3),\n",
        "  tf.keras.layers.Dense(30, activation='relu'),\n",
        "  tf.keras.layers.Dense(38, activation='relu'),\n",
        "  tf.keras.layers.Dropout(0.3),\n",
        "  tf.keras.layers.Dense(20, activation='relu'),\n",
        "  tf.keras.layers.Dense(10, activation='relu'),\n",
        "  tf.keras.layers.Dense(1, activation='sigmoid')\n",
        "])\n",
        "\n",
        "model.compile(optimizer='adam',\n",
        "              loss='binary_crossentropy',\n",
        "              metrics=['accuracy'])\n",
        "\n",
        "checkpoint_filepath = '/content/checkpoint1.txt'\n",
        "model_checkpoint_callback = tf.keras.callbacks.ModelCheckpoint(\n",
        "    filepath=checkpoint_filepath,\n",
        "    save_weights_only=True,\n",
        "    monitor='val_accuracy',\n",
        "    mode='max',\n",
        "    save_best_only=True)\n",
        "\n",
        "\n",
        "model.fit(X_train, y_train, epochs=25,validation_data=(X_test, y_test),callbacks=[model_checkpoint_callback])\n",
        "model.evaluate(X_test, y_test)"
      ],
      "metadata": {
        "colab": {
          "base_uri": "https://localhost:8080/"
        },
        "id": "nC5qIPiUDNlG",
        "outputId": "ddbefcb0-20a6-4f16-97e3-93d3c141051a"
      },
      "execution_count": null,
      "outputs": [
        {
          "output_type": "stream",
          "name": "stdout",
          "text": [
            "Epoch 1/25\n",
            "17438/17438 [==============================] - 139s 8ms/step - loss: 0.5711 - accuracy: 0.7018 - val_loss: 0.5850 - val_accuracy: 0.6794\n",
            "Epoch 2/25\n",
            "17438/17438 [==============================] - 133s 8ms/step - loss: 0.5329 - accuracy: 0.7296 - val_loss: 0.5656 - val_accuracy: 0.7098\n",
            "Epoch 3/25\n",
            "17438/17438 [==============================] - 135s 8ms/step - loss: 0.5240 - accuracy: 0.7359 - val_loss: 0.5411 - val_accuracy: 0.7146\n",
            "Epoch 4/25\n",
            "17438/17438 [==============================] - 135s 8ms/step - loss: 0.5276 - accuracy: 0.7365 - val_loss: 0.5425 - val_accuracy: 0.7293\n",
            "Epoch 5/25\n",
            "17438/17438 [==============================] - 134s 8ms/step - loss: 0.5263 - accuracy: 0.7375 - val_loss: 0.5553 - val_accuracy: 0.7125\n",
            "Epoch 6/25\n",
            "17438/17438 [==============================] - 133s 8ms/step - loss: 0.5176 - accuracy: 0.7424 - val_loss: 0.5394 - val_accuracy: 0.7157\n",
            "Epoch 7/25\n",
            "17438/17438 [==============================] - 135s 8ms/step - loss: 0.5286 - accuracy: 0.7367 - val_loss: 0.5494 - val_accuracy: 0.7181\n",
            "Epoch 8/25\n",
            "17438/17438 [==============================] - 134s 8ms/step - loss: 0.5165 - accuracy: 0.7433 - val_loss: 0.5223 - val_accuracy: 0.7376\n",
            "Epoch 9/25\n",
            "17438/17438 [==============================] - 132s 8ms/step - loss: 0.5149 - accuracy: 0.7451 - val_loss: 0.5466 - val_accuracy: 0.7227\n",
            "Epoch 10/25\n",
            "17438/17438 [==============================] - 137s 8ms/step - loss: 0.5156 - accuracy: 0.7443 - val_loss: 0.5278 - val_accuracy: 0.7351\n",
            "Epoch 11/25\n",
            "17438/17438 [==============================] - 135s 8ms/step - loss: 0.5379 - accuracy: 0.7359 - val_loss: 0.5582 - val_accuracy: 0.7155\n",
            "Epoch 12/25\n",
            "17438/17438 [==============================] - 135s 8ms/step - loss: 0.5188 - accuracy: 0.7424 - val_loss: 0.5322 - val_accuracy: 0.7382\n",
            "Epoch 13/25\n",
            "17438/17438 [==============================] - 133s 8ms/step - loss: 0.5171 - accuracy: 0.7454 - val_loss: 0.5317 - val_accuracy: 0.7237\n",
            "Epoch 14/25\n",
            "17438/17438 [==============================] - 135s 8ms/step - loss: 0.5118 - accuracy: 0.7494 - val_loss: 0.5342 - val_accuracy: 0.7225\n",
            "Epoch 15/25\n",
            "17438/17438 [==============================] - 135s 8ms/step - loss: 0.5060 - accuracy: 0.7520 - val_loss: 0.5504 - val_accuracy: 0.7175\n",
            "Epoch 16/25\n",
            "17438/17438 [==============================] - 137s 8ms/step - loss: 0.5189 - accuracy: 0.7514 - val_loss: 0.5687 - val_accuracy: 0.6988\n",
            "Epoch 17/25\n",
            "17438/17438 [==============================] - 134s 8ms/step - loss: 0.4985 - accuracy: 0.7546 - val_loss: 0.5272 - val_accuracy: 0.7374\n",
            "Epoch 18/25\n",
            "17438/17438 [==============================] - 136s 8ms/step - loss: 0.4945 - accuracy: 0.7580 - val_loss: 0.5648 - val_accuracy: 0.7083\n",
            "Epoch 19/25\n",
            "17438/17438 [==============================] - 135s 8ms/step - loss: 0.4946 - accuracy: 0.7573 - val_loss: 0.5562 - val_accuracy: 0.7158\n",
            "Epoch 20/25\n",
            "17438/17438 [==============================] - 134s 8ms/step - loss: 0.4963 - accuracy: 0.7567 - val_loss: 0.5391 - val_accuracy: 0.7241\n",
            "Epoch 21/25\n",
            "17438/17438 [==============================] - 133s 8ms/step - loss: 0.4857 - accuracy: 0.7619 - val_loss: 0.5312 - val_accuracy: 0.7283\n",
            "Epoch 22/25\n",
            "17438/17438 [==============================] - 132s 8ms/step - loss: 0.5004 - accuracy: 0.7572 - val_loss: 0.5257 - val_accuracy: 0.7389\n",
            "Epoch 23/25\n",
            "17438/17438 [==============================] - 134s 8ms/step - loss: 0.5306 - accuracy: 0.7575 - val_loss: 0.5579 - val_accuracy: 0.7100\n",
            "Epoch 24/25\n",
            "17438/17438 [==============================] - 133s 8ms/step - loss: 0.4863 - accuracy: 0.7627 - val_loss: 0.5521 - val_accuracy: 0.7195\n",
            "Epoch 25/25\n",
            "17438/17438 [==============================] - 136s 8ms/step - loss: 0.4956 - accuracy: 0.7552 - val_loss: 0.5585 - val_accuracy: 0.7176\n",
            "1313/1313 [==============================] - 4s 3ms/step - loss: 0.5585 - accuracy: 0.7176\n"
          ]
        },
        {
          "output_type": "execute_result",
          "data": {
            "text/plain": [
              "[0.5585356950759888, 0.7176428437232971]"
            ]
          },
          "metadata": {},
          "execution_count": 28
        }
      ]
    },
    {
      "cell_type": "code",
      "source": [
        "import tensorflow as tf\n",
        "\n",
        "\n",
        "model = tf.keras.models.Sequential([\n",
        "    \n",
        "  tf.keras.layers.Dense(800, activation='relu'),  \n",
        "  tf.keras.layers.Dense(700, activation='relu'),\n",
        "  tf.keras.layers.Dense(600, activation='relu'),\n",
        "  tf.keras.layers.Dense(500, activation='relu'),\n",
        "  tf.keras.layers.Dense(550, activation='relu'),\n",
        "  tf.keras.layers.Dropout(0.3),\n",
        "  tf.keras.layers.Dense(400, activation='relu'),\n",
        "  tf.keras.layers.Dense(300, activation='relu'),\n",
        "  tf.keras.layers.Dense(200, activation='relu'),\n",
        "  tf.keras.layers.Dense(250, activation='relu'),\n",
        "  tf.keras.layers.Dropout(0.3),\n",
        "  tf.keras.layers.Dense(107, activation='relu'),\n",
        "  tf.keras.layers.Dense(90, activation='relu'),\n",
        "  tf.keras.layers.Dense(80, activation='relu'),\n",
        "  tf.keras.layers.Dense(75, activation='relu'),\n",
        "  tf.keras.layers.Dense(70, activation='relu'),\n",
        "  tf.keras.layers.Dropout(0.3),\n",
        "  tf.keras.layers.Dense(60, activation='relu'),\n",
        "  tf.keras.layers.Dense(50, activation='relu'),\n",
        "  tf.keras.layers.Dense(40, activation='relu'),\n",
        "  tf.keras.layers.Dropout(0.3),\n",
        "  tf.keras.layers.Dense(30, activation='relu'),\n",
        "  tf.keras.layers.Dense(28, activation='relu'),\n",
        "  tf.keras.layers.Dense(20, activation='relu'),\n",
        "  tf.keras.layers.Dense(15, activation='relu'),\n",
        "   tf.keras.layers.Dropout(0.3),\n",
        "  tf.keras.layers.Dense(13, activation='relu'),\n",
        "  tf.keras.layers.Dense(10, activation='relu'),\n",
        "  tf.keras.layers.Dense(9, activation='relu'),\n",
        "  tf.keras.layers.Dense(1, activation='sigmoid')\n",
        "])\n",
        "\n",
        "model.compile(optimizer='adam',\n",
        "              loss='binary_crossentropy',\n",
        "              metrics=['accuracy'])\n",
        "\n",
        "checkpoint_filepath = '/content/checkpoint1.txt'\n",
        "model_checkpoint_callback = tf.keras.callbacks.ModelCheckpoint(\n",
        "    filepath=checkpoint_filepath,\n",
        "    save_weights_only=True,\n",
        "    monitor='val_accuracy',\n",
        "    mode='max',\n",
        "    save_best_only=True)\n",
        "\n",
        "\n",
        "model.fit(X_train, y_train, epochs=25,validation_data=(X_test, y_test),callbacks=[model_checkpoint_callback])\n",
        "model.evaluate(X_test, y_test)"
      ],
      "metadata": {
        "colab": {
          "base_uri": "https://localhost:8080/"
        },
        "id": "9eOFNkls8ENa",
        "outputId": "7f80bb8c-03db-4b8c-a424-cf4c568a136f"
      },
      "execution_count": 26,
      "outputs": [
        {
          "output_type": "stream",
          "name": "stdout",
          "text": [
            "Epoch 1/25\n",
            "17438/17438 [==============================] - 182s 10ms/step - loss: 0.6015 - accuracy: 0.6767 - val_loss: 0.6085 - val_accuracy: 0.6755\n",
            "Epoch 2/25\n",
            "17438/17438 [==============================] - 176s 10ms/step - loss: 0.5526 - accuracy: 0.7151 - val_loss: 0.5536 - val_accuracy: 0.7278\n",
            "Epoch 3/25\n",
            "17438/17438 [==============================] - 168s 10ms/step - loss: 0.5360 - accuracy: 0.7274 - val_loss: 0.5500 - val_accuracy: 0.7337\n",
            "Epoch 4/25\n",
            "17438/17438 [==============================] - 178s 10ms/step - loss: 0.5275 - accuracy: 0.7353 - val_loss: 0.5471 - val_accuracy: 0.7335\n",
            "Epoch 5/25\n",
            "17438/17438 [==============================] - 175s 10ms/step - loss: 0.5191 - accuracy: 0.7396 - val_loss: 0.5312 - val_accuracy: 0.7357\n",
            "Epoch 6/25\n",
            "17438/17438 [==============================] - 176s 10ms/step - loss: 0.5164 - accuracy: 0.7421 - val_loss: 0.5264 - val_accuracy: 0.7276\n",
            "Epoch 7/25\n",
            "17438/17438 [==============================] - 169s 10ms/step - loss: 0.5181 - accuracy: 0.7430 - val_loss: 0.5173 - val_accuracy: 0.7416\n",
            "Epoch 8/25\n",
            "17438/17438 [==============================] - 167s 10ms/step - loss: 0.5120 - accuracy: 0.7455 - val_loss: 0.5291 - val_accuracy: 0.7326\n",
            "Epoch 9/25\n",
            "17438/17438 [==============================] - 164s 9ms/step - loss: 0.5120 - accuracy: 0.7468 - val_loss: 0.5342 - val_accuracy: 0.7361\n",
            "Epoch 10/25\n",
            "17438/17438 [==============================] - 169s 10ms/step - loss: 0.5144 - accuracy: 0.7445 - val_loss: 0.5377 - val_accuracy: 0.7271\n",
            "Epoch 11/25\n",
            "17438/17438 [==============================] - 186s 11ms/step - loss: 0.5171 - accuracy: 0.7462 - val_loss: 0.5268 - val_accuracy: 0.7386\n",
            "Epoch 12/25\n",
            "17438/17438 [==============================] - 188s 11ms/step - loss: 0.5257 - accuracy: 0.7446 - val_loss: 0.5529 - val_accuracy: 0.7269\n",
            "Epoch 13/25\n",
            "17438/17438 [==============================] - 187s 11ms/step - loss: 0.5366 - accuracy: 0.7410 - val_loss: 0.5294 - val_accuracy: 0.7375\n",
            "Epoch 14/25\n",
            "17438/17438 [==============================] - 190s 11ms/step - loss: 0.5129 - accuracy: 0.7443 - val_loss: 0.5296 - val_accuracy: 0.7287\n",
            "Epoch 15/25\n",
            "17438/17438 [==============================] - 185s 11ms/step - loss: 0.5164 - accuracy: 0.7495 - val_loss: 0.5375 - val_accuracy: 0.7252\n",
            "Epoch 16/25\n",
            "17438/17438 [==============================] - 188s 11ms/step - loss: 0.5819 - accuracy: 0.7002 - val_loss: 0.6675 - val_accuracy: 0.5870\n",
            "Epoch 17/25\n",
            "17438/17438 [==============================] - 183s 11ms/step - loss: 0.6857 - accuracy: 0.6095 - val_loss: 0.6522 - val_accuracy: 0.6310\n",
            "Epoch 18/25\n",
            "17438/17438 [==============================] - 187s 11ms/step - loss: 0.6722 - accuracy: 0.6163 - val_loss: 0.6653 - val_accuracy: 0.6126\n",
            "Epoch 19/25\n",
            "17438/17438 [==============================] - 184s 11ms/step - loss: 0.6889 - accuracy: 0.5385 - val_loss: 0.6910 - val_accuracy: 0.5333\n",
            "Epoch 20/25\n",
            "17438/17438 [==============================] - 183s 10ms/step - loss: 0.6876 - accuracy: 0.5364 - val_loss: 0.6676 - val_accuracy: 0.5982\n",
            "Epoch 21/25\n",
            "17438/17438 [==============================] - 180s 10ms/step - loss: 0.6855 - accuracy: 0.5483 - val_loss: 0.6910 - val_accuracy: 0.5333\n",
            "Epoch 22/25\n",
            "17438/17438 [==============================] - 161s 9ms/step - loss: 0.6917 - accuracy: 0.5286 - val_loss: 0.6909 - val_accuracy: 0.5333\n",
            "Epoch 23/25\n",
            "17438/17438 [==============================] - 161s 9ms/step - loss: 0.6916 - accuracy: 0.5289 - val_loss: 0.6909 - val_accuracy: 0.5333\n",
            "Epoch 24/25\n",
            "17438/17438 [==============================] - 163s 9ms/step - loss: 0.6916 - accuracy: 0.5290 - val_loss: 0.6909 - val_accuracy: 0.5333\n",
            "Epoch 25/25\n",
            "17438/17438 [==============================] - 164s 9ms/step - loss: 0.6916 - accuracy: 0.5289 - val_loss: 0.6912 - val_accuracy: 0.5333\n",
            "1313/1313 [==============================] - 4s 3ms/step - loss: 0.6912 - accuracy: 0.5333\n"
          ]
        },
        {
          "output_type": "execute_result",
          "data": {
            "text/plain": [
              "[0.6911838054656982, 0.5332857370376587]"
            ]
          },
          "metadata": {},
          "execution_count": 26
        }
      ]
    },
    {
      "cell_type": "code",
      "source": [
        "import tensorflow as tf\n",
        "\n",
        "\n",
        "model = tf.keras.models.Sequential([\n",
        "    \n",
        "  tf.keras.layers.Dense(250, activation='relu'),\n",
        "  tf.keras.layers.Dropout(0.3),\n",
        "  tf.keras.layers.Dense(107, activation='relu'),\n",
        "  tf.keras.layers.Dense(90, activation='relu'),\n",
        "  tf.keras.layers.Dense(80, activation='relu'),\n",
        "  tf.keras.layers.Dense(75, activation='relu'),\n",
        "  tf.keras.layers.Dense(70, activation='relu'),\n",
        "  tf.keras.layers.Dropout(0.3),\n",
        "  tf.keras.layers.Dense(60, activation='relu'),\n",
        "  tf.keras.layers.Dense(50, activation='relu'),\n",
        "  tf.keras.layers.Dense(40, activation='relu'),\n",
        "  tf.keras.layers.Dropout(0.3),\n",
        "  tf.keras.layers.Dense(30, activation='relu'),\n",
        "  tf.keras.layers.Dense(28, activation='relu'),\n",
        "  tf.keras.layers.Dense(20, activation='relu'),\n",
        "  tf.keras.layers.Dense(15, activation='relu'),\n",
        "   tf.keras.layers.Dropout(0.3),\n",
        "  tf.keras.layers.Dense(13, activation='relu'),\n",
        "  tf.keras.layers.Dense(10, activation='relu'),\n",
        "  tf.keras.layers.Dense(9, activation='relu'),\n",
        "  tf.keras.layers.Dense(1, activation='sigmoid')\n",
        "])\n",
        "\n",
        "model.compile(optimizer='adam',\n",
        "              loss='binary_crossentropy',\n",
        "              metrics=['accuracy'])\n",
        "\n",
        "checkpoint_filepath = '/content/checkpoint1.txt'\n",
        "model_checkpoint_callback = tf.keras.callbacks.ModelCheckpoint(\n",
        "    filepath=checkpoint_filepath,\n",
        "    save_weights_only=True,\n",
        "    monitor='val_accuracy',\n",
        "    mode='max',\n",
        "    save_best_only=True)\n",
        "\n",
        "\n",
        "model.fit(X_train, y_train, epochs=25,validation_data=(X_test, y_test),callbacks=[model_checkpoint_callback])\n",
        "model.evaluate(X_test, y_test)"
      ],
      "metadata": {
        "colab": {
          "base_uri": "https://localhost:8080/"
        },
        "id": "cAHSGBZNQ3bj",
        "outputId": "dc7fa487-9086-4046-99d5-dfe86e906bda"
      },
      "execution_count": 27,
      "outputs": [
        {
          "output_type": "stream",
          "name": "stdout",
          "text": [
            "Epoch 1/25\n",
            "17438/17438 [==============================] - 154s 8ms/step - loss: 0.5738 - accuracy: 0.6977 - val_loss: 0.5682 - val_accuracy: 0.6966\n",
            "Epoch 2/25\n",
            "17438/17438 [==============================] - 134s 8ms/step - loss: 0.5453 - accuracy: 0.7192 - val_loss: 0.5581 - val_accuracy: 0.7052\n",
            "Epoch 3/25\n",
            "17438/17438 [==============================] - 173s 10ms/step - loss: 0.5373 - accuracy: 0.7254 - val_loss: 0.5412 - val_accuracy: 0.7285\n",
            "Epoch 4/25\n",
            "17438/17438 [==============================] - 150s 9ms/step - loss: 0.5313 - accuracy: 0.7292 - val_loss: 0.5421 - val_accuracy: 0.7279\n",
            "Epoch 5/25\n",
            "17438/17438 [==============================] - 152s 9ms/step - loss: 0.5279 - accuracy: 0.7319 - val_loss: 0.5353 - val_accuracy: 0.7295\n",
            "Epoch 6/25\n",
            "17438/17438 [==============================] - 157s 9ms/step - loss: 0.5248 - accuracy: 0.7341 - val_loss: 0.5351 - val_accuracy: 0.7185\n",
            "Epoch 7/25\n",
            "17438/17438 [==============================] - 148s 8ms/step - loss: 0.5223 - accuracy: 0.7360 - val_loss: 0.5405 - val_accuracy: 0.7152\n",
            "Epoch 8/25\n",
            "17438/17438 [==============================] - 147s 8ms/step - loss: 0.5203 - accuracy: 0.7372 - val_loss: 0.5296 - val_accuracy: 0.7276\n",
            "Epoch 9/25\n",
            "17438/17438 [==============================] - 157s 9ms/step - loss: 0.5187 - accuracy: 0.7384 - val_loss: 0.5279 - val_accuracy: 0.7310\n",
            "Epoch 10/25\n",
            "17438/17438 [==============================] - 149s 9ms/step - loss: 0.5175 - accuracy: 0.7396 - val_loss: 0.5253 - val_accuracy: 0.7340\n",
            "Epoch 11/25\n",
            "17438/17438 [==============================] - 152s 9ms/step - loss: 0.5173 - accuracy: 0.7398 - val_loss: 0.5389 - val_accuracy: 0.7211\n",
            "Epoch 12/25\n",
            "17438/17438 [==============================] - 154s 9ms/step - loss: 0.5164 - accuracy: 0.7405 - val_loss: 0.5154 - val_accuracy: 0.7438\n",
            "Epoch 13/25\n",
            "17438/17438 [==============================] - 146s 8ms/step - loss: 0.5155 - accuracy: 0.7413 - val_loss: 0.5468 - val_accuracy: 0.7200\n",
            "Epoch 14/25\n",
            "17438/17438 [==============================] - 155s 9ms/step - loss: 0.5143 - accuracy: 0.7417 - val_loss: 0.5427 - val_accuracy: 0.7202\n",
            "Epoch 15/25\n",
            "17438/17438 [==============================] - 136s 8ms/step - loss: 0.5136 - accuracy: 0.7425 - val_loss: 0.5317 - val_accuracy: 0.7305\n",
            "Epoch 16/25\n",
            "17438/17438 [==============================] - 138s 8ms/step - loss: 0.5262 - accuracy: 0.7381 - val_loss: 0.5372 - val_accuracy: 0.7255\n",
            "Epoch 17/25\n",
            "17438/17438 [==============================] - 133s 8ms/step - loss: 0.5279 - accuracy: 0.7366 - val_loss: 0.5361 - val_accuracy: 0.7293\n",
            "Epoch 18/25\n",
            "17438/17438 [==============================] - 132s 8ms/step - loss: 0.5440 - accuracy: 0.7236 - val_loss: 0.5548 - val_accuracy: 0.7245\n",
            "Epoch 19/25\n",
            "17438/17438 [==============================] - 135s 8ms/step - loss: 0.5362 - accuracy: 0.7318 - val_loss: 0.5414 - val_accuracy: 0.7230\n",
            "Epoch 20/25\n",
            "17438/17438 [==============================] - 142s 8ms/step - loss: 0.5260 - accuracy: 0.7373 - val_loss: 0.5519 - val_accuracy: 0.7205\n",
            "Epoch 21/25\n",
            "17438/17438 [==============================] - 130s 7ms/step - loss: 0.5351 - accuracy: 0.7352 - val_loss: 0.5622 - val_accuracy: 0.7285\n",
            "Epoch 22/25\n",
            "17438/17438 [==============================] - 132s 8ms/step - loss: 0.5518 - accuracy: 0.7285 - val_loss: 0.5613 - val_accuracy: 0.7282\n",
            "Epoch 23/25\n",
            "17438/17438 [==============================] - 133s 8ms/step - loss: 0.5393 - accuracy: 0.7316 - val_loss: 0.5500 - val_accuracy: 0.7155\n",
            "Epoch 24/25\n",
            "17438/17438 [==============================] - 127s 7ms/step - loss: 0.5234 - accuracy: 0.7379 - val_loss: 0.5351 - val_accuracy: 0.7336\n",
            "Epoch 25/25\n",
            "17438/17438 [==============================] - 134s 8ms/step - loss: 0.5310 - accuracy: 0.7391 - val_loss: 0.5500 - val_accuracy: 0.7148\n",
            "1313/1313 [==============================] - 4s 3ms/step - loss: 0.5500 - accuracy: 0.7148\n"
          ]
        },
        {
          "output_type": "execute_result",
          "data": {
            "text/plain": [
              "[0.5500239133834839, 0.7148095369338989]"
            ]
          },
          "metadata": {},
          "execution_count": 27
        }
      ]
    },
    {
      "cell_type": "code",
      "source": [
        "import tensorflow as tf\n",
        "\n",
        "\n",
        "model = tf.keras.models.Sequential([\n",
        "    \n",
        "  tf.keras.layers.Dense(200, activation='selu'),\n",
        "  tf.keras.layers.Dropout(0.3),\n",
        "  tf.keras.layers.Dense(107, activation='selu'),\n",
        "  tf.keras.layers.Dropout(0.3),\n",
        "  tf.keras.layers.Dense(60, activation='selu'),\n",
        "  tf.keras.layers.Dense(50, activation='selu'),\n",
        "  tf.keras.layers.Dense(40, activation='selu'),\n",
        "  tf.keras.layers.Dropout(0.3),\n",
        "  tf.keras.layers.Dense(30, activation='selu'),\n",
        "   tf.keras.layers.Dropout(0.3),\n",
        "  tf.keras.layers.Dense(13, activation='selu'),\n",
        "  tf.keras.layers.Dense(1, activation='sigmoid')\n",
        "])\n",
        "\n",
        "model.compile(optimizer='adam',\n",
        "              loss='binary_crossentropy',\n",
        "              metrics=['accuracy'])\n",
        "\n",
        "checkpoint_filepath = '/content/checkpoint1.txt'\n",
        "model_checkpoint_callback = tf.keras.callbacks.ModelCheckpoint(\n",
        "    filepath=checkpoint_filepath,\n",
        "    save_weights_only=True,\n",
        "    monitor='val_accuracy',\n",
        "    mode='max',\n",
        "    save_best_only=True)\n",
        "\n",
        "\n",
        "model.fit(X_train, y_train, epochs=25,validation_data=(X_test, y_test),callbacks=[model_checkpoint_callback])\n",
        "model.evaluate(X_test, y_test)"
      ],
      "metadata": {
        "colab": {
          "base_uri": "https://localhost:8080/",
          "height": 1000
        },
        "id": "Q-X47Ud-e7Vo",
        "outputId": "8acd18af-9ab0-41df-dd3e-8f9721b53d7d"
      },
      "execution_count": 34,
      "outputs": [
        {
          "output_type": "stream",
          "name": "stdout",
          "text": [
            "Epoch 1/25\n",
            "15000/15000 [==============================] - 85s 5ms/step - loss: 0.5966 - accuracy: 0.6778 - val_loss: 0.5553 - val_accuracy: 0.7071\n",
            "Epoch 2/25\n",
            "15000/15000 [==============================] - 79s 5ms/step - loss: 0.5622 - accuracy: 0.7065 - val_loss: 0.5432 - val_accuracy: 0.7185\n",
            "Epoch 3/25\n",
            "15000/15000 [==============================] - 79s 5ms/step - loss: 0.5545 - accuracy: 0.7125 - val_loss: 0.5374 - val_accuracy: 0.7237\n",
            "Epoch 4/25\n",
            "15000/15000 [==============================] - 83s 6ms/step - loss: 0.5496 - accuracy: 0.7158 - val_loss: 0.5312 - val_accuracy: 0.7280\n",
            "Epoch 5/25\n",
            "15000/15000 [==============================] - 82s 5ms/step - loss: 0.5463 - accuracy: 0.7183 - val_loss: 0.5299 - val_accuracy: 0.7281\n",
            "Epoch 6/25\n",
            "15000/15000 [==============================] - 82s 5ms/step - loss: 0.5451 - accuracy: 0.7196 - val_loss: 0.5360 - val_accuracy: 0.7251\n",
            "Epoch 7/25\n",
            "15000/15000 [==============================] - 82s 5ms/step - loss: 0.5426 - accuracy: 0.7203 - val_loss: 0.5326 - val_accuracy: 0.7290\n",
            "Epoch 8/25\n",
            "15000/15000 [==============================] - 80s 5ms/step - loss: 0.5415 - accuracy: 0.7215 - val_loss: 0.5324 - val_accuracy: 0.7306\n",
            "Epoch 9/25\n",
            "15000/15000 [==============================] - 78s 5ms/step - loss: 0.5411 - accuracy: 0.7224 - val_loss: 0.5256 - val_accuracy: 0.7328\n",
            "Epoch 10/25\n",
            "15000/15000 [==============================] - 78s 5ms/step - loss: 0.5404 - accuracy: 0.7226 - val_loss: 0.5282 - val_accuracy: 0.7310\n",
            "Epoch 11/25\n",
            "15000/15000 [==============================] - 83s 6ms/step - loss: 0.5397 - accuracy: 0.7238 - val_loss: 0.5249 - val_accuracy: 0.7354\n",
            "Epoch 12/25\n",
            "15000/15000 [==============================] - 84s 6ms/step - loss: 0.5390 - accuracy: 0.7234 - val_loss: 0.5245 - val_accuracy: 0.7356\n",
            "Epoch 13/25\n",
            "15000/15000 [==============================] - 82s 5ms/step - loss: 0.5376 - accuracy: 0.7253 - val_loss: 0.5237 - val_accuracy: 0.7347\n",
            "Epoch 14/25\n",
            "15000/15000 [==============================] - 82s 5ms/step - loss: 0.5371 - accuracy: 0.7250 - val_loss: 0.5287 - val_accuracy: 0.7334\n",
            "Epoch 15/25\n",
            "15000/15000 [==============================] - 83s 6ms/step - loss: 0.5371 - accuracy: 0.7251 - val_loss: 0.5260 - val_accuracy: 0.7347\n",
            "Epoch 16/25\n",
            "15000/15000 [==============================] - 84s 6ms/step - loss: 0.5357 - accuracy: 0.7256 - val_loss: 0.5264 - val_accuracy: 0.7355\n",
            "Epoch 17/25\n",
            "15000/15000 [==============================] - 84s 6ms/step - loss: 0.5348 - accuracy: 0.7273 - val_loss: 0.5394 - val_accuracy: 0.7372\n",
            "Epoch 18/25\n",
            "15000/15000 [==============================] - 82s 5ms/step - loss: 0.5349 - accuracy: 0.7272 - val_loss: 0.5281 - val_accuracy: 0.7386\n",
            "Epoch 19/25\n",
            "15000/15000 [==============================] - 82s 5ms/step - loss: 0.5351 - accuracy: 0.7273 - val_loss: 0.5211 - val_accuracy: 0.7383\n",
            "Epoch 20/25\n",
            " 3547/15000 [======>.......................] - ETA: 1:06 - loss: 0.5337 - accuracy: 0.7281"
          ]
        },
        {
          "output_type": "error",
          "ename": "KeyboardInterrupt",
          "evalue": "ignored",
          "traceback": [
            "\u001b[0;31m---------------------------------------------------------------------------\u001b[0m",
            "\u001b[0;31mKeyboardInterrupt\u001b[0m                         Traceback (most recent call last)",
            "\u001b[0;32m<ipython-input-34-20204a6de93c>\u001b[0m in \u001b[0;36m<cell line: 33>\u001b[0;34m()\u001b[0m\n\u001b[1;32m     31\u001b[0m \u001b[0;34m\u001b[0m\u001b[0m\n\u001b[1;32m     32\u001b[0m \u001b[0;34m\u001b[0m\u001b[0m\n\u001b[0;32m---> 33\u001b[0;31m \u001b[0mmodel\u001b[0m\u001b[0;34m.\u001b[0m\u001b[0mfit\u001b[0m\u001b[0;34m(\u001b[0m\u001b[0mX_train\u001b[0m\u001b[0;34m,\u001b[0m \u001b[0my_train\u001b[0m\u001b[0;34m,\u001b[0m \u001b[0mepochs\u001b[0m\u001b[0;34m=\u001b[0m\u001b[0;36m25\u001b[0m\u001b[0;34m,\u001b[0m\u001b[0mvalidation_data\u001b[0m\u001b[0;34m=\u001b[0m\u001b[0;34m(\u001b[0m\u001b[0mX_test\u001b[0m\u001b[0;34m,\u001b[0m \u001b[0my_test\u001b[0m\u001b[0;34m)\u001b[0m\u001b[0;34m,\u001b[0m\u001b[0mcallbacks\u001b[0m\u001b[0;34m=\u001b[0m\u001b[0;34m[\u001b[0m\u001b[0mmodel_checkpoint_callback\u001b[0m\u001b[0;34m]\u001b[0m\u001b[0;34m)\u001b[0m\u001b[0;34m\u001b[0m\u001b[0;34m\u001b[0m\u001b[0m\n\u001b[0m\u001b[1;32m     34\u001b[0m \u001b[0mmodel\u001b[0m\u001b[0;34m.\u001b[0m\u001b[0mevaluate\u001b[0m\u001b[0;34m(\u001b[0m\u001b[0mX_test\u001b[0m\u001b[0;34m,\u001b[0m \u001b[0my_test\u001b[0m\u001b[0;34m)\u001b[0m\u001b[0;34m\u001b[0m\u001b[0;34m\u001b[0m\u001b[0m\n",
            "\u001b[0;32m/usr/local/lib/python3.9/dist-packages/keras/utils/traceback_utils.py\u001b[0m in \u001b[0;36merror_handler\u001b[0;34m(*args, **kwargs)\u001b[0m\n\u001b[1;32m     63\u001b[0m         \u001b[0mfiltered_tb\u001b[0m \u001b[0;34m=\u001b[0m \u001b[0;32mNone\u001b[0m\u001b[0;34m\u001b[0m\u001b[0;34m\u001b[0m\u001b[0m\n\u001b[1;32m     64\u001b[0m         \u001b[0;32mtry\u001b[0m\u001b[0;34m:\u001b[0m\u001b[0;34m\u001b[0m\u001b[0;34m\u001b[0m\u001b[0m\n\u001b[0;32m---> 65\u001b[0;31m             \u001b[0;32mreturn\u001b[0m \u001b[0mfn\u001b[0m\u001b[0;34m(\u001b[0m\u001b[0;34m*\u001b[0m\u001b[0margs\u001b[0m\u001b[0;34m,\u001b[0m \u001b[0;34m**\u001b[0m\u001b[0mkwargs\u001b[0m\u001b[0;34m)\u001b[0m\u001b[0;34m\u001b[0m\u001b[0;34m\u001b[0m\u001b[0m\n\u001b[0m\u001b[1;32m     66\u001b[0m         \u001b[0;32mexcept\u001b[0m \u001b[0mException\u001b[0m \u001b[0;32mas\u001b[0m \u001b[0me\u001b[0m\u001b[0;34m:\u001b[0m\u001b[0;34m\u001b[0m\u001b[0;34m\u001b[0m\u001b[0m\n\u001b[1;32m     67\u001b[0m             \u001b[0mfiltered_tb\u001b[0m \u001b[0;34m=\u001b[0m \u001b[0m_process_traceback_frames\u001b[0m\u001b[0;34m(\u001b[0m\u001b[0me\u001b[0m\u001b[0;34m.\u001b[0m\u001b[0m__traceback__\u001b[0m\u001b[0;34m)\u001b[0m\u001b[0;34m\u001b[0m\u001b[0;34m\u001b[0m\u001b[0m\n",
            "\u001b[0;32m/usr/local/lib/python3.9/dist-packages/keras/engine/training.py\u001b[0m in \u001b[0;36mfit\u001b[0;34m(self, x, y, batch_size, epochs, verbose, callbacks, validation_split, validation_data, shuffle, class_weight, sample_weight, initial_epoch, steps_per_epoch, validation_steps, validation_batch_size, validation_freq, max_queue_size, workers, use_multiprocessing)\u001b[0m\n\u001b[1;32m   1683\u001b[0m                         ):\n\u001b[1;32m   1684\u001b[0m                             \u001b[0mcallbacks\u001b[0m\u001b[0;34m.\u001b[0m\u001b[0mon_train_batch_begin\u001b[0m\u001b[0;34m(\u001b[0m\u001b[0mstep\u001b[0m\u001b[0;34m)\u001b[0m\u001b[0;34m\u001b[0m\u001b[0;34m\u001b[0m\u001b[0m\n\u001b[0;32m-> 1685\u001b[0;31m                             \u001b[0mtmp_logs\u001b[0m \u001b[0;34m=\u001b[0m \u001b[0mself\u001b[0m\u001b[0;34m.\u001b[0m\u001b[0mtrain_function\u001b[0m\u001b[0;34m(\u001b[0m\u001b[0miterator\u001b[0m\u001b[0;34m)\u001b[0m\u001b[0;34m\u001b[0m\u001b[0;34m\u001b[0m\u001b[0m\n\u001b[0m\u001b[1;32m   1686\u001b[0m                             \u001b[0;32mif\u001b[0m \u001b[0mdata_handler\u001b[0m\u001b[0;34m.\u001b[0m\u001b[0mshould_sync\u001b[0m\u001b[0;34m:\u001b[0m\u001b[0;34m\u001b[0m\u001b[0;34m\u001b[0m\u001b[0m\n\u001b[1;32m   1687\u001b[0m                                 \u001b[0mcontext\u001b[0m\u001b[0;34m.\u001b[0m\u001b[0masync_wait\u001b[0m\u001b[0;34m(\u001b[0m\u001b[0;34m)\u001b[0m\u001b[0;34m\u001b[0m\u001b[0;34m\u001b[0m\u001b[0m\n",
            "\u001b[0;32m/usr/local/lib/python3.9/dist-packages/tensorflow/python/util/traceback_utils.py\u001b[0m in \u001b[0;36merror_handler\u001b[0;34m(*args, **kwargs)\u001b[0m\n\u001b[1;32m    148\u001b[0m     \u001b[0mfiltered_tb\u001b[0m \u001b[0;34m=\u001b[0m \u001b[0;32mNone\u001b[0m\u001b[0;34m\u001b[0m\u001b[0;34m\u001b[0m\u001b[0m\n\u001b[1;32m    149\u001b[0m     \u001b[0;32mtry\u001b[0m\u001b[0;34m:\u001b[0m\u001b[0;34m\u001b[0m\u001b[0;34m\u001b[0m\u001b[0m\n\u001b[0;32m--> 150\u001b[0;31m       \u001b[0;32mreturn\u001b[0m \u001b[0mfn\u001b[0m\u001b[0;34m(\u001b[0m\u001b[0;34m*\u001b[0m\u001b[0margs\u001b[0m\u001b[0;34m,\u001b[0m \u001b[0;34m**\u001b[0m\u001b[0mkwargs\u001b[0m\u001b[0;34m)\u001b[0m\u001b[0;34m\u001b[0m\u001b[0;34m\u001b[0m\u001b[0m\n\u001b[0m\u001b[1;32m    151\u001b[0m     \u001b[0;32mexcept\u001b[0m \u001b[0mException\u001b[0m \u001b[0;32mas\u001b[0m \u001b[0me\u001b[0m\u001b[0;34m:\u001b[0m\u001b[0;34m\u001b[0m\u001b[0;34m\u001b[0m\u001b[0m\n\u001b[1;32m    152\u001b[0m       \u001b[0mfiltered_tb\u001b[0m \u001b[0;34m=\u001b[0m \u001b[0m_process_traceback_frames\u001b[0m\u001b[0;34m(\u001b[0m\u001b[0me\u001b[0m\u001b[0;34m.\u001b[0m\u001b[0m__traceback__\u001b[0m\u001b[0;34m)\u001b[0m\u001b[0;34m\u001b[0m\u001b[0;34m\u001b[0m\u001b[0m\n",
            "\u001b[0;32m/usr/local/lib/python3.9/dist-packages/tensorflow/python/eager/polymorphic_function/polymorphic_function.py\u001b[0m in \u001b[0;36m__call__\u001b[0;34m(self, *args, **kwds)\u001b[0m\n\u001b[1;32m    892\u001b[0m \u001b[0;34m\u001b[0m\u001b[0m\n\u001b[1;32m    893\u001b[0m       \u001b[0;32mwith\u001b[0m \u001b[0mOptionalXlaContext\u001b[0m\u001b[0;34m(\u001b[0m\u001b[0mself\u001b[0m\u001b[0;34m.\u001b[0m\u001b[0m_jit_compile\u001b[0m\u001b[0;34m)\u001b[0m\u001b[0;34m:\u001b[0m\u001b[0;34m\u001b[0m\u001b[0;34m\u001b[0m\u001b[0m\n\u001b[0;32m--> 894\u001b[0;31m         \u001b[0mresult\u001b[0m \u001b[0;34m=\u001b[0m \u001b[0mself\u001b[0m\u001b[0;34m.\u001b[0m\u001b[0m_call\u001b[0m\u001b[0;34m(\u001b[0m\u001b[0;34m*\u001b[0m\u001b[0margs\u001b[0m\u001b[0;34m,\u001b[0m \u001b[0;34m**\u001b[0m\u001b[0mkwds\u001b[0m\u001b[0;34m)\u001b[0m\u001b[0;34m\u001b[0m\u001b[0;34m\u001b[0m\u001b[0m\n\u001b[0m\u001b[1;32m    895\u001b[0m \u001b[0;34m\u001b[0m\u001b[0m\n\u001b[1;32m    896\u001b[0m       \u001b[0mnew_tracing_count\u001b[0m \u001b[0;34m=\u001b[0m \u001b[0mself\u001b[0m\u001b[0;34m.\u001b[0m\u001b[0mexperimental_get_tracing_count\u001b[0m\u001b[0;34m(\u001b[0m\u001b[0;34m)\u001b[0m\u001b[0;34m\u001b[0m\u001b[0;34m\u001b[0m\u001b[0m\n",
            "\u001b[0;32m/usr/local/lib/python3.9/dist-packages/tensorflow/python/eager/polymorphic_function/polymorphic_function.py\u001b[0m in \u001b[0;36m_call\u001b[0;34m(self, *args, **kwds)\u001b[0m\n\u001b[1;32m    924\u001b[0m       \u001b[0;31m# In this case we have created variables on the first call, so we run the\u001b[0m\u001b[0;34m\u001b[0m\u001b[0;34m\u001b[0m\u001b[0m\n\u001b[1;32m    925\u001b[0m       \u001b[0;31m# defunned version which is guaranteed to never create variables.\u001b[0m\u001b[0;34m\u001b[0m\u001b[0;34m\u001b[0m\u001b[0m\n\u001b[0;32m--> 926\u001b[0;31m       \u001b[0;32mreturn\u001b[0m \u001b[0mself\u001b[0m\u001b[0;34m.\u001b[0m\u001b[0m_no_variable_creation_fn\u001b[0m\u001b[0;34m(\u001b[0m\u001b[0;34m*\u001b[0m\u001b[0margs\u001b[0m\u001b[0;34m,\u001b[0m \u001b[0;34m**\u001b[0m\u001b[0mkwds\u001b[0m\u001b[0;34m)\u001b[0m  \u001b[0;31m# pylint: disable=not-callable\u001b[0m\u001b[0;34m\u001b[0m\u001b[0;34m\u001b[0m\u001b[0m\n\u001b[0m\u001b[1;32m    927\u001b[0m     \u001b[0;32melif\u001b[0m \u001b[0mself\u001b[0m\u001b[0;34m.\u001b[0m\u001b[0m_variable_creation_fn\u001b[0m \u001b[0;32mis\u001b[0m \u001b[0;32mnot\u001b[0m \u001b[0;32mNone\u001b[0m\u001b[0;34m:\u001b[0m\u001b[0;34m\u001b[0m\u001b[0;34m\u001b[0m\u001b[0m\n\u001b[1;32m    928\u001b[0m       \u001b[0;31m# Release the lock early so that multiple threads can perform the call\u001b[0m\u001b[0;34m\u001b[0m\u001b[0;34m\u001b[0m\u001b[0m\n",
            "\u001b[0;32m/usr/local/lib/python3.9/dist-packages/tensorflow/python/eager/polymorphic_function/tracing_compiler.py\u001b[0m in \u001b[0;36m__call__\u001b[0;34m(self, *args, **kwargs)\u001b[0m\n\u001b[1;32m    141\u001b[0m       (concrete_function,\n\u001b[1;32m    142\u001b[0m        filtered_flat_args) = self._maybe_define_function(args, kwargs)\n\u001b[0;32m--> 143\u001b[0;31m     return concrete_function._call_flat(\n\u001b[0m\u001b[1;32m    144\u001b[0m         filtered_flat_args, captured_inputs=concrete_function.captured_inputs)  # pylint: disable=protected-access\n\u001b[1;32m    145\u001b[0m \u001b[0;34m\u001b[0m\u001b[0m\n",
            "\u001b[0;32m/usr/local/lib/python3.9/dist-packages/tensorflow/python/eager/polymorphic_function/monomorphic_function.py\u001b[0m in \u001b[0;36m_call_flat\u001b[0;34m(self, args, captured_inputs, cancellation_manager)\u001b[0m\n\u001b[1;32m   1755\u001b[0m         and executing_eagerly):\n\u001b[1;32m   1756\u001b[0m       \u001b[0;31m# No tape is watching; skip to running the function.\u001b[0m\u001b[0;34m\u001b[0m\u001b[0;34m\u001b[0m\u001b[0m\n\u001b[0;32m-> 1757\u001b[0;31m       return self._build_call_outputs(self._inference_function.call(\n\u001b[0m\u001b[1;32m   1758\u001b[0m           ctx, args, cancellation_manager=cancellation_manager))\n\u001b[1;32m   1759\u001b[0m     forward_backward = self._select_forward_and_backward_functions(\n",
            "\u001b[0;32m/usr/local/lib/python3.9/dist-packages/tensorflow/python/eager/polymorphic_function/monomorphic_function.py\u001b[0m in \u001b[0;36mcall\u001b[0;34m(self, ctx, args, cancellation_manager)\u001b[0m\n\u001b[1;32m    379\u001b[0m       \u001b[0;32mwith\u001b[0m \u001b[0m_InterpolateFunctionError\u001b[0m\u001b[0;34m(\u001b[0m\u001b[0mself\u001b[0m\u001b[0;34m)\u001b[0m\u001b[0;34m:\u001b[0m\u001b[0;34m\u001b[0m\u001b[0;34m\u001b[0m\u001b[0m\n\u001b[1;32m    380\u001b[0m         \u001b[0;32mif\u001b[0m \u001b[0mcancellation_manager\u001b[0m \u001b[0;32mis\u001b[0m \u001b[0;32mNone\u001b[0m\u001b[0;34m:\u001b[0m\u001b[0;34m\u001b[0m\u001b[0;34m\u001b[0m\u001b[0m\n\u001b[0;32m--> 381\u001b[0;31m           outputs = execute.execute(\n\u001b[0m\u001b[1;32m    382\u001b[0m               \u001b[0mstr\u001b[0m\u001b[0;34m(\u001b[0m\u001b[0mself\u001b[0m\u001b[0;34m.\u001b[0m\u001b[0msignature\u001b[0m\u001b[0;34m.\u001b[0m\u001b[0mname\u001b[0m\u001b[0;34m)\u001b[0m\u001b[0;34m,\u001b[0m\u001b[0;34m\u001b[0m\u001b[0;34m\u001b[0m\u001b[0m\n\u001b[1;32m    383\u001b[0m               \u001b[0mnum_outputs\u001b[0m\u001b[0;34m=\u001b[0m\u001b[0mself\u001b[0m\u001b[0;34m.\u001b[0m\u001b[0m_num_outputs\u001b[0m\u001b[0;34m,\u001b[0m\u001b[0;34m\u001b[0m\u001b[0;34m\u001b[0m\u001b[0m\n",
            "\u001b[0;32m/usr/local/lib/python3.9/dist-packages/tensorflow/python/eager/execute.py\u001b[0m in \u001b[0;36mquick_execute\u001b[0;34m(op_name, num_outputs, inputs, attrs, ctx, name)\u001b[0m\n\u001b[1;32m     50\u001b[0m   \u001b[0;32mtry\u001b[0m\u001b[0;34m:\u001b[0m\u001b[0;34m\u001b[0m\u001b[0;34m\u001b[0m\u001b[0m\n\u001b[1;32m     51\u001b[0m     \u001b[0mctx\u001b[0m\u001b[0;34m.\u001b[0m\u001b[0mensure_initialized\u001b[0m\u001b[0;34m(\u001b[0m\u001b[0;34m)\u001b[0m\u001b[0;34m\u001b[0m\u001b[0;34m\u001b[0m\u001b[0m\n\u001b[0;32m---> 52\u001b[0;31m     tensors = pywrap_tfe.TFE_Py_Execute(ctx._handle, device_name, op_name,\n\u001b[0m\u001b[1;32m     53\u001b[0m                                         inputs, attrs, num_outputs)\n\u001b[1;32m     54\u001b[0m   \u001b[0;32mexcept\u001b[0m \u001b[0mcore\u001b[0m\u001b[0;34m.\u001b[0m\u001b[0m_NotOkStatusException\u001b[0m \u001b[0;32mas\u001b[0m \u001b[0me\u001b[0m\u001b[0;34m:\u001b[0m\u001b[0;34m\u001b[0m\u001b[0;34m\u001b[0m\u001b[0m\n",
            "\u001b[0;31mKeyboardInterrupt\u001b[0m: "
          ]
        }
      ]
    },
    {
      "cell_type": "code",
      "source": [],
      "metadata": {
        "id": "LG8QCnezSKrw"
      },
      "execution_count": null,
      "outputs": []
    }
  ],
  "metadata": {
    "accelerator": "GPU",
    "colab": {
      "provenance": []
    },
    "gpuClass": "standard",
    "kernelspec": {
      "display_name": "Python 3",
      "name": "python3"
    },
    "language_info": {
      "name": "python"
    }
  },
  "nbformat": 4,
  "nbformat_minor": 0
}